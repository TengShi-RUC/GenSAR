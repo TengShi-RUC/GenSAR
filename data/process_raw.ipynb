{
 "cells": [
  {
   "cell_type": "code",
   "execution_count": 3,
   "metadata": {},
   "outputs": [
    {
     "name": "stdout",
     "output_type": "stream",
     "text": [
      "INFO: Pandarallel will run on 28 workers.\n",
      "INFO: Pandarallel will use Memory file system to transfer data between the main process and workers.\n"
     ]
    }
   ],
   "source": [
    "import os\n",
    "import random\n",
    "import gzip\n",
    "import json\n",
    "import numpy as np\n",
    "import pandas as pd\n",
    "from tqdm import tqdm\n",
    "import torch\n",
    "import html\n",
    "import re\n",
    "from sklearn.utils import shuffle\n",
    "import pickle\n",
    "\n",
    "from IPython.core.interactiveshell import InteractiveShell\n",
    "InteractiveShell.ast_node_interactivity = 'all'\n",
    "\n",
    "from pandarallel import pandarallel\n",
    "pandarallel.initialize(progress_bar=True)\n",
    "\n",
    "\n",
    "import warnings\n",
    "warnings.filterwarnings(\"ignore\")"
   ]
  },
  {
   "cell_type": "code",
   "execution_count": 2,
   "metadata": {},
   "outputs": [],
   "source": [
    "def setup_seed(seed):\n",
    "    torch.manual_seed(seed)\n",
    "    torch.cuda.manual_seed(seed)\n",
    "    torch.cuda.manual_seed_all(seed)\n",
    "    np.random.seed(seed)\n",
    "    random.seed(seed)\n",
    "    torch.backends.cudnn.benchmark = False\n",
    "    torch.backends.cudnn.deterministic = True\n",
    "    os.environ['PYTHONHASHSEED'] = str(seed)  # 为了禁止hash随机化，使得实验可复现\n",
    "\n",
    "setup_seed(2024)"
   ]
  },
  {
   "cell_type": "code",
   "execution_count": 3,
   "metadata": {},
   "outputs": [],
   "source": [
    "base_path = \"..\""
   ]
  },
  {
   "cell_type": "code",
   "execution_count": 4,
   "metadata": {},
   "outputs": [
    {
     "data": {
      "text/html": [
       "<div>\n",
       "<style scoped>\n",
       "    .dataframe tbody tr th:only-of-type {\n",
       "        vertical-align: middle;\n",
       "    }\n",
       "\n",
       "    .dataframe tbody tr th {\n",
       "        vertical-align: top;\n",
       "    }\n",
       "\n",
       "    .dataframe thead th {\n",
       "        text-align: right;\n",
       "    }\n",
       "</style>\n",
       "<table border=\"1\" class=\"dataframe\">\n",
       "  <thead>\n",
       "    <tr style=\"text-align: right;\">\n",
       "      <th></th>\n",
       "      <th>item_id</th>\n",
       "      <th>asin</th>\n",
       "      <th>title</th>\n",
       "      <th>description</th>\n",
       "      <th>brand</th>\n",
       "      <th>categories</th>\n",
       "      <th>text</th>\n",
       "    </tr>\n",
       "  </thead>\n",
       "  <tbody>\n",
       "    <tr>\n",
       "      <th>0</th>\n",
       "      <td>0</td>\n",
       "      <td>&lt;pad&gt;</td>\n",
       "      <td></td>\n",
       "      <td></td>\n",
       "      <td></td>\n",
       "      <td></td>\n",
       "      <td>NaN</td>\n",
       "    </tr>\n",
       "    <tr>\n",
       "      <th>1</th>\n",
       "      <td>1</td>\n",
       "      <td>0528881469</td>\n",
       "      <td>Rand McNally 528881469 7-inch Intelliroute TND...</td>\n",
       "      <td></td>\n",
       "      <td></td>\n",
       "      <td>Electronics,GPS &amp; Navigation,Vehicle GPS,Truck...</td>\n",
       "      <td>Rand McNally 528881469 7-inch Intelliroute TND...</td>\n",
       "    </tr>\n",
       "    <tr>\n",
       "      <th>2</th>\n",
       "      <td>2</td>\n",
       "      <td>0594451647</td>\n",
       "      <td>Barnes &amp; Noble HDTV Adapter Kit for NOOK HD an...</td>\n",
       "      <td>HDTV Adapter Kit for NOOK HD and NOOK HD+This ...</td>\n",
       "      <td></td>\n",
       "      <td>Electronics,Computers &amp; Accessories,Touch Scre...</td>\n",
       "      <td>Barnes &amp; Noble HDTV Adapter Kit for NOOK HD an...</td>\n",
       "    </tr>\n",
       "    <tr>\n",
       "      <th>3</th>\n",
       "      <td>3</td>\n",
       "      <td>0594481813</td>\n",
       "      <td>Barnes &amp; Noble OV/HB-ADP Universal Power Kit.</td>\n",
       "      <td>Power up your device with this Barnes &amp; Noble ...</td>\n",
       "      <td>Barnes &amp;amp; Noble</td>\n",
       "      <td>Electronics,eBook Readers &amp; Accessories,Power ...</td>\n",
       "      <td>Barnes &amp; Noble OV/HB-ADP Universal Power Kit. ...</td>\n",
       "    </tr>\n",
       "    <tr>\n",
       "      <th>4</th>\n",
       "      <td>4</td>\n",
       "      <td>0972683275</td>\n",
       "      <td>VideoSecu 24 Long Arm TV Wall Mount Low Profil...</td>\n",
       "      <td>The VideoSecu TV mount is a mounting solution ...</td>\n",
       "      <td>VideoSecu</td>\n",
       "      <td>Electronics,Accessories &amp; Supplies,Audio &amp; Vid...</td>\n",
       "      <td>VideoSecu 24 Long Arm TV Wall Mount Low Profil...</td>\n",
       "    </tr>\n",
       "  </tbody>\n",
       "</table>\n",
       "</div>"
      ],
      "text/plain": [
       "   item_id        asin                                              title  \\\n",
       "0        0       <pad>                                                      \n",
       "1        1  0528881469  Rand McNally 528881469 7-inch Intelliroute TND...   \n",
       "2        2  0594451647  Barnes & Noble HDTV Adapter Kit for NOOK HD an...   \n",
       "3        3  0594481813      Barnes & Noble OV/HB-ADP Universal Power Kit.   \n",
       "4        4  0972683275  VideoSecu 24 Long Arm TV Wall Mount Low Profil...   \n",
       "\n",
       "                                         description               brand  \\\n",
       "0                                                                          \n",
       "1                                                                          \n",
       "2  HDTV Adapter Kit for NOOK HD and NOOK HD+This ...                       \n",
       "3  Power up your device with this Barnes & Noble ...  Barnes &amp; Noble   \n",
       "4  The VideoSecu TV mount is a mounting solution ...           VideoSecu   \n",
       "\n",
       "                                          categories  \\\n",
       "0                                                      \n",
       "1  Electronics,GPS & Navigation,Vehicle GPS,Truck...   \n",
       "2  Electronics,Computers & Accessories,Touch Scre...   \n",
       "3  Electronics,eBook Readers & Accessories,Power ...   \n",
       "4  Electronics,Accessories & Supplies,Audio & Vid...   \n",
       "\n",
       "                                                text  \n",
       "0                                                NaN  \n",
       "1  Rand McNally 528881469 7-inch Intelliroute TND...  \n",
       "2  Barnes & Noble HDTV Adapter Kit for NOOK HD an...  \n",
       "3  Barnes & Noble OV/HB-ADP Universal Power Kit. ...  \n",
       "4  VideoSecu 24 Long Arm TV Wall Mount Low Profil...  "
      ]
     },
     "execution_count": 4,
     "metadata": {},
     "output_type": "execute_result"
    },
    {
     "data": {
      "text/plain": [
       "(62883, 7)"
      ]
     },
     "execution_count": 4,
     "metadata": {},
     "output_type": "execute_result"
    },
    {
     "data": {
      "text/plain": [
       "{'item_id': 1,\n",
       " 'asin': '0528881469',\n",
       " 'title': 'Rand McNally 528881469 7-inch Intelliroute TND 700 Truck GPS.',\n",
       " 'description': '',\n",
       " 'brand': '',\n",
       " 'categories': 'Electronics,GPS & Navigation,Vehicle GPS,Trucking GPS',\n",
       " 'text': 'Rand McNally 528881469 7-inch Intelliroute TND 700 Truck GPS. '}"
      ]
     },
     "execution_count": 4,
     "metadata": {},
     "output_type": "execute_result"
    },
    {
     "data": {
      "text/plain": [
       "62883"
      ]
     },
     "execution_count": 4,
     "metadata": {},
     "output_type": "execute_result"
    },
    {
     "data": {
      "text/plain": [
       "np.int64(62882)"
      ]
     },
     "execution_count": 4,
     "metadata": {},
     "output_type": "execute_result"
    }
   ],
   "source": [
    "item_features = pd.read_pickle(f\"{base_path}/raw_data/item_info.pkl\")\n",
    "item_features.head()\n",
    "item_features.shape\n",
    "\n",
    "item_vocab = item_features.set_index('item_id',drop=False).to_dict('index')\n",
    "item_vocab[1]\n",
    "\n",
    "item_features['item_id'].nunique()\n",
    "item_features['item_id'].max()"
   ]
  },
  {
   "cell_type": "markdown",
   "metadata": {},
   "source": [
    "### Build BM25 index"
   ]
  },
  {
   "cell_type": "code",
   "execution_count": 5,
   "metadata": {},
   "outputs": [
    {
     "data": {
      "text/html": [
       "<div>\n",
       "<style scoped>\n",
       "    .dataframe tbody tr th:only-of-type {\n",
       "        vertical-align: middle;\n",
       "    }\n",
       "\n",
       "    .dataframe tbody tr th {\n",
       "        vertical-align: top;\n",
       "    }\n",
       "\n",
       "    .dataframe thead th {\n",
       "        text-align: right;\n",
       "    }\n",
       "</style>\n",
       "<table border=\"1\" class=\"dataframe\">\n",
       "  <thead>\n",
       "    <tr style=\"text-align: right;\">\n",
       "      <th></th>\n",
       "      <th>item_id</th>\n",
       "      <th>asin</th>\n",
       "      <th>title</th>\n",
       "      <th>description</th>\n",
       "      <th>brand</th>\n",
       "      <th>categories</th>\n",
       "      <th>text</th>\n",
       "    </tr>\n",
       "  </thead>\n",
       "  <tbody>\n",
       "    <tr>\n",
       "      <th>0</th>\n",
       "      <td>0</td>\n",
       "      <td>&lt;pad&gt;</td>\n",
       "      <td></td>\n",
       "      <td></td>\n",
       "      <td></td>\n",
       "      <td></td>\n",
       "      <td>NaN</td>\n",
       "    </tr>\n",
       "    <tr>\n",
       "      <th>1</th>\n",
       "      <td>1</td>\n",
       "      <td>0528881469</td>\n",
       "      <td>Rand McNally 528881469 7-inch Intelliroute TND...</td>\n",
       "      <td></td>\n",
       "      <td></td>\n",
       "      <td>Electronics,GPS &amp; Navigation,Vehicle GPS,Truck...</td>\n",
       "      <td>Rand McNally 528881469 7-inch Intelliroute TND...</td>\n",
       "    </tr>\n",
       "    <tr>\n",
       "      <th>2</th>\n",
       "      <td>2</td>\n",
       "      <td>0594451647</td>\n",
       "      <td>Barnes &amp; Noble HDTV Adapter Kit for NOOK HD an...</td>\n",
       "      <td>HDTV Adapter Kit for NOOK HD and NOOK HD+This ...</td>\n",
       "      <td></td>\n",
       "      <td>Electronics,Computers &amp; Accessories,Touch Scre...</td>\n",
       "      <td>Barnes &amp; Noble HDTV Adapter Kit for NOOK HD an...</td>\n",
       "    </tr>\n",
       "    <tr>\n",
       "      <th>3</th>\n",
       "      <td>3</td>\n",
       "      <td>0594481813</td>\n",
       "      <td>Barnes &amp; Noble OV/HB-ADP Universal Power Kit.</td>\n",
       "      <td>Power up your device with this Barnes &amp; Noble ...</td>\n",
       "      <td>Barnes &amp;amp; Noble</td>\n",
       "      <td>Electronics,eBook Readers &amp; Accessories,Power ...</td>\n",
       "      <td>Barnes &amp; Noble OV/HB-ADP Universal Power Kit. ...</td>\n",
       "    </tr>\n",
       "    <tr>\n",
       "      <th>4</th>\n",
       "      <td>4</td>\n",
       "      <td>0972683275</td>\n",
       "      <td>VideoSecu 24 Long Arm TV Wall Mount Low Profil...</td>\n",
       "      <td>The VideoSecu TV mount is a mounting solution ...</td>\n",
       "      <td>VideoSecu</td>\n",
       "      <td>Electronics,Accessories &amp; Supplies,Audio &amp; Vid...</td>\n",
       "      <td>VideoSecu 24 Long Arm TV Wall Mount Low Profil...</td>\n",
       "    </tr>\n",
       "  </tbody>\n",
       "</table>\n",
       "</div>"
      ],
      "text/plain": [
       "   item_id        asin                                              title  \\\n",
       "0        0       <pad>                                                      \n",
       "1        1  0528881469  Rand McNally 528881469 7-inch Intelliroute TND...   \n",
       "2        2  0594451647  Barnes & Noble HDTV Adapter Kit for NOOK HD an...   \n",
       "3        3  0594481813      Barnes & Noble OV/HB-ADP Universal Power Kit.   \n",
       "4        4  0972683275  VideoSecu 24 Long Arm TV Wall Mount Low Profil...   \n",
       "\n",
       "                                         description               brand  \\\n",
       "0                                                                          \n",
       "1                                                                          \n",
       "2  HDTV Adapter Kit for NOOK HD and NOOK HD+This ...                       \n",
       "3  Power up your device with this Barnes & Noble ...  Barnes &amp; Noble   \n",
       "4  The VideoSecu TV mount is a mounting solution ...           VideoSecu   \n",
       "\n",
       "                                          categories  \\\n",
       "0                                                      \n",
       "1  Electronics,GPS & Navigation,Vehicle GPS,Truck...   \n",
       "2  Electronics,Computers & Accessories,Touch Scre...   \n",
       "3  Electronics,eBook Readers & Accessories,Power ...   \n",
       "4  Electronics,Accessories & Supplies,Audio & Vid...   \n",
       "\n",
       "                                                text  \n",
       "0                                                NaN  \n",
       "1  Rand McNally 528881469 7-inch Intelliroute TND...  \n",
       "2  Barnes & Noble HDTV Adapter Kit for NOOK HD an...  \n",
       "3  Barnes & Noble OV/HB-ADP Universal Power Kit. ...  \n",
       "4  VideoSecu 24 Long Arm TV Wall Mount Low Profil...  "
      ]
     },
     "execution_count": 5,
     "metadata": {},
     "output_type": "execute_result"
    },
    {
     "data": {
      "text/plain": [
       "(62883, 7)"
      ]
     },
     "execution_count": 5,
     "metadata": {},
     "output_type": "execute_result"
    }
   ],
   "source": [
    "item_features.head()\n",
    "item_features.shape"
   ]
  },
  {
   "cell_type": "code",
   "execution_count": 6,
   "metadata": {},
   "outputs": [
    {
     "data": {
      "application/vnd.jupyter.widget-view+json": {
       "model_id": "ddf64c9cb15f46b488c5f688502901d7",
       "version_major": 2,
       "version_minor": 0
      },
      "text/plain": [
       "VBox(children=(HBox(children=(IntProgress(value=0, description='0.00%', max=2246), Label(value='0 / 2246'))), …"
      ]
     },
     "metadata": {},
     "output_type": "display_data"
    }
   ],
   "source": [
    "# import jieba\n",
    "\n",
    "def get_item_text(row):\n",
    "    return ' '.join([row['title'], row['description']])\n",
    "    \n",
    "# get_item_text(all_item_df.iloc[1])\n",
    "\n",
    "item_features['text'] = item_features.parallel_apply(get_item_text, axis=1)"
   ]
  },
  {
   "cell_type": "code",
   "execution_count": 7,
   "metadata": {},
   "outputs": [
    {
     "data": {
      "text/plain": [
       "0         True\n",
       "1        False\n",
       "2        False\n",
       "3        False\n",
       "4        False\n",
       "         ...  \n",
       "62878    False\n",
       "62879    False\n",
       "62880    False\n",
       "62881    False\n",
       "62882    False\n",
       "Length: 62883, dtype: bool"
      ]
     },
     "execution_count": 7,
     "metadata": {},
     "output_type": "execute_result"
    },
    {
     "data": {
      "text/plain": [
       "np.int64(1)"
      ]
     },
     "execution_count": 7,
     "metadata": {},
     "output_type": "execute_result"
    }
   ],
   "source": [
    "def count_null_text(row):\n",
    "    row_text = row['text'].strip()\n",
    "    return len(row_text)==0\n",
    "\n",
    "item_df_null_text = item_features.apply(count_null_text,axis=1)\n",
    "item_df_null_text\n",
    "item_df_null_text.sum()"
   ]
  },
  {
   "cell_type": "code",
   "execution_count": 8,
   "metadata": {},
   "outputs": [
    {
     "data": {
      "text/html": [
       "<div>\n",
       "<style scoped>\n",
       "    .dataframe tbody tr th:only-of-type {\n",
       "        vertical-align: middle;\n",
       "    }\n",
       "\n",
       "    .dataframe tbody tr th {\n",
       "        vertical-align: top;\n",
       "    }\n",
       "\n",
       "    .dataframe thead th {\n",
       "        text-align: right;\n",
       "    }\n",
       "</style>\n",
       "<table border=\"1\" class=\"dataframe\">\n",
       "  <thead>\n",
       "    <tr style=\"text-align: right;\">\n",
       "      <th></th>\n",
       "      <th>id</th>\n",
       "      <th>contents</th>\n",
       "    </tr>\n",
       "  </thead>\n",
       "  <tbody>\n",
       "    <tr>\n",
       "      <th>0</th>\n",
       "      <td>0</td>\n",
       "      <td></td>\n",
       "    </tr>\n",
       "    <tr>\n",
       "      <th>1</th>\n",
       "      <td>1</td>\n",
       "      <td>Rand McNally 528881469 7-inch Intelliroute TND...</td>\n",
       "    </tr>\n",
       "    <tr>\n",
       "      <th>2</th>\n",
       "      <td>2</td>\n",
       "      <td>Barnes &amp; Noble HDTV Adapter Kit for NOOK HD an...</td>\n",
       "    </tr>\n",
       "    <tr>\n",
       "      <th>3</th>\n",
       "      <td>3</td>\n",
       "      <td>Barnes &amp; Noble OV/HB-ADP Universal Power Kit. ...</td>\n",
       "    </tr>\n",
       "    <tr>\n",
       "      <th>4</th>\n",
       "      <td>4</td>\n",
       "      <td>VideoSecu 24 Long Arm TV Wall Mount Low Profil...</td>\n",
       "    </tr>\n",
       "  </tbody>\n",
       "</table>\n",
       "</div>"
      ],
      "text/plain": [
       "  id                                           contents\n",
       "0  0                                                   \n",
       "1  1  Rand McNally 528881469 7-inch Intelliroute TND...\n",
       "2  2  Barnes & Noble HDTV Adapter Kit for NOOK HD an...\n",
       "3  3  Barnes & Noble OV/HB-ADP Universal Power Kit. ...\n",
       "4  4  VideoSecu 24 Long Arm TV Wall Mount Low Profil..."
      ]
     },
     "execution_count": 8,
     "metadata": {},
     "output_type": "execute_result"
    },
    {
     "data": {
      "text/plain": [
       "(62883, 2)"
      ]
     },
     "execution_count": 8,
     "metadata": {},
     "output_type": "execute_result"
    }
   ],
   "source": [
    "item_index = item_features[['item_id','text']].rename(columns={'item_id':'id', 'text':'contents'})\n",
    "item_index = item_index.astype({'id':'str', 'contents':'str'})\n",
    "item_index.head()\n",
    "item_index.shape"
   ]
  },
  {
   "cell_type": "code",
   "execution_count": 10,
   "metadata": {},
   "outputs": [],
   "source": [
    "json.dump(item_index.to_dict('records'), \n",
    "        open(('../item_corpus/corpus.json'), \"w\"), indent=4, ensure_ascii=False)"
   ]
  },
  {
   "cell_type": "code",
   "execution_count": 11,
   "metadata": {
    "scrolled": true
   },
   "outputs": [
    {
     "name": "stdout",
     "output_type": "stream",
     "text": [
      "[{'id': '0', 'contents': ' '}, {'id': '1', 'contents': 'Rand McNally 528881469 7-inch Intelliroute TND 700 Truck GPS. '}, {'id': '2', 'contents': \"Barnes & Noble HDTV Adapter Kit for NOOK HD and NOOK HD+. HDTV Adapter Kit for NOOK HD and NOOK HD+This handy kit enables you to stream content from your NOOK HD or NOOK HD+ to a high-definition TV, via the included adapter and High Speed HDMI Cable. The kit also includes a pass-through that allows you to charge your NOOK while streaming, so there's no danger of running out of battery power before you're done. (A compatible NOOK Power Kit is required for this function and is not included with the adapter kit.).\"}, {'id': '3', 'contents': 'Barnes & Noble OV/HB-ADP Universal Power Kit. Power up your device with this Barnes & Noble OV/HB-ADP Universal Power Kit._x000D_ _x000D_ This Universal Power Kit is specifically designed for your Nook HD and Nook HD+. The kit comes in handy in case you need to replace an old AV adapter or just happen to need a back up. Its retractable prongs make it more convenient for your digital lifestyle. Buy this Barnes & Noble OV/HB-ADP Universal Power Kit now!.'}, {'id': '4', 'contents': 'VideoSecu 24 Long Arm TV Wall Mount Low Profile Full Motion Cantilever Swing & Tilt wall bracket for most 22 to 55 LED LCD TV Monitor Flat Panel Screen VESA 200x200 400x400 up to 600x400mm - Articulating Arm Extend up to 24 MAH. The VideoSecu TV mount is a mounting solution for most 22-47 LCD LED Plasma TV and some LED up to 55. It fits VESA 600x400mm (24x16), 400x400mm (16x16), 400x200mm (16x8),300x300mm (12x12),200x200mm (8x8),200x100mm (8x4) mounting hole pattern on the back of your TV. Heavy gauge steel construction provides safety loading up to 66lbs display. The two-link arm design provides up to 180 degrees of swivel, 15 degrees tilt up or down, and 24 extension, make it easier for get perfect viewing angle. The removable VESA plate can be taken off for easy installation. Post-installation level adjustment allows the TV to perfectly level. The on arm cable management ring system design, guides wires and prevent cable pinching. Standard hardware and user manual included. Note: From Nov 27, 600x400 adapters are provided with this product.'}, {'id': '5', 'contents': 'Barnes & Noble NOOK Tablet 16gb (Color, BNTV250). Enjoy your digital books, magazines and newspapers in color, plus movies, TV shows and music from the top names including Netflix, Hulu Plus and Pandora. NOOK tablet features a 7 color touch-screen display with VividView technology for more than 16 million colors offering remarkable clarity and reduced reflection and glare. A 1.0GHz dual-core processor delivers lightning-fast Web browsing, video viewing and more. 16GB* of memory, expandable to 32GB plus free NOOK Cloud storage.'}, {'id': '6', 'contents': \"NOOK HD 7 16GB Tablet. For design, mobility, and performance; choose the NOOK HD Tablet. This tablet lets you read books, watch movies or stream online content. It features a 7 touchscreen for easy and accurate navigation. It's equipped with 16GB storage capacity so you can keep all your important documents, photos, videos, and music with you. The tablet includes a MicroSD card slot that allows you to expand storage space. With 802.11b/g/n Wi-Fi connectivity, you ensure a steady Internet connection. Experience mobile entertainment at its best with the NOOK HD Tablet.\"}, {'id': '7', 'contents': \"Barnes and Noble NOOK 7 8GB WiFi Tablet. HD videos stream smoothly. Web browsing is lightning-fast. Get books instantly- usually in under 10 seconds. Built for speed- switch between books, movies and games effortlessly. All it takes is a touch. (And a 1GHz dual core processor &amp; 512MB of RAM). NOOK Tablet has the top names in entertainment for the TV shows &amp; movies you love. Start the fun right away with Netflixand Hulu Plus pre-loaded to instantly watch HD movies &amp; popular TV shows. Free trials included. Stunning 7-inch multi-touch screen displays 16 million colors ultra-bright. Exclusive design for remarkable clarity and minimal reflection &amp; glare. It's the ultimate for reading and enjoying the best in entertainment. Enjoy the best apps. Games like Angry Birds &amp; Scrabble. Essentials like Taptu &amp; MyCast Weather. Favorites including Epicurious &amp; Drawing Pad. Plus pre-loaded Sudoku, Crosswords, Chess &amp;Pandora. Popular comics including the largest collection of Marvel graphic novels with vivid colors&amp; rich images, the action nearly jumps off the page. Your issues always in perfect condition to enjoy again and again Extra power and zip for lightning-fast Web browsing, smooth, streaming HD videos &amp; more w/Adobe Flash Player. Wikipedia or Google® look-ups right from the page of your book. Plus all your personal email in one inbox. With so much to do on NOOK Tablet, it's hard to put it down. So we made sure it has extra-long battery life-longerthan Kindle Fire. Read for 11.5 hours or watch 9 hours of video5 - that's 5 entire movies. All on asingle charge. 8 GB of storage, expandable with an SD card for your reading, apps, videos &amp; music even when you're not connected via Wi-Fi®. Plus free Nook CloudTM storage keeps everything safe &amp; secure. We've got you covered. Height.\"}, {'id': '8', 'contents': \"Barnes & Noble Nook eReader - no 3G. Barnes & Noble Nook eReader - no 3GMeet nook. Access to over one million eBooks, newspapers, and magazines downloaded wirelessly. Get bestsellers and new releases, your favorite eNewspapers, and eMagazines all delivered fast and free via Wi-Fi. Browse the vast Barnes and Noble eBookstore and sample any eBook for free.Choose an eBook using the beautiful color touch screen, then watch it appear instantly onthe E Ink display, where text appears as crisp asa printed page. The 16-level gray scale display offers great contrast with no glare or backlight. Choose from five font sizes so you can read with ease.Features:* No reading glasses required! Choose from 5 different font sizes so you can read with ease. The best-in-class E Ink display witha 16-bit gray scale offers great contrast with noglare or backlight making for hours of reading enjoyment.* Endless shelf space. Store as many as1,500 eBooks, eNewspapers, and eMagazines on yournook's 2 GB of internal storage, so you'll never be without your favorites. Need more space? Just add a Micro SD card.* Download eBooks in seconds. Sample eBooks for free just about anywhere you are, on us. Browse eBooks, magazines and newspaperson Wi-Fi. And every Barnes & Noble has free Wi-Fi, so you can connect at lightning-fast speeds.*Get endless shelf space. With 2GB of memory, nookstores up to 1,500 books, newspapers and magazines. Need even more space? Just add a memory card. An entire library light enough to take with you everywhere, so you'll never be without your favorites.* Free Reading: Try before you buy. Download afree sample of any eBook we sell to discover new authors and check out today's most talked about books for free. Find something you like? It's easy to buy and download the titles you want in seconds.* Reading Now: Use Reading Now, your virtual bookmark, to bring you back to the last book you've read, right where you left off. Coming soon, if you forget your NOOK at home.\"}, {'id': '9', 'contents': \"Barnes & Noble Nook Color eReader. Barnes & Noble Nook Color eReaderStunning 7-inch color touchscreen; Magazines & newspapers in rich color; Kids'books come alive; Over 2 million titles at your fingertips; Get social, surf the web, play games, even listen to music.Features:* Color Touchscreen: Nothing brings your reading to life like our VividViewTM Color Touchscreen. The rich high resolution backlit display uses more than 16 millioncolors to illuminate stunning images and crisp text for easy reading day or night.* Built-in Wi-Fi: NOOKcolor lets you go beyond reading with our built-in Wi-Fi connection. Surf the web, check your email, read a favorite blog or search Google it's all just a touch away.* Share and Recommend: The exclusive LendMe app lets you lend and borrow books from friends, all with just a few taps. You can also share passages and recommend books right from the page you're reading via Facebook or Twitter. * Make it Yours: From designing your home page to personalizing your bookshelves or choosing just the right font, NOOKcolor lets you create a customized reading experience that you can really call your own. * Just for You: Get ideas for books you'll love with our exclusive NOOKbook Personal Shopping. Our expert booksellers will make recommendations based on books you like, so you can enjoy one great read after another. * Fun with NOOKextras: Kick back and have a little fun with the growing array of exclusive NOOKextras. Crossword puzzles, Sudoku, Chess and Pandora internet radio are among the fun additions to the NOOKcolor experience. * A Library Without Limits: With 8GB of space and expandable memory, your library has virtually no limits. Hold thousands of books, magazines, newspapers, kids' books, songs and photos. And our Lifetime LibraryTM makes sure all your reading is safely stored so you always have access to it, anytime, anywhere.* Read in Style: A full range of high-quality accessories to enhance your NOOKcolor experience. Cover.\"}]\n"
     ]
    }
   ],
   "source": [
    "print(item_index.iloc[:10].to_dict(orient='records'))"
   ]
  },
  {
   "cell_type": "markdown",
   "metadata": {},
   "source": [
    "python -m pyserini.index.lucene --collection JsonCollection --input item_corpus --index item_index --generator DefaultLuceneDocumentGenerator --threads 1 --storePositions --storeDocvectors --storeRaw"
   ]
  },
  {
   "cell_type": "code",
   "execution_count": null,
   "metadata": {
    "scrolled": true
   },
   "outputs": [],
   "source": [
    "from pyserini.search.lucene import LuceneSearcher\n",
    "\n",
    "searcher = LuceneSearcher('../item_index')"
   ]
  },
  {
   "cell_type": "code",
   "execution_count": 13,
   "metadata": {},
   "outputs": [
    {
     "name": "stdout",
     "output_type": "stream",
     "text": [
      " 1 46328 12.88880\n",
      " 2 56506 10.71190\n",
      " 3 37479 10.67840\n",
      " 4 37608 10.67840\n",
      " 5 39277 10.61220\n",
      " 6 58029 10.61220\n",
      " 7 1    10.57940\n",
      " 8 43342 10.57940\n",
      " 9 51788 10.54670\n",
      "10 46327 10.51430\n"
     ]
    }
   ],
   "source": [
    "hits = searcher.search('Rand McNally', k=10)\n",
    "\n",
    "for i in range(len(hits)):\n",
    "    print(f'{i+1:2} {hits[i].docid:4} {hits[i].score:.5f}')"
   ]
  },
  {
   "cell_type": "code",
   "execution_count": 14,
   "metadata": {},
   "outputs": [
    {
     "data": {
      "text/plain": [
       "{'item_id': 46328,\n",
       " 'asin': 'B006ZOI9YY',\n",
       " 'title': 'Rand McNally 7-Inch GPS Hard Case.',\n",
       " 'description': 'Rand Mcnally 0528005197 7 GPS Hard Case.',\n",
       " 'brand': 'Rand McNally',\n",
       " 'categories': 'Electronics,GPS & Navigation,GPS System Accessories,Cases',\n",
       " 'text': 'Rand McNally 7-Inch GPS Hard Case. Rand Mcnally 0528005197 7 GPS Hard Case.'}"
      ]
     },
     "execution_count": 14,
     "metadata": {},
     "output_type": "execute_result"
    }
   ],
   "source": [
    "item_vocab[46328]"
   ]
  },
  {
   "cell_type": "code",
   "execution_count": 15,
   "metadata": {},
   "outputs": [
    {
     "data": {
      "text/plain": [
       "983"
      ]
     },
     "execution_count": 15,
     "metadata": {},
     "output_type": "execute_result"
    },
    {
     "data": {
      "text/plain": [
       "'supplies office electronics accessory projection screen'"
      ]
     },
     "execution_count": 15,
     "metadata": {},
     "output_type": "execute_result"
    }
   ],
   "source": [
    "query_vocab = pickle.load(open('../vocab/query_vocab.pkl', 'rb'))\n",
    "len(query_vocab)\n",
    "query_vocab[1]['query']"
   ]
  },
  {
   "cell_type": "markdown",
   "metadata": {},
   "source": [
    "## Load data"
   ]
  },
  {
   "cell_type": "code",
   "execution_count": 16,
   "metadata": {},
   "outputs": [
    {
     "data": {
      "text/html": [
       "<div>\n",
       "<style scoped>\n",
       "    .dataframe tbody tr th:only-of-type {\n",
       "        vertical-align: middle;\n",
       "    }\n",
       "\n",
       "    .dataframe tbody tr th {\n",
       "        vertical-align: top;\n",
       "    }\n",
       "\n",
       "    .dataframe thead th {\n",
       "        text-align: right;\n",
       "    }\n",
       "</style>\n",
       "<table border=\"1\" class=\"dataframe\">\n",
       "  <thead>\n",
       "    <tr style=\"text-align: right;\">\n",
       "      <th></th>\n",
       "      <th>user</th>\n",
       "      <th>user_id</th>\n",
       "    </tr>\n",
       "  </thead>\n",
       "  <tbody>\n",
       "    <tr>\n",
       "      <th>0</th>\n",
       "      <td>A26ITT1SYI2M80</td>\n",
       "      <td>60375</td>\n",
       "    </tr>\n",
       "    <tr>\n",
       "      <th>1</th>\n",
       "      <td>A1Y3TXS72GQQ4W</td>\n",
       "      <td>48445</td>\n",
       "    </tr>\n",
       "    <tr>\n",
       "      <th>2</th>\n",
       "      <td>ATDC6GCUBYPVJ</td>\n",
       "      <td>183215</td>\n",
       "    </tr>\n",
       "    <tr>\n",
       "      <th>3</th>\n",
       "      <td>A1RWIXUIPWK5RS</td>\n",
       "      <td>39731</td>\n",
       "    </tr>\n",
       "    <tr>\n",
       "      <th>4</th>\n",
       "      <td>A2IXJ6Q88KCH2I</td>\n",
       "      <td>77600</td>\n",
       "    </tr>\n",
       "  </tbody>\n",
       "</table>\n",
       "</div>"
      ],
      "text/plain": [
       "             user user_id\n",
       "0  A26ITT1SYI2M80   60375\n",
       "1  A1Y3TXS72GQQ4W   48445\n",
       "2   ATDC6GCUBYPVJ  183215\n",
       "3  A1RWIXUIPWK5RS   39731\n",
       "4  A2IXJ6Q88KCH2I   77600"
      ]
     },
     "execution_count": 16,
     "metadata": {},
     "output_type": "execute_result"
    },
    {
     "data": {
      "text/plain": [
       "{'user': 'A000715434M800HLCENK9', 'user_id': 0}"
      ]
     },
     "execution_count": 16,
     "metadata": {},
     "output_type": "execute_result"
    },
    {
     "data": {
      "text/plain": [
       "192403"
      ]
     },
     "execution_count": 16,
     "metadata": {},
     "output_type": "execute_result"
    }
   ],
   "source": [
    "user_features = pd.read_pickle(f\"{base_path}/raw_data/user_profile.pkl\")\n",
    "user_features.head()\n",
    "\n",
    "user_vocab = user_features.set_index('user_id',drop=False).to_dict('index')\n",
    "user_vocab[0]\n",
    "\n",
    "user_features['user_id'].nunique()"
   ]
  },
  {
   "cell_type": "code",
   "execution_count": 17,
   "metadata": {},
   "outputs": [
    {
     "data": {
      "text/html": [
       "<div>\n",
       "<style scoped>\n",
       "    .dataframe tbody tr th:only-of-type {\n",
       "        vertical-align: middle;\n",
       "    }\n",
       "\n",
       "    .dataframe tbody tr th {\n",
       "        vertical-align: top;\n",
       "    }\n",
       "\n",
       "    .dataframe thead th {\n",
       "        text-align: right;\n",
       "    }\n",
       "</style>\n",
       "<table border=\"1\" class=\"dataframe\">\n",
       "  <thead>\n",
       "    <tr style=\"text-align: right;\">\n",
       "      <th></th>\n",
       "      <th>user_id</th>\n",
       "      <th>item_id</th>\n",
       "      <th>score</th>\n",
       "      <th>ts</th>\n",
       "    </tr>\n",
       "  </thead>\n",
       "  <tbody>\n",
       "    <tr>\n",
       "      <th>0</th>\n",
       "      <td>0</td>\n",
       "      <td>13169</td>\n",
       "      <td>1.0</td>\n",
       "      <td>1400457600</td>\n",
       "    </tr>\n",
       "    <tr>\n",
       "      <th>1</th>\n",
       "      <td>0</td>\n",
       "      <td>17983</td>\n",
       "      <td>5.0</td>\n",
       "      <td>1400457600</td>\n",
       "    </tr>\n",
       "    <tr>\n",
       "      <th>2</th>\n",
       "      <td>0</td>\n",
       "      <td>28305</td>\n",
       "      <td>3.0</td>\n",
       "      <td>1400457600</td>\n",
       "    </tr>\n",
       "    <tr>\n",
       "      <th>3</th>\n",
       "      <td>0</td>\n",
       "      <td>29220</td>\n",
       "      <td>2.0</td>\n",
       "      <td>1400457600</td>\n",
       "    </tr>\n",
       "    <tr>\n",
       "      <th>4</th>\n",
       "      <td>0</td>\n",
       "      <td>62158</td>\n",
       "      <td>5.0</td>\n",
       "      <td>1400457600</td>\n",
       "    </tr>\n",
       "  </tbody>\n",
       "</table>\n",
       "</div>"
      ],
      "text/plain": [
       "   user_id  item_id  score          ts\n",
       "0        0    13169    1.0  1400457600\n",
       "1        0    17983    5.0  1400457600\n",
       "2        0    28305    3.0  1400457600\n",
       "3        0    29220    2.0  1400457600\n",
       "4        0    62158    5.0  1400457600"
      ]
     },
     "execution_count": 17,
     "metadata": {},
     "output_type": "execute_result"
    },
    {
     "data": {
      "text/plain": [
       "(1684135, 4)"
      ]
     },
     "execution_count": 17,
     "metadata": {},
     "output_type": "execute_result"
    }
   ],
   "source": [
    "rec_inter = pd.read_pickle(f\"{base_path}/raw_data/rec_inter.pkl\")\n",
    "rec_inter.head()\n",
    "rec_inter.shape"
   ]
  },
  {
   "cell_type": "code",
   "execution_count": 18,
   "metadata": {},
   "outputs": [
    {
     "data": {
      "text/html": [
       "<div>\n",
       "<style scoped>\n",
       "    .dataframe tbody tr th:only-of-type {\n",
       "        vertical-align: middle;\n",
       "    }\n",
       "\n",
       "    .dataframe tbody tr th {\n",
       "        vertical-align: top;\n",
       "    }\n",
       "\n",
       "    .dataframe thead th {\n",
       "        text-align: right;\n",
       "    }\n",
       "</style>\n",
       "<table border=\"1\" class=\"dataframe\">\n",
       "  <thead>\n",
       "    <tr style=\"text-align: right;\">\n",
       "      <th></th>\n",
       "      <th>user_id</th>\n",
       "      <th>item_id</th>\n",
       "      <th>search_session_id</th>\n",
       "      <th>ts</th>\n",
       "      <th>keyword</th>\n",
       "      <th>query_id</th>\n",
       "    </tr>\n",
       "  </thead>\n",
       "  <tbody>\n",
       "    <tr>\n",
       "      <th>0</th>\n",
       "      <td>0</td>\n",
       "      <td>13169</td>\n",
       "      <td>1</td>\n",
       "      <td>1400457600</td>\n",
       "      <td>[1, 2, 3, 4, 5, 6]</td>\n",
       "      <td>1</td>\n",
       "    </tr>\n",
       "    <tr>\n",
       "      <th>1</th>\n",
       "      <td>0</td>\n",
       "      <td>17983</td>\n",
       "      <td>2</td>\n",
       "      <td>1400457600</td>\n",
       "      <td>[3, 7, 8, 9, 10, 11, 4, 12, 13]</td>\n",
       "      <td>2</td>\n",
       "    </tr>\n",
       "    <tr>\n",
       "      <th>2</th>\n",
       "      <td>0</td>\n",
       "      <td>29220</td>\n",
       "      <td>3</td>\n",
       "      <td>1400457600</td>\n",
       "      <td>[3, 1, 8, 4, 14, 9, 15, 16]</td>\n",
       "      <td>3</td>\n",
       "    </tr>\n",
       "    <tr>\n",
       "      <th>3</th>\n",
       "      <td>0</td>\n",
       "      <td>62158</td>\n",
       "      <td>4</td>\n",
       "      <td>1400457600</td>\n",
       "      <td>[3, 17, 18, 19, 20]</td>\n",
       "      <td>4</td>\n",
       "    </tr>\n",
       "    <tr>\n",
       "      <th>4</th>\n",
       "      <td>1</td>\n",
       "      <td>58032</td>\n",
       "      <td>5</td>\n",
       "      <td>1379548800</td>\n",
       "      <td>[3, 21, 4, 22]</td>\n",
       "      <td>5</td>\n",
       "    </tr>\n",
       "  </tbody>\n",
       "</table>\n",
       "</div>"
      ],
      "text/plain": [
       "   user_id  item_id  search_session_id          ts  \\\n",
       "0        0    13169                  1  1400457600   \n",
       "1        0    17983                  2  1400457600   \n",
       "2        0    29220                  3  1400457600   \n",
       "3        0    62158                  4  1400457600   \n",
       "4        1    58032                  5  1379548800   \n",
       "\n",
       "                           keyword  query_id  \n",
       "0               [1, 2, 3, 4, 5, 6]         1  \n",
       "1  [3, 7, 8, 9, 10, 11, 4, 12, 13]         2  \n",
       "2      [3, 1, 8, 4, 14, 9, 15, 16]         3  \n",
       "3              [3, 17, 18, 19, 20]         4  \n",
       "4                   [3, 21, 4, 22]         5  "
      ]
     },
     "execution_count": 18,
     "metadata": {},
     "output_type": "execute_result"
    },
    {
     "data": {
      "text/plain": [
       "(1275989, 6)"
      ]
     },
     "execution_count": 18,
     "metadata": {},
     "output_type": "execute_result"
    }
   ],
   "source": [
    "src_inter = pd.read_pickle(f\"{base_path}/raw_data/src_inter.pkl\")\n",
    "src_inter.head()\n",
    "src_inter.shape"
   ]
  },
  {
   "cell_type": "code",
   "execution_count": 19,
   "metadata": {},
   "outputs": [
    {
     "data": {
      "text/html": [
       "<div>\n",
       "<style scoped>\n",
       "    .dataframe tbody tr th:only-of-type {\n",
       "        vertical-align: middle;\n",
       "    }\n",
       "\n",
       "    .dataframe tbody tr th {\n",
       "        vertical-align: top;\n",
       "    }\n",
       "\n",
       "    .dataframe thead th {\n",
       "        text-align: right;\n",
       "    }\n",
       "</style>\n",
       "<table border=\"1\" class=\"dataframe\">\n",
       "  <thead>\n",
       "    <tr style=\"text-align: right;\">\n",
       "      <th></th>\n",
       "      <th>search_session_id</th>\n",
       "      <th>pos_items</th>\n",
       "      <th>keyword</th>\n",
       "      <th>query_id</th>\n",
       "      <th>click_list</th>\n",
       "      <th>time_list</th>\n",
       "    </tr>\n",
       "  </thead>\n",
       "  <tbody>\n",
       "    <tr>\n",
       "      <th>0</th>\n",
       "      <td>1</td>\n",
       "      <td>[13169]</td>\n",
       "      <td>[1, 2, 3, 4, 5, 6]</td>\n",
       "      <td>1</td>\n",
       "      <td>[1]</td>\n",
       "      <td>[1400457600]</td>\n",
       "    </tr>\n",
       "    <tr>\n",
       "      <th>1</th>\n",
       "      <td>2</td>\n",
       "      <td>[17983]</td>\n",
       "      <td>[3, 7, 8, 9, 10, 11, 4, 12, 13]</td>\n",
       "      <td>2</td>\n",
       "      <td>[1]</td>\n",
       "      <td>[1400457600]</td>\n",
       "    </tr>\n",
       "    <tr>\n",
       "      <th>2</th>\n",
       "      <td>3</td>\n",
       "      <td>[29220]</td>\n",
       "      <td>[3, 1, 8, 4, 14, 9, 15, 16]</td>\n",
       "      <td>3</td>\n",
       "      <td>[1]</td>\n",
       "      <td>[1400457600]</td>\n",
       "    </tr>\n",
       "    <tr>\n",
       "      <th>3</th>\n",
       "      <td>4</td>\n",
       "      <td>[62158]</td>\n",
       "      <td>[3, 17, 18, 19, 20]</td>\n",
       "      <td>4</td>\n",
       "      <td>[1]</td>\n",
       "      <td>[1400457600]</td>\n",
       "    </tr>\n",
       "    <tr>\n",
       "      <th>4</th>\n",
       "      <td>5</td>\n",
       "      <td>[58032]</td>\n",
       "      <td>[3, 21, 4, 22]</td>\n",
       "      <td>5</td>\n",
       "      <td>[1]</td>\n",
       "      <td>[1379548800]</td>\n",
       "    </tr>\n",
       "  </tbody>\n",
       "</table>\n",
       "</div>"
      ],
      "text/plain": [
       "   search_session_id pos_items                          keyword  query_id  \\\n",
       "0                  1   [13169]               [1, 2, 3, 4, 5, 6]         1   \n",
       "1                  2   [17983]  [3, 7, 8, 9, 10, 11, 4, 12, 13]         2   \n",
       "2                  3   [29220]      [3, 1, 8, 4, 14, 9, 15, 16]         3   \n",
       "3                  4   [62158]              [3, 17, 18, 19, 20]         4   \n",
       "4                  5   [58032]                   [3, 21, 4, 22]         5   \n",
       "\n",
       "  click_list     time_list  \n",
       "0        [1]  [1400457600]  \n",
       "1        [1]  [1400457600]  \n",
       "2        [1]  [1400457600]  \n",
       "3        [1]  [1400457600]  \n",
       "4        [1]  [1379548800]  "
      ]
     },
     "execution_count": 19,
     "metadata": {},
     "output_type": "execute_result"
    },
    {
     "data": {
      "text/plain": [
       "(1275989, 6)"
      ]
     },
     "execution_count": 19,
     "metadata": {},
     "output_type": "execute_result"
    }
   ],
   "source": [
    "session_info = pd.read_pickle(f\"{base_path}/raw_data/session_info.pkl\")\n",
    "session_info.head()\n",
    "session_info.shape"
   ]
  },
  {
   "cell_type": "code",
   "execution_count": 20,
   "metadata": {},
   "outputs": [],
   "source": [
    "session_vocab = session_info.set_index('search_session_id',drop=False).to_dict('index')"
   ]
  },
  {
   "cell_type": "code",
   "execution_count": 21,
   "metadata": {},
   "outputs": [
    {
     "data": {
      "text/plain": [
       "62882"
      ]
     },
     "execution_count": 21,
     "metadata": {},
     "output_type": "execute_result"
    },
    {
     "data": {
      "text/plain": [
       "62874"
      ]
     },
     "execution_count": 21,
     "metadata": {},
     "output_type": "execute_result"
    },
    {
     "data": {
      "text/plain": [
       "62882"
      ]
     },
     "execution_count": 21,
     "metadata": {},
     "output_type": "execute_result"
    },
    {
     "data": {
      "text/plain": [
       "62874"
      ]
     },
     "execution_count": 21,
     "metadata": {},
     "output_type": "execute_result"
    }
   ],
   "source": [
    "rec_item_set = set(rec_inter['item_id'].unique())\n",
    "src_item_set = set(src_inter['item_id'].unique())\n",
    "\n",
    "len(rec_item_set)\n",
    "len(src_item_set)\n",
    "len(rec_item_set | src_item_set)\n",
    "len(rec_item_set & src_item_set)"
   ]
  },
  {
   "cell_type": "code",
   "execution_count": 22,
   "metadata": {},
   "outputs": [
    {
     "data": {
      "text/plain": [
       "192403"
      ]
     },
     "execution_count": 22,
     "metadata": {},
     "output_type": "execute_result"
    },
    {
     "data": {
      "text/plain": [
       "192403"
      ]
     },
     "execution_count": 22,
     "metadata": {},
     "output_type": "execute_result"
    },
    {
     "data": {
      "text/plain": [
       "192403"
      ]
     },
     "execution_count": 22,
     "metadata": {},
     "output_type": "execute_result"
    },
    {
     "data": {
      "text/plain": [
       "192403"
      ]
     },
     "execution_count": 22,
     "metadata": {},
     "output_type": "execute_result"
    }
   ],
   "source": [
    "rec_user_set = set(rec_inter['user_id'].unique())\n",
    "src_user_set = set(src_inter['user_id'].unique())\n",
    "\n",
    "len(rec_user_set)\n",
    "len(src_user_set)\n",
    "len(rec_user_set | src_user_set)\n",
    "len(rec_user_set & src_user_set)"
   ]
  },
  {
   "cell_type": "code",
   "execution_count": 23,
   "metadata": {},
   "outputs": [
    {
     "data": {
      "text/html": [
       "<div>\n",
       "<style scoped>\n",
       "    .dataframe tbody tr th:only-of-type {\n",
       "        vertical-align: middle;\n",
       "    }\n",
       "\n",
       "    .dataframe tbody tr th {\n",
       "        vertical-align: top;\n",
       "    }\n",
       "\n",
       "    .dataframe thead th {\n",
       "        text-align: right;\n",
       "    }\n",
       "</style>\n",
       "<table border=\"1\" class=\"dataframe\">\n",
       "  <thead>\n",
       "    <tr style=\"text-align: right;\">\n",
       "      <th></th>\n",
       "      <th>user_id</th>\n",
       "      <th>item_id</th>\n",
       "      <th>ts</th>\n",
       "      <th>score</th>\n",
       "      <th>search_session_id</th>\n",
       "      <th>behavior</th>\n",
       "    </tr>\n",
       "  </thead>\n",
       "  <tbody>\n",
       "    <tr>\n",
       "      <th>0</th>\n",
       "      <td>0</td>\n",
       "      <td>13169</td>\n",
       "      <td>1400457600</td>\n",
       "      <td>1.0</td>\n",
       "      <td>nan</td>\n",
       "      <td>1</td>\n",
       "    </tr>\n",
       "    <tr>\n",
       "      <th>1</th>\n",
       "      <td>0</td>\n",
       "      <td>29220</td>\n",
       "      <td>1400457600</td>\n",
       "      <td>2.0</td>\n",
       "      <td>nan</td>\n",
       "      <td>1</td>\n",
       "    </tr>\n",
       "    <tr>\n",
       "      <th>2</th>\n",
       "      <td>0</td>\n",
       "      <td>28305</td>\n",
       "      <td>1400457600</td>\n",
       "      <td>3.0</td>\n",
       "      <td>nan</td>\n",
       "      <td>1</td>\n",
       "    </tr>\n",
       "    <tr>\n",
       "      <th>3</th>\n",
       "      <td>0</td>\n",
       "      <td>17983</td>\n",
       "      <td>1400457600</td>\n",
       "      <td>5.0</td>\n",
       "      <td>nan</td>\n",
       "      <td>1</td>\n",
       "    </tr>\n",
       "    <tr>\n",
       "      <th>4</th>\n",
       "      <td>0</td>\n",
       "      <td>62158</td>\n",
       "      <td>1400457600</td>\n",
       "      <td>5.0</td>\n",
       "      <td>nan</td>\n",
       "      <td>1</td>\n",
       "    </tr>\n",
       "  </tbody>\n",
       "</table>\n",
       "</div>"
      ],
      "text/plain": [
       "   user_id item_id          ts  score search_session_id  behavior\n",
       "0        0   13169  1400457600    1.0               nan         1\n",
       "1        0   29220  1400457600    2.0               nan         1\n",
       "2        0   28305  1400457600    3.0               nan         1\n",
       "3        0   17983  1400457600    5.0               nan         1\n",
       "4        0   62158  1400457600    5.0               nan         1"
      ]
     },
     "execution_count": 23,
     "metadata": {},
     "output_type": "execute_result"
    }
   ],
   "source": [
    "sub_rec_inter = rec_inter[['user_id','item_id','ts','score']].copy()\n",
    "sub_rec_inter['search_session_id'] = 'nan'\n",
    "sub_rec_inter['behavior'] = 1\n",
    "\n",
    "sub_session_src_inter = src_inter[['user_id','ts','search_session_id']].copy()\n",
    "sub_session_src_inter['item_id'] = 'nan'\n",
    "sub_session_src_inter['behavior'] = 2\n",
    "sub_session_src_inter['score'] = 10000\n",
    "\n",
    "sar_inter = pd.concat([sub_rec_inter,sub_session_src_inter],axis=0)\n",
    "sar_inter = sar_inter.sort_values(by=['user_id','ts','score']).reset_index(drop=True)\n",
    "sar_inter.head()"
   ]
  },
  {
   "cell_type": "code",
   "execution_count": 24,
   "metadata": {},
   "outputs": [
    {
     "name": "stderr",
     "output_type": "stream",
     "text": [
      "2960124it [04:44, 10412.19it/s]\n"
     ]
    }
   ],
   "source": [
    "# user_vocab = {}\n",
    "for key in rec_inter['user_id'].unique():\n",
    "    # user_vocab[key] = {}\n",
    "\n",
    "    user_vocab[key]['rec_his'] = []\n",
    "    user_vocab[key]['rec_his_ts'] = []\n",
    "    user_vocab[key]['src_session_his'] = []\n",
    "    user_vocab[key]['src_session_his_ts'] = []\n",
    "    user_vocab[key]['src_his'] = []\n",
    "    user_vocab[key]['src_his_ts'] = []\n",
    "    user_vocab[key]['src_his_query'] = []\n",
    "    user_vocab[key]['all_his'] = []\n",
    "    user_vocab[key]['all_his_ts'] = []\n",
    "    user_vocab[key]['all_his_query'] = []\n",
    "\n",
    "new_sar_inter_list = []\n",
    "for _, line in tqdm(sar_inter.iterrows()):\n",
    "    user_id, item_id, timestamp,\\\n",
    "        search_session_id, behavior = line['user_id'], line['item_id'], \\\n",
    "            line['ts'], line['search_session_id'], line['behavior']\n",
    "    \n",
    "    cur_rec_his_len = len(user_vocab[user_id]['rec_his'])\n",
    "    cur_src_session_his_len = len(user_vocab[user_id]['src_session_his'])\n",
    "    cur_src_his_len = len(user_vocab[user_id]['src_his'])\n",
    "    cur_all_his_len = len(user_vocab[user_id]['all_his'])\n",
    "\n",
    "    if behavior == 2:\n",
    "        if session_vocab[search_session_id]['pos_items'][0] == user_vocab[user_id]['rec_his'][-1]:\n",
    "            cur_rec_his_len -= 1\n",
    "    \n",
    "    # if (cur_rec_his_len > 0) and (cur_src_session_his_len > 0):\n",
    "    new_sar_inter_list.append((user_id,item_id,timestamp, search_session_id,behavior,\\\n",
    "                               cur_rec_his_len,cur_src_session_his_len,cur_src_his_len,cur_all_his_len))\n",
    "\n",
    "    if behavior == 1:\n",
    "        user_vocab[user_id]['rec_his'].append(item_id)\n",
    "        user_vocab[user_id]['rec_his_ts'].append(timestamp)\n",
    "        user_vocab[user_id]['all_his'].append(item_id)\n",
    "        user_vocab[user_id]['all_his_ts'].append(timestamp)\n",
    "        user_vocab[user_id]['all_his_query'].append(0)\n",
    "    elif behavior == 2:\n",
    "        user_vocab[user_id]['src_session_his'].append(search_session_id)\n",
    "        user_vocab[user_id]['src_session_his_ts'].append(timestamp)\n",
    "\n",
    "        cur_query = session_vocab[search_session_id]['keyword']\n",
    "        # cur_query = session_vocab[search_session_id]['query_id']\n",
    "\n",
    "        cur_session_pos = session_vocab[search_session_id]['pos_items']\n",
    "        user_vocab[user_id]['src_his'].extend(cur_session_pos)\n",
    "        user_vocab[user_id]['src_his_ts'].extend([timestamp]*len(cur_session_pos))\n",
    "        user_vocab[user_id]['src_his_query'].extend([cur_query]*len(cur_session_pos))\n",
    "\n",
    "        user_vocab[user_id]['all_his'].extend(cur_session_pos)\n",
    "        user_vocab[user_id]['all_his_ts'].extend([timestamp]*len(cur_session_pos))\n",
    "        user_vocab[user_id]['all_his_query'].extend([cur_query]*len(cur_session_pos))\n",
    "\n",
    "        # user_vocab[user_id]['all_his'].append(search_session_id)\n",
    "        # user_vocab[user_id]['all_his_ts'].append(timestamp)"
   ]
  },
  {
   "cell_type": "code",
   "execution_count": 25,
   "metadata": {},
   "outputs": [
    {
     "data": {
      "text/html": [
       "<div>\n",
       "<style scoped>\n",
       "    .dataframe tbody tr th:only-of-type {\n",
       "        vertical-align: middle;\n",
       "    }\n",
       "\n",
       "    .dataframe tbody tr th {\n",
       "        vertical-align: top;\n",
       "    }\n",
       "\n",
       "    .dataframe thead th {\n",
       "        text-align: right;\n",
       "    }\n",
       "</style>\n",
       "<table border=\"1\" class=\"dataframe\">\n",
       "  <thead>\n",
       "    <tr style=\"text-align: right;\">\n",
       "      <th></th>\n",
       "      <th>user_id</th>\n",
       "      <th>item_id</th>\n",
       "      <th>ts</th>\n",
       "      <th>search_session_id</th>\n",
       "      <th>behavior</th>\n",
       "      <th>rec_his</th>\n",
       "      <th>src_session_his</th>\n",
       "      <th>src_his</th>\n",
       "      <th>all_his</th>\n",
       "    </tr>\n",
       "  </thead>\n",
       "  <tbody>\n",
       "    <tr>\n",
       "      <th>0</th>\n",
       "      <td>0</td>\n",
       "      <td>13169</td>\n",
       "      <td>1400457600</td>\n",
       "      <td>nan</td>\n",
       "      <td>1</td>\n",
       "      <td>0</td>\n",
       "      <td>0</td>\n",
       "      <td>0</td>\n",
       "      <td>0</td>\n",
       "    </tr>\n",
       "    <tr>\n",
       "      <th>1</th>\n",
       "      <td>0</td>\n",
       "      <td>29220</td>\n",
       "      <td>1400457600</td>\n",
       "      <td>nan</td>\n",
       "      <td>1</td>\n",
       "      <td>1</td>\n",
       "      <td>0</td>\n",
       "      <td>0</td>\n",
       "      <td>1</td>\n",
       "    </tr>\n",
       "    <tr>\n",
       "      <th>2</th>\n",
       "      <td>0</td>\n",
       "      <td>28305</td>\n",
       "      <td>1400457600</td>\n",
       "      <td>nan</td>\n",
       "      <td>1</td>\n",
       "      <td>2</td>\n",
       "      <td>0</td>\n",
       "      <td>0</td>\n",
       "      <td>2</td>\n",
       "    </tr>\n",
       "    <tr>\n",
       "      <th>3</th>\n",
       "      <td>0</td>\n",
       "      <td>17983</td>\n",
       "      <td>1400457600</td>\n",
       "      <td>nan</td>\n",
       "      <td>1</td>\n",
       "      <td>3</td>\n",
       "      <td>0</td>\n",
       "      <td>0</td>\n",
       "      <td>3</td>\n",
       "    </tr>\n",
       "    <tr>\n",
       "      <th>4</th>\n",
       "      <td>0</td>\n",
       "      <td>62158</td>\n",
       "      <td>1400457600</td>\n",
       "      <td>nan</td>\n",
       "      <td>1</td>\n",
       "      <td>4</td>\n",
       "      <td>0</td>\n",
       "      <td>0</td>\n",
       "      <td>4</td>\n",
       "    </tr>\n",
       "  </tbody>\n",
       "</table>\n",
       "</div>"
      ],
      "text/plain": [
       "   user_id item_id          ts search_session_id  behavior  rec_his  \\\n",
       "0        0   13169  1400457600               nan         1        0   \n",
       "1        0   29220  1400457600               nan         1        1   \n",
       "2        0   28305  1400457600               nan         1        2   \n",
       "3        0   17983  1400457600               nan         1        3   \n",
       "4        0   62158  1400457600               nan         1        4   \n",
       "\n",
       "   src_session_his  src_his  all_his  \n",
       "0                0        0        0  \n",
       "1                0        0        1  \n",
       "2                0        0        2  \n",
       "3                0        0        3  \n",
       "4                0        0        4  "
      ]
     },
     "execution_count": 25,
     "metadata": {},
     "output_type": "execute_result"
    },
    {
     "data": {
      "text/plain": [
       "(2960124, 9)"
      ]
     },
     "execution_count": 25,
     "metadata": {},
     "output_type": "execute_result"
    }
   ],
   "source": [
    "new_sar_inter_df = pd.DataFrame(data=new_sar_inter_list,\n",
    "                                columns=['user_id','item_id','ts','search_session_id','behavior',\n",
    "                                         'rec_his','src_session_his','src_his','all_his'])\n",
    "new_sar_inter_df.head()\n",
    "new_sar_inter_df.shape"
   ]
  },
  {
   "cell_type": "code",
   "execution_count": 26,
   "metadata": {},
   "outputs": [],
   "source": [
    "pickle.dump(item_vocab,open(f\"{base_path}/vocab/item_vocab.pkl\",'wb'))\n",
    "\n",
    "pickle.dump(user_vocab,open(f\"{base_path}/vocab/user_vocab.pkl\",'wb'))\n",
    "\n",
    "pickle.dump(session_vocab,open(f\"{base_path}/vocab/src_session_vocab.pkl\",'wb'))"
   ]
  },
  {
   "cell_type": "code",
   "execution_count": 27,
   "metadata": {},
   "outputs": [],
   "source": [
    "def splitTrainTest(user_df):\n",
    "    user_df['train'].iloc[-1] = 3\n",
    "    user_df['train'].iloc[-2] = 2\n",
    "    return user_df"
   ]
  },
  {
   "cell_type": "markdown",
   "metadata": {},
   "source": [
    "## Rec Data"
   ]
  },
  {
   "cell_type": "code",
   "execution_count": 28,
   "metadata": {},
   "outputs": [
    {
     "data": {
      "text/plain": [
       "(1684135, 4)"
      ]
     },
     "execution_count": 28,
     "metadata": {},
     "output_type": "execute_result"
    },
    {
     "data": {
      "text/html": [
       "<div>\n",
       "<style scoped>\n",
       "    .dataframe tbody tr th:only-of-type {\n",
       "        vertical-align: middle;\n",
       "    }\n",
       "\n",
       "    .dataframe tbody tr th {\n",
       "        vertical-align: top;\n",
       "    }\n",
       "\n",
       "    .dataframe thead th {\n",
       "        text-align: right;\n",
       "    }\n",
       "</style>\n",
       "<table border=\"1\" class=\"dataframe\">\n",
       "  <thead>\n",
       "    <tr style=\"text-align: right;\">\n",
       "      <th></th>\n",
       "      <th>user_id</th>\n",
       "      <th>item_id</th>\n",
       "      <th>score</th>\n",
       "      <th>ts</th>\n",
       "    </tr>\n",
       "  </thead>\n",
       "  <tbody>\n",
       "    <tr>\n",
       "      <th>0</th>\n",
       "      <td>0</td>\n",
       "      <td>13169</td>\n",
       "      <td>1.0</td>\n",
       "      <td>1400457600</td>\n",
       "    </tr>\n",
       "  </tbody>\n",
       "</table>\n",
       "</div>"
      ],
      "text/plain": [
       "   user_id  item_id  score          ts\n",
       "0        0    13169    1.0  1400457600"
      ]
     },
     "execution_count": 28,
     "metadata": {},
     "output_type": "execute_result"
    },
    {
     "data": {
      "text/plain": [
       "(1684135, 9)"
      ]
     },
     "execution_count": 28,
     "metadata": {},
     "output_type": "execute_result"
    },
    {
     "data": {
      "text/html": [
       "<div>\n",
       "<style scoped>\n",
       "    .dataframe tbody tr th:only-of-type {\n",
       "        vertical-align: middle;\n",
       "    }\n",
       "\n",
       "    .dataframe tbody tr th {\n",
       "        vertical-align: top;\n",
       "    }\n",
       "\n",
       "    .dataframe thead th {\n",
       "        text-align: right;\n",
       "    }\n",
       "</style>\n",
       "<table border=\"1\" class=\"dataframe\">\n",
       "  <thead>\n",
       "    <tr style=\"text-align: right;\">\n",
       "      <th></th>\n",
       "      <th>user_id</th>\n",
       "      <th>item_id</th>\n",
       "      <th>ts</th>\n",
       "      <th>search_session_id</th>\n",
       "      <th>behavior</th>\n",
       "      <th>rec_his</th>\n",
       "      <th>src_session_his</th>\n",
       "      <th>src_his</th>\n",
       "      <th>all_his</th>\n",
       "    </tr>\n",
       "  </thead>\n",
       "  <tbody>\n",
       "    <tr>\n",
       "      <th>0</th>\n",
       "      <td>0</td>\n",
       "      <td>13169</td>\n",
       "      <td>1400457600</td>\n",
       "      <td>nan</td>\n",
       "      <td>1</td>\n",
       "      <td>0</td>\n",
       "      <td>0</td>\n",
       "      <td>0</td>\n",
       "      <td>0</td>\n",
       "    </tr>\n",
       "  </tbody>\n",
       "</table>\n",
       "</div>"
      ],
      "text/plain": [
       "   user_id item_id          ts search_session_id  behavior  rec_his  \\\n",
       "0        0   13169  1400457600               nan         1        0   \n",
       "\n",
       "   src_session_his  src_his  all_his  \n",
       "0                0        0        0  "
      ]
     },
     "execution_count": 28,
     "metadata": {},
     "output_type": "execute_result"
    }
   ],
   "source": [
    "rec_w_his_inter = rec_inter.copy()\n",
    "rec_w_his_inter = rec_w_his_inter.sort_values(by=['user_id','ts']).reset_index(drop=True)\n",
    "rec_w_his_inter.shape\n",
    "rec_w_his_inter.head(1)\n",
    "\n",
    "rec_new_sar_inter_df = new_sar_inter_df[new_sar_inter_df.behavior==1]\n",
    "rec_new_sar_inter_df = rec_new_sar_inter_df.sort_values(by=['user_id','ts']).reset_index(drop=True)\n",
    "rec_new_sar_inter_df.shape\n",
    "rec_new_sar_inter_df.head(1)"
   ]
  },
  {
   "cell_type": "code",
   "execution_count": 29,
   "metadata": {},
   "outputs": [
    {
     "data": {
      "text/html": [
       "<div>\n",
       "<style scoped>\n",
       "    .dataframe tbody tr th:only-of-type {\n",
       "        vertical-align: middle;\n",
       "    }\n",
       "\n",
       "    .dataframe tbody tr th {\n",
       "        vertical-align: top;\n",
       "    }\n",
       "\n",
       "    .dataframe thead th {\n",
       "        text-align: right;\n",
       "    }\n",
       "</style>\n",
       "<table border=\"1\" class=\"dataframe\">\n",
       "  <thead>\n",
       "    <tr style=\"text-align: right;\">\n",
       "      <th></th>\n",
       "      <th>user_id</th>\n",
       "      <th>item_id</th>\n",
       "      <th>score</th>\n",
       "      <th>ts</th>\n",
       "      <th>rec_his</th>\n",
       "      <th>src_session_his</th>\n",
       "      <th>src_his</th>\n",
       "      <th>all_his</th>\n",
       "    </tr>\n",
       "  </thead>\n",
       "  <tbody>\n",
       "    <tr>\n",
       "      <th>0</th>\n",
       "      <td>0</td>\n",
       "      <td>13169</td>\n",
       "      <td>1.0</td>\n",
       "      <td>1400457600</td>\n",
       "      <td>0</td>\n",
       "      <td>0</td>\n",
       "      <td>0</td>\n",
       "      <td>0</td>\n",
       "    </tr>\n",
       "    <tr>\n",
       "      <th>1</th>\n",
       "      <td>0</td>\n",
       "      <td>17983</td>\n",
       "      <td>5.0</td>\n",
       "      <td>1400457600</td>\n",
       "      <td>1</td>\n",
       "      <td>0</td>\n",
       "      <td>0</td>\n",
       "      <td>1</td>\n",
       "    </tr>\n",
       "    <tr>\n",
       "      <th>2</th>\n",
       "      <td>0</td>\n",
       "      <td>28305</td>\n",
       "      <td>3.0</td>\n",
       "      <td>1400457600</td>\n",
       "      <td>2</td>\n",
       "      <td>0</td>\n",
       "      <td>0</td>\n",
       "      <td>2</td>\n",
       "    </tr>\n",
       "    <tr>\n",
       "      <th>3</th>\n",
       "      <td>0</td>\n",
       "      <td>29220</td>\n",
       "      <td>2.0</td>\n",
       "      <td>1400457600</td>\n",
       "      <td>3</td>\n",
       "      <td>0</td>\n",
       "      <td>0</td>\n",
       "      <td>3</td>\n",
       "    </tr>\n",
       "    <tr>\n",
       "      <th>4</th>\n",
       "      <td>0</td>\n",
       "      <td>62158</td>\n",
       "      <td>5.0</td>\n",
       "      <td>1400457600</td>\n",
       "      <td>4</td>\n",
       "      <td>0</td>\n",
       "      <td>0</td>\n",
       "      <td>4</td>\n",
       "    </tr>\n",
       "  </tbody>\n",
       "</table>\n",
       "</div>"
      ],
      "text/plain": [
       "   user_id  item_id  score          ts  rec_his  src_session_his  src_his  \\\n",
       "0        0    13169    1.0  1400457600        0                0        0   \n",
       "1        0    17983    5.0  1400457600        1                0        0   \n",
       "2        0    28305    3.0  1400457600        2                0        0   \n",
       "3        0    29220    2.0  1400457600        3                0        0   \n",
       "4        0    62158    5.0  1400457600        4                0        0   \n",
       "\n",
       "   all_his  \n",
       "0        0  \n",
       "1        1  \n",
       "2        2  \n",
       "3        3  \n",
       "4        4  "
      ]
     },
     "execution_count": 29,
     "metadata": {},
     "output_type": "execute_result"
    }
   ],
   "source": [
    "rec_w_his_inter[['rec_his','src_session_his',\n",
    "                 'src_his','all_his']] = rec_new_sar_inter_df[['rec_his','src_session_his','src_his','all_his']]\n",
    "rec_w_his_inter.head()"
   ]
  },
  {
   "cell_type": "code",
   "execution_count": 30,
   "metadata": {},
   "outputs": [
    {
     "data": {
      "text/plain": [
       "(1288753, 8)"
      ]
     },
     "execution_count": 30,
     "metadata": {},
     "output_type": "execute_result"
    }
   ],
   "source": [
    "rec_w_his_inter = rec_w_his_inter[(rec_w_his_inter['rec_his']!=0) & (rec_w_his_inter['src_session_his']!=0)]\n",
    "rec_w_his_inter.shape"
   ]
  },
  {
   "cell_type": "code",
   "execution_count": 31,
   "metadata": {},
   "outputs": [
    {
     "data": {
      "text/plain": [
       "(   user_id  item_id  score  ts  rec_his  src_session_his  src_his  all_his\n",
       " 0        1        4      4   4        4                4        4        4\n",
       " 2        3        4      4   4        4                4        4        4\n",
       " 3        4        6      6   6        6                6        6        6,\n",
       " count    168258.000000\n",
       " mean          7.529526\n",
       " std           8.634085\n",
       " min           3.000000\n",
       " 25%           4.000000\n",
       " 50%           5.000000\n",
       " 75%           8.000000\n",
       " max         426.000000\n",
       " Name: item_id, dtype: float64)"
      ]
     },
     "execution_count": 31,
     "metadata": {},
     "output_type": "execute_result"
    }
   ],
   "source": [
    "rec_inter_num = rec_w_his_inter.groupby(by=['user_id']).count().reset_index()\n",
    "filtered_users_rec = rec_inter_num[rec_inter_num['item_id'] >= 3]\n",
    "filtered_users_rec.head(3), filtered_users_rec['item_id'].describe()"
   ]
  },
  {
   "cell_type": "code",
   "execution_count": 32,
   "metadata": {},
   "outputs": [
    {
     "data": {
      "text/html": [
       "<div>\n",
       "<style scoped>\n",
       "    .dataframe tbody tr th:only-of-type {\n",
       "        vertical-align: middle;\n",
       "    }\n",
       "\n",
       "    .dataframe tbody tr th {\n",
       "        vertical-align: top;\n",
       "    }\n",
       "\n",
       "    .dataframe thead th {\n",
       "        text-align: right;\n",
       "    }\n",
       "</style>\n",
       "<table border=\"1\" class=\"dataframe\">\n",
       "  <thead>\n",
       "    <tr style=\"text-align: right;\">\n",
       "      <th></th>\n",
       "      <th>user_id</th>\n",
       "      <th>item_id</th>\n",
       "      <th>score</th>\n",
       "      <th>ts</th>\n",
       "      <th>rec_his</th>\n",
       "      <th>src_session_his</th>\n",
       "      <th>src_his</th>\n",
       "      <th>all_his</th>\n",
       "    </tr>\n",
       "  </thead>\n",
       "  <tbody>\n",
       "    <tr>\n",
       "      <th>0</th>\n",
       "      <td>1</td>\n",
       "      <td>41809</td>\n",
       "      <td>5.0</td>\n",
       "      <td>1384041600</td>\n",
       "      <td>2</td>\n",
       "      <td>1</td>\n",
       "      <td>1</td>\n",
       "      <td>3</td>\n",
       "    </tr>\n",
       "    <tr>\n",
       "      <th>1</th>\n",
       "      <td>1</td>\n",
       "      <td>45935</td>\n",
       "      <td>5.0</td>\n",
       "      <td>1385769600</td>\n",
       "      <td>3</td>\n",
       "      <td>2</td>\n",
       "      <td>2</td>\n",
       "      <td>5</td>\n",
       "    </tr>\n",
       "    <tr>\n",
       "      <th>2</th>\n",
       "      <td>1</td>\n",
       "      <td>54080</td>\n",
       "      <td>5.0</td>\n",
       "      <td>1385769600</td>\n",
       "      <td>4</td>\n",
       "      <td>2</td>\n",
       "      <td>2</td>\n",
       "      <td>6</td>\n",
       "    </tr>\n",
       "    <tr>\n",
       "      <th>3</th>\n",
       "      <td>1</td>\n",
       "      <td>56442</td>\n",
       "      <td>4.0</td>\n",
       "      <td>1385769600</td>\n",
       "      <td>5</td>\n",
       "      <td>2</td>\n",
       "      <td>2</td>\n",
       "      <td>7</td>\n",
       "    </tr>\n",
       "    <tr>\n",
       "      <th>4</th>\n",
       "      <td>3</td>\n",
       "      <td>21975</td>\n",
       "      <td>1.0</td>\n",
       "      <td>1375142400</td>\n",
       "      <td>1</td>\n",
       "      <td>1</td>\n",
       "      <td>1</td>\n",
       "      <td>2</td>\n",
       "    </tr>\n",
       "  </tbody>\n",
       "</table>\n",
       "</div>"
      ],
      "text/plain": [
       "   user_id  item_id  score          ts  rec_his  src_session_his  src_his  \\\n",
       "0        1    41809    5.0  1384041600        2                1        1   \n",
       "1        1    45935    5.0  1385769600        3                2        2   \n",
       "2        1    54080    5.0  1385769600        4                2        2   \n",
       "3        1    56442    4.0  1385769600        5                2        2   \n",
       "4        3    21975    1.0  1375142400        1                1        1   \n",
       "\n",
       "   all_his  \n",
       "0        3  \n",
       "1        5  \n",
       "2        6  \n",
       "3        7  \n",
       "4        2  "
      ]
     },
     "execution_count": 32,
     "metadata": {},
     "output_type": "execute_result"
    },
    {
     "data": {
      "text/plain": [
       "(1266903, 8)"
      ]
     },
     "execution_count": 32,
     "metadata": {},
     "output_type": "execute_result"
    }
   ],
   "source": [
    "rec_w_his_inter = rec_w_his_inter[rec_w_his_inter['user_id'].isin(set(filtered_users_rec['user_id'].unique()))]\n",
    "rec_w_his_inter = rec_w_his_inter.reset_index(drop=True)\n",
    "rec_w_his_inter.head()\n",
    "rec_w_his_inter.shape"
   ]
  },
  {
   "cell_type": "code",
   "execution_count": 33,
   "metadata": {
    "scrolled": true
   },
   "outputs": [],
   "source": [
    "rec_w_his_inter['train'] = 1\n",
    "rec_w_his_inter_train = rec_w_his_inter.groupby('user_id').apply(splitTrainTest)"
   ]
  },
  {
   "cell_type": "code",
   "execution_count": 34,
   "metadata": {},
   "outputs": [
    {
     "data": {
      "text/plain": [
       "(930387, 8)"
      ]
     },
     "execution_count": 34,
     "metadata": {},
     "output_type": "execute_result"
    },
    {
     "data": {
      "text/plain": [
       "(168258, 8)"
      ]
     },
     "execution_count": 34,
     "metadata": {},
     "output_type": "execute_result"
    },
    {
     "data": {
      "text/plain": [
       "(168258, 8)"
      ]
     },
     "execution_count": 34,
     "metadata": {},
     "output_type": "execute_result"
    }
   ],
   "source": [
    "rec_train = rec_w_his_inter_train[rec_w_his_inter_train.train==1].reset_index(drop=True)\n",
    "rec_train.drop(['train'],axis=1,inplace=True)\n",
    "rec_train.shape\n",
    "\n",
    "rec_val = rec_w_his_inter_train[rec_w_his_inter_train.train==2].reset_index(drop=True)\n",
    "rec_val.drop(['train'],axis=1,inplace=True)\n",
    "rec_val.shape\n",
    "\n",
    "rec_test = rec_w_his_inter_train[rec_w_his_inter_train.train==3].reset_index(drop=True)\n",
    "rec_test.drop(['train'],axis=1,inplace=True)\n",
    "rec_test.shape"
   ]
  },
  {
   "cell_type": "code",
   "execution_count": 1,
   "metadata": {},
   "outputs": [
    {
     "data": {
      "text/plain": [
       "1266903"
      ]
     },
     "execution_count": 1,
     "metadata": {},
     "output_type": "execute_result"
    }
   ],
   "source": [
    "930387+168258+168258"
   ]
  },
  {
   "cell_type": "markdown",
   "metadata": {},
   "source": [
    "- Sample negative for val and test "
   ]
  },
  {
   "cell_type": "code",
   "execution_count": 35,
   "metadata": {},
   "outputs": [],
   "source": [
    "num_train_neg_samples = 4\n",
    "num_test_neg_samples = 99\n",
    "\n",
    "item_set = rec_w_his_inter['item_id'].to_list()\n",
    "# sample with item popularity\n",
    "# item_set = item_features['item_id'].unique()\n",
    "\n",
    "def SampleNegatives(row, cur_num_samples):\n",
    "    count = 0 \n",
    "    user_id = int(row['user_id'])\n",
    "    cur_pos = int(row['item_id'])\n",
    "    # cur_rec_his = user_vocab[user_id]['rec_his'][:int(row['rec_his'])]\n",
    "    # cur_src_his = user_vocab[user_id]['src_his'][:int(row['src_his'])]\n",
    "    cur_all_his = user_vocab[user_id]['all_his'][:int(row['all_his'])]\n",
    "\n",
    "    # cur_num_samples = num_train_neg_samples if row['train'] == 1 else num_test_neg_samples\n",
    "\n",
    "    neg_samples = []\n",
    "    while count < cur_num_samples:\n",
    "        cur_neg = random.choice(item_set)\n",
    "        if (cur_neg in cur_all_his) or (cur_neg in neg_samples) or (cur_neg == cur_pos):\n",
    "            continue\n",
    "        count += 1\n",
    "        neg_samples.append(cur_neg)\n",
    "    return neg_samples"
   ]
  },
  {
   "cell_type": "code",
   "execution_count": 36,
   "metadata": {},
   "outputs": [
    {
     "data": {
      "application/vnd.jupyter.widget-view+json": {
       "model_id": "bfabdbe853484628bc7127194c5bb310",
       "version_major": 2,
       "version_minor": 0
      },
      "text/plain": [
       "VBox(children=(HBox(children=(IntProgress(value=0, description='0.00%', max=33229), Label(value='0 / 33229')))…"
      ]
     },
     "metadata": {},
     "output_type": "display_data"
    },
    {
     "data": {
      "text/html": [
       "<div>\n",
       "<style scoped>\n",
       "    .dataframe tbody tr th:only-of-type {\n",
       "        vertical-align: middle;\n",
       "    }\n",
       "\n",
       "    .dataframe tbody tr th {\n",
       "        vertical-align: top;\n",
       "    }\n",
       "\n",
       "    .dataframe thead th {\n",
       "        text-align: right;\n",
       "    }\n",
       "</style>\n",
       "<table border=\"1\" class=\"dataframe\">\n",
       "  <thead>\n",
       "    <tr style=\"text-align: right;\">\n",
       "      <th></th>\n",
       "      <th>user_id</th>\n",
       "      <th>item_id</th>\n",
       "      <th>score</th>\n",
       "      <th>ts</th>\n",
       "      <th>rec_his</th>\n",
       "      <th>src_session_his</th>\n",
       "      <th>src_his</th>\n",
       "      <th>all_his</th>\n",
       "      <th>neg_items</th>\n",
       "    </tr>\n",
       "  </thead>\n",
       "  <tbody>\n",
       "    <tr>\n",
       "      <th>0</th>\n",
       "      <td>1</td>\n",
       "      <td>41809</td>\n",
       "      <td>5.0</td>\n",
       "      <td>1384041600</td>\n",
       "      <td>2</td>\n",
       "      <td>1</td>\n",
       "      <td>1</td>\n",
       "      <td>3</td>\n",
       "      <td>[17639, 10132, 57740, 35737]</td>\n",
       "    </tr>\n",
       "    <tr>\n",
       "      <th>1</th>\n",
       "      <td>1</td>\n",
       "      <td>45935</td>\n",
       "      <td>5.0</td>\n",
       "      <td>1385769600</td>\n",
       "      <td>3</td>\n",
       "      <td>2</td>\n",
       "      <td>2</td>\n",
       "      <td>5</td>\n",
       "      <td>[50455, 28528, 60124, 52188]</td>\n",
       "    </tr>\n",
       "    <tr>\n",
       "      <th>2</th>\n",
       "      <td>3</td>\n",
       "      <td>21975</td>\n",
       "      <td>1.0</td>\n",
       "      <td>1375142400</td>\n",
       "      <td>1</td>\n",
       "      <td>1</td>\n",
       "      <td>1</td>\n",
       "      <td>2</td>\n",
       "      <td>[41765, 25374, 22250, 2729]</td>\n",
       "    </tr>\n",
       "    <tr>\n",
       "      <th>3</th>\n",
       "      <td>3</td>\n",
       "      <td>58342</td>\n",
       "      <td>5.0</td>\n",
       "      <td>1402876800</td>\n",
       "      <td>2</td>\n",
       "      <td>2</td>\n",
       "      <td>2</td>\n",
       "      <td>4</td>\n",
       "      <td>[53083, 49845, 3275, 23152]</td>\n",
       "    </tr>\n",
       "    <tr>\n",
       "      <th>4</th>\n",
       "      <td>4</td>\n",
       "      <td>3113</td>\n",
       "      <td>4.0</td>\n",
       "      <td>1361145600</td>\n",
       "      <td>1</td>\n",
       "      <td>1</td>\n",
       "      <td>1</td>\n",
       "      <td>2</td>\n",
       "      <td>[46462, 11778, 43604, 21629]</td>\n",
       "    </tr>\n",
       "  </tbody>\n",
       "</table>\n",
       "</div>"
      ],
      "text/plain": [
       "   user_id  item_id  score          ts  rec_his  src_session_his  src_his  \\\n",
       "0        1    41809    5.0  1384041600        2                1        1   \n",
       "1        1    45935    5.0  1385769600        3                2        2   \n",
       "2        3    21975    1.0  1375142400        1                1        1   \n",
       "3        3    58342    5.0  1402876800        2                2        2   \n",
       "4        4     3113    4.0  1361145600        1                1        1   \n",
       "\n",
       "   all_his                     neg_items  \n",
       "0        3  [17639, 10132, 57740, 35737]  \n",
       "1        5  [50455, 28528, 60124, 52188]  \n",
       "2        2   [41765, 25374, 22250, 2729]  \n",
       "3        4   [53083, 49845, 3275, 23152]  \n",
       "4        2  [46462, 11778, 43604, 21629]  "
      ]
     },
     "execution_count": 36,
     "metadata": {},
     "output_type": "execute_result"
    }
   ],
   "source": [
    "rec_train['neg_items'] = rec_train.parallel_apply(SampleNegatives,cur_num_samples=4,axis=1)\n",
    "rec_train.head()"
   ]
  },
  {
   "cell_type": "code",
   "execution_count": 37,
   "metadata": {},
   "outputs": [
    {
     "data": {
      "application/vnd.jupyter.widget-view+json": {
       "model_id": "2fdf114868144476b84c58ad5d1a94a0",
       "version_major": 2,
       "version_minor": 0
      },
      "text/plain": [
       "VBox(children=(HBox(children=(IntProgress(value=0, description='0.00%', max=6010), Label(value='0 / 6010'))), …"
      ]
     },
     "metadata": {},
     "output_type": "display_data"
    }
   ],
   "source": [
    "rec_val['neg_items'] = rec_val.parallel_apply(SampleNegatives,cur_num_samples=99,axis=1)"
   ]
  },
  {
   "cell_type": "code",
   "execution_count": 38,
   "metadata": {},
   "outputs": [
    {
     "data": {
      "application/vnd.jupyter.widget-view+json": {
       "model_id": "9909d5bfed284d30bacdba27aab519d7",
       "version_major": 2,
       "version_minor": 0
      },
      "text/plain": [
       "VBox(children=(HBox(children=(IntProgress(value=0, description='0.00%', max=6010), Label(value='0 / 6010'))), …"
      ]
     },
     "metadata": {},
     "output_type": "display_data"
    }
   ],
   "source": [
    "rec_test['neg_items'] = rec_test.parallel_apply(SampleNegatives,cur_num_samples=99,axis=1)"
   ]
  },
  {
   "cell_type": "code",
   "execution_count": 39,
   "metadata": {},
   "outputs": [],
   "source": [
    "rec_train.to_pickle(f\"{base_path}/dataset/rec_train.pkl\")\n",
    "\n",
    "rec_val.to_pickle(f\"{base_path}/dataset/rec_val.pkl\")\n",
    "\n",
    "rec_test.to_pickle(f\"{base_path}/dataset/rec_test.pkl\")"
   ]
  },
  {
   "cell_type": "markdown",
   "metadata": {},
   "source": [
    "## Search Data"
   ]
  },
  {
   "cell_type": "markdown",
   "metadata": {},
   "source": [
    "### Get Processed Search data"
   ]
  },
  {
   "cell_type": "code",
   "execution_count": 40,
   "metadata": {},
   "outputs": [
    {
     "data": {
      "text/html": [
       "<div>\n",
       "<style scoped>\n",
       "    .dataframe tbody tr th:only-of-type {\n",
       "        vertical-align: middle;\n",
       "    }\n",
       "\n",
       "    .dataframe tbody tr th {\n",
       "        vertical-align: top;\n",
       "    }\n",
       "\n",
       "    .dataframe thead th {\n",
       "        text-align: right;\n",
       "    }\n",
       "</style>\n",
       "<table border=\"1\" class=\"dataframe\">\n",
       "  <thead>\n",
       "    <tr style=\"text-align: right;\">\n",
       "      <th></th>\n",
       "      <th>user_id</th>\n",
       "      <th>ts</th>\n",
       "      <th>search_session_id</th>\n",
       "      <th>rec_his</th>\n",
       "      <th>src_session_his</th>\n",
       "      <th>src_his</th>\n",
       "      <th>all_his</th>\n",
       "    </tr>\n",
       "  </thead>\n",
       "  <tbody>\n",
       "    <tr>\n",
       "      <th>5</th>\n",
       "      <td>0</td>\n",
       "      <td>1400457600</td>\n",
       "      <td>1</td>\n",
       "      <td>5</td>\n",
       "      <td>0</td>\n",
       "      <td>0</td>\n",
       "      <td>5</td>\n",
       "    </tr>\n",
       "    <tr>\n",
       "      <th>6</th>\n",
       "      <td>0</td>\n",
       "      <td>1400457600</td>\n",
       "      <td>2</td>\n",
       "      <td>5</td>\n",
       "      <td>1</td>\n",
       "      <td>1</td>\n",
       "      <td>6</td>\n",
       "    </tr>\n",
       "    <tr>\n",
       "      <th>7</th>\n",
       "      <td>0</td>\n",
       "      <td>1400457600</td>\n",
       "      <td>3</td>\n",
       "      <td>5</td>\n",
       "      <td>2</td>\n",
       "      <td>2</td>\n",
       "      <td>7</td>\n",
       "    </tr>\n",
       "    <tr>\n",
       "      <th>8</th>\n",
       "      <td>0</td>\n",
       "      <td>1400457600</td>\n",
       "      <td>4</td>\n",
       "      <td>4</td>\n",
       "      <td>3</td>\n",
       "      <td>3</td>\n",
       "      <td>8</td>\n",
       "    </tr>\n",
       "    <tr>\n",
       "      <th>11</th>\n",
       "      <td>1</td>\n",
       "      <td>1379548800</td>\n",
       "      <td>5</td>\n",
       "      <td>1</td>\n",
       "      <td>0</td>\n",
       "      <td>0</td>\n",
       "      <td>2</td>\n",
       "    </tr>\n",
       "  </tbody>\n",
       "</table>\n",
       "</div>"
      ],
      "text/plain": [
       "    user_id          ts search_session_id  rec_his  src_session_his  src_his  \\\n",
       "5         0  1400457600                 1        5                0        0   \n",
       "6         0  1400457600                 2        5                1        1   \n",
       "7         0  1400457600                 3        5                2        2   \n",
       "8         0  1400457600                 4        4                3        3   \n",
       "11        1  1379548800                 5        1                0        0   \n",
       "\n",
       "    all_his  \n",
       "5         5  \n",
       "6         6  \n",
       "7         7  \n",
       "8         8  \n",
       "11        2  "
      ]
     },
     "execution_count": 40,
     "metadata": {},
     "output_type": "execute_result"
    },
    {
     "data": {
      "text/plain": [
       "(1275989, 7)"
      ]
     },
     "execution_count": 40,
     "metadata": {},
     "output_type": "execute_result"
    }
   ],
   "source": [
    "session_w_his = new_sar_inter_df[new_sar_inter_df.behavior==2]\n",
    "session_w_his.drop(['item_id','behavior'],axis=1,inplace=True)\n",
    "session_w_his.head()\n",
    "session_w_his.shape"
   ]
  },
  {
   "cell_type": "code",
   "execution_count": 41,
   "metadata": {},
   "outputs": [],
   "source": [
    "session_his_vocab = session_w_his[['search_session_id','rec_his',\n",
    "                                   'src_session_his','src_his','all_his']].set_index('search_session_id').to_dict('index')"
   ]
  },
  {
   "cell_type": "code",
   "execution_count": 42,
   "metadata": {},
   "outputs": [],
   "source": [
    "src_w_his_inter = src_inter.copy()"
   ]
  },
  {
   "cell_type": "code",
   "execution_count": 43,
   "metadata": {},
   "outputs": [],
   "source": [
    "src_w_his_inter['rec_his'] = src_inter['search_session_id'].apply(lambda x:session_his_vocab[x]['rec_his'])\n",
    "src_w_his_inter['src_session_his'] = src_inter['search_session_id'].apply(lambda x:session_his_vocab[x]['src_session_his'])\n",
    "src_w_his_inter['src_his'] = src_inter['search_session_id'].apply(lambda x:session_his_vocab[x]['src_his'])\n",
    "src_w_his_inter['all_his'] = src_inter['search_session_id'].apply(lambda x:session_his_vocab[x]['all_his'])"
   ]
  },
  {
   "cell_type": "code",
   "execution_count": 44,
   "metadata": {},
   "outputs": [
    {
     "data": {
      "text/html": [
       "<div>\n",
       "<style scoped>\n",
       "    .dataframe tbody tr th:only-of-type {\n",
       "        vertical-align: middle;\n",
       "    }\n",
       "\n",
       "    .dataframe tbody tr th {\n",
       "        vertical-align: top;\n",
       "    }\n",
       "\n",
       "    .dataframe thead th {\n",
       "        text-align: right;\n",
       "    }\n",
       "</style>\n",
       "<table border=\"1\" class=\"dataframe\">\n",
       "  <thead>\n",
       "    <tr style=\"text-align: right;\">\n",
       "      <th></th>\n",
       "      <th>user_id</th>\n",
       "      <th>item_id</th>\n",
       "      <th>search_session_id</th>\n",
       "      <th>ts</th>\n",
       "      <th>keyword</th>\n",
       "      <th>query_id</th>\n",
       "      <th>rec_his</th>\n",
       "      <th>src_session_his</th>\n",
       "      <th>src_his</th>\n",
       "      <th>all_his</th>\n",
       "    </tr>\n",
       "  </thead>\n",
       "  <tbody>\n",
       "    <tr>\n",
       "      <th>0</th>\n",
       "      <td>0</td>\n",
       "      <td>13169</td>\n",
       "      <td>1</td>\n",
       "      <td>1400457600</td>\n",
       "      <td>[1, 2, 3, 4, 5, 6]</td>\n",
       "      <td>1</td>\n",
       "      <td>5</td>\n",
       "      <td>0</td>\n",
       "      <td>0</td>\n",
       "      <td>5</td>\n",
       "    </tr>\n",
       "    <tr>\n",
       "      <th>1</th>\n",
       "      <td>0</td>\n",
       "      <td>17983</td>\n",
       "      <td>2</td>\n",
       "      <td>1400457600</td>\n",
       "      <td>[3, 7, 8, 9, 10, 11, 4, 12, 13]</td>\n",
       "      <td>2</td>\n",
       "      <td>5</td>\n",
       "      <td>1</td>\n",
       "      <td>1</td>\n",
       "      <td>6</td>\n",
       "    </tr>\n",
       "    <tr>\n",
       "      <th>2</th>\n",
       "      <td>0</td>\n",
       "      <td>29220</td>\n",
       "      <td>3</td>\n",
       "      <td>1400457600</td>\n",
       "      <td>[3, 1, 8, 4, 14, 9, 15, 16]</td>\n",
       "      <td>3</td>\n",
       "      <td>5</td>\n",
       "      <td>2</td>\n",
       "      <td>2</td>\n",
       "      <td>7</td>\n",
       "    </tr>\n",
       "    <tr>\n",
       "      <th>3</th>\n",
       "      <td>0</td>\n",
       "      <td>62158</td>\n",
       "      <td>4</td>\n",
       "      <td>1400457600</td>\n",
       "      <td>[3, 17, 18, 19, 20]</td>\n",
       "      <td>4</td>\n",
       "      <td>4</td>\n",
       "      <td>3</td>\n",
       "      <td>3</td>\n",
       "      <td>8</td>\n",
       "    </tr>\n",
       "    <tr>\n",
       "      <th>4</th>\n",
       "      <td>1</td>\n",
       "      <td>58032</td>\n",
       "      <td>5</td>\n",
       "      <td>1379548800</td>\n",
       "      <td>[3, 21, 4, 22]</td>\n",
       "      <td>5</td>\n",
       "      <td>1</td>\n",
       "      <td>0</td>\n",
       "      <td>0</td>\n",
       "      <td>2</td>\n",
       "    </tr>\n",
       "  </tbody>\n",
       "</table>\n",
       "</div>"
      ],
      "text/plain": [
       "   user_id  item_id  search_session_id          ts  \\\n",
       "0        0    13169                  1  1400457600   \n",
       "1        0    17983                  2  1400457600   \n",
       "2        0    29220                  3  1400457600   \n",
       "3        0    62158                  4  1400457600   \n",
       "4        1    58032                  5  1379548800   \n",
       "\n",
       "                           keyword  query_id  rec_his  src_session_his  \\\n",
       "0               [1, 2, 3, 4, 5, 6]         1        5                0   \n",
       "1  [3, 7, 8, 9, 10, 11, 4, 12, 13]         2        5                1   \n",
       "2      [3, 1, 8, 4, 14, 9, 15, 16]         3        5                2   \n",
       "3              [3, 17, 18, 19, 20]         4        4                3   \n",
       "4                   [3, 21, 4, 22]         5        1                0   \n",
       "\n",
       "   src_his  all_his  \n",
       "0        0        5  \n",
       "1        1        6  \n",
       "2        2        7  \n",
       "3        3        8  \n",
       "4        0        2  "
      ]
     },
     "execution_count": 44,
     "metadata": {},
     "output_type": "execute_result"
    },
    {
     "data": {
      "text/plain": [
       "(1275989, 10)"
      ]
     },
     "execution_count": 44,
     "metadata": {},
     "output_type": "execute_result"
    }
   ],
   "source": [
    "src_w_his_inter = src_w_his_inter.sort_values(by=['user_id','ts']).reset_index(drop=True)\n",
    "\n",
    "src_w_his_inter.head()\n",
    "src_w_his_inter.shape"
   ]
  },
  {
   "cell_type": "code",
   "execution_count": 45,
   "metadata": {},
   "outputs": [
    {
     "data": {
      "text/plain": [
       "(1083586, 10)"
      ]
     },
     "execution_count": 45,
     "metadata": {},
     "output_type": "execute_result"
    }
   ],
   "source": [
    "src_w_his_inter = src_w_his_inter[(src_w_his_inter['rec_his']!=0) & (src_w_his_inter['src_session_his']!=0)]\n",
    "src_w_his_inter.shape"
   ]
  },
  {
   "cell_type": "code",
   "execution_count": 46,
   "metadata": {},
   "outputs": [
    {
     "data": {
      "text/plain": [
       "(   user_id  item_id  search_session_id  ts  keyword  query_id  rec_his  \\\n",
       " 0        0        3                  3   3        3         3        3   \n",
       " 1        1        4                  4   4        4         4        4   \n",
       " 2        2        3                  3   3        3         3        3   \n",
       " \n",
       "    src_session_his  src_his  all_his  \n",
       " 0                3        3        3  \n",
       " 1                4        4        4  \n",
       " 2                3        3        3  ,\n",
       " count    191566.000000\n",
       " mean          5.647839\n",
       " std           5.800029\n",
       " min           3.000000\n",
       " 25%           3.000000\n",
       " 50%           4.000000\n",
       " 75%           6.000000\n",
       " max         303.000000\n",
       " Name: item_id, dtype: float64)"
      ]
     },
     "execution_count": 46,
     "metadata": {},
     "output_type": "execute_result"
    }
   ],
   "source": [
    "src_inter_num = src_w_his_inter.groupby(by=['user_id']).count().reset_index()\n",
    "filtered_users_src = src_inter_num[src_inter_num['item_id'] >= 3]\n",
    "filtered_users_src.head(3), filtered_users_src['item_id'].describe()"
   ]
  },
  {
   "cell_type": "code",
   "execution_count": 47,
   "metadata": {},
   "outputs": [
    {
     "data": {
      "text/html": [
       "<div>\n",
       "<style scoped>\n",
       "    .dataframe tbody tr th:only-of-type {\n",
       "        vertical-align: middle;\n",
       "    }\n",
       "\n",
       "    .dataframe tbody tr th {\n",
       "        vertical-align: top;\n",
       "    }\n",
       "\n",
       "    .dataframe thead th {\n",
       "        text-align: right;\n",
       "    }\n",
       "</style>\n",
       "<table border=\"1\" class=\"dataframe\">\n",
       "  <thead>\n",
       "    <tr style=\"text-align: right;\">\n",
       "      <th></th>\n",
       "      <th>user_id</th>\n",
       "      <th>item_id</th>\n",
       "      <th>search_session_id</th>\n",
       "      <th>ts</th>\n",
       "      <th>keyword</th>\n",
       "      <th>query_id</th>\n",
       "      <th>rec_his</th>\n",
       "      <th>src_session_his</th>\n",
       "      <th>src_his</th>\n",
       "      <th>all_his</th>\n",
       "    </tr>\n",
       "  </thead>\n",
       "  <tbody>\n",
       "    <tr>\n",
       "      <th>0</th>\n",
       "      <td>0</td>\n",
       "      <td>17983</td>\n",
       "      <td>2</td>\n",
       "      <td>1400457600</td>\n",
       "      <td>[3, 7, 8, 9, 10, 11, 4, 12, 13]</td>\n",
       "      <td>2</td>\n",
       "      <td>5</td>\n",
       "      <td>1</td>\n",
       "      <td>1</td>\n",
       "      <td>6</td>\n",
       "    </tr>\n",
       "    <tr>\n",
       "      <th>1</th>\n",
       "      <td>0</td>\n",
       "      <td>29220</td>\n",
       "      <td>3</td>\n",
       "      <td>1400457600</td>\n",
       "      <td>[3, 1, 8, 4, 14, 9, 15, 16]</td>\n",
       "      <td>3</td>\n",
       "      <td>5</td>\n",
       "      <td>2</td>\n",
       "      <td>2</td>\n",
       "      <td>7</td>\n",
       "    </tr>\n",
       "    <tr>\n",
       "      <th>2</th>\n",
       "      <td>0</td>\n",
       "      <td>62158</td>\n",
       "      <td>4</td>\n",
       "      <td>1400457600</td>\n",
       "      <td>[3, 17, 18, 19, 20]</td>\n",
       "      <td>4</td>\n",
       "      <td>4</td>\n",
       "      <td>3</td>\n",
       "      <td>3</td>\n",
       "      <td>8</td>\n",
       "    </tr>\n",
       "    <tr>\n",
       "      <th>3</th>\n",
       "      <td>1</td>\n",
       "      <td>41809</td>\n",
       "      <td>6</td>\n",
       "      <td>1384041600</td>\n",
       "      <td>[3, 4, 21, 23, 24, 1]</td>\n",
       "      <td>6</td>\n",
       "      <td>2</td>\n",
       "      <td>1</td>\n",
       "      <td>1</td>\n",
       "      <td>4</td>\n",
       "    </tr>\n",
       "    <tr>\n",
       "      <th>4</th>\n",
       "      <td>1</td>\n",
       "      <td>45935</td>\n",
       "      <td>7</td>\n",
       "      <td>1385769600</td>\n",
       "      <td>[3, 21, 16, 4, 25, 26, 27]</td>\n",
       "      <td>7</td>\n",
       "      <td>6</td>\n",
       "      <td>2</td>\n",
       "      <td>2</td>\n",
       "      <td>8</td>\n",
       "    </tr>\n",
       "  </tbody>\n",
       "</table>\n",
       "</div>"
      ],
      "text/plain": [
       "   user_id  item_id  search_session_id          ts  \\\n",
       "0        0    17983                  2  1400457600   \n",
       "1        0    29220                  3  1400457600   \n",
       "2        0    62158                  4  1400457600   \n",
       "3        1    41809                  6  1384041600   \n",
       "4        1    45935                  7  1385769600   \n",
       "\n",
       "                           keyword  query_id  rec_his  src_session_his  \\\n",
       "0  [3, 7, 8, 9, 10, 11, 4, 12, 13]         2        5                1   \n",
       "1      [3, 1, 8, 4, 14, 9, 15, 16]         3        5                2   \n",
       "2              [3, 17, 18, 19, 20]         4        4                3   \n",
       "3            [3, 4, 21, 23, 24, 1]         6        2                1   \n",
       "4       [3, 21, 16, 4, 25, 26, 27]         7        6                2   \n",
       "\n",
       "   src_his  all_his  \n",
       "0        1        6  \n",
       "1        2        7  \n",
       "2        3        8  \n",
       "3        1        4  \n",
       "4        2        8  "
      ]
     },
     "execution_count": 47,
     "metadata": {},
     "output_type": "execute_result"
    },
    {
     "data": {
      "text/plain": [
       "(1081934, 10)"
      ]
     },
     "execution_count": 47,
     "metadata": {},
     "output_type": "execute_result"
    }
   ],
   "source": [
    "src_w_his_inter = src_w_his_inter[src_w_his_inter['user_id'].isin(set(filtered_users_src['user_id'].unique()))]\n",
    "src_w_his_inter = src_w_his_inter.reset_index(drop=True)\n",
    "src_w_his_inter.head()\n",
    "src_w_his_inter.shape"
   ]
  },
  {
   "cell_type": "code",
   "execution_count": 48,
   "metadata": {},
   "outputs": [
    {
     "data": {
      "text/html": [
       "<div>\n",
       "<style scoped>\n",
       "    .dataframe tbody tr th:only-of-type {\n",
       "        vertical-align: middle;\n",
       "    }\n",
       "\n",
       "    .dataframe tbody tr th {\n",
       "        vertical-align: top;\n",
       "    }\n",
       "\n",
       "    .dataframe thead th {\n",
       "        text-align: right;\n",
       "    }\n",
       "</style>\n",
       "<table border=\"1\" class=\"dataframe\">\n",
       "  <thead>\n",
       "    <tr style=\"text-align: right;\">\n",
       "      <th></th>\n",
       "      <th></th>\n",
       "      <th>user_id</th>\n",
       "      <th>item_id</th>\n",
       "      <th>search_session_id</th>\n",
       "      <th>ts</th>\n",
       "      <th>keyword</th>\n",
       "      <th>query_id</th>\n",
       "      <th>rec_his</th>\n",
       "      <th>src_session_his</th>\n",
       "      <th>src_his</th>\n",
       "      <th>all_his</th>\n",
       "      <th>train</th>\n",
       "    </tr>\n",
       "    <tr>\n",
       "      <th>user_id</th>\n",
       "      <th></th>\n",
       "      <th></th>\n",
       "      <th></th>\n",
       "      <th></th>\n",
       "      <th></th>\n",
       "      <th></th>\n",
       "      <th></th>\n",
       "      <th></th>\n",
       "      <th></th>\n",
       "      <th></th>\n",
       "      <th></th>\n",
       "      <th></th>\n",
       "    </tr>\n",
       "  </thead>\n",
       "  <tbody>\n",
       "    <tr>\n",
       "      <th rowspan=\"3\" valign=\"top\">0</th>\n",
       "      <th>0</th>\n",
       "      <td>0</td>\n",
       "      <td>17983</td>\n",
       "      <td>2</td>\n",
       "      <td>1400457600</td>\n",
       "      <td>[3, 7, 8, 9, 10, 11, 4, 12, 13]</td>\n",
       "      <td>2</td>\n",
       "      <td>5</td>\n",
       "      <td>1</td>\n",
       "      <td>1</td>\n",
       "      <td>6</td>\n",
       "      <td>1</td>\n",
       "    </tr>\n",
       "    <tr>\n",
       "      <th>1</th>\n",
       "      <td>0</td>\n",
       "      <td>29220</td>\n",
       "      <td>3</td>\n",
       "      <td>1400457600</td>\n",
       "      <td>[3, 1, 8, 4, 14, 9, 15, 16]</td>\n",
       "      <td>3</td>\n",
       "      <td>5</td>\n",
       "      <td>2</td>\n",
       "      <td>2</td>\n",
       "      <td>7</td>\n",
       "      <td>2</td>\n",
       "    </tr>\n",
       "    <tr>\n",
       "      <th>2</th>\n",
       "      <td>0</td>\n",
       "      <td>62158</td>\n",
       "      <td>4</td>\n",
       "      <td>1400457600</td>\n",
       "      <td>[3, 17, 18, 19, 20]</td>\n",
       "      <td>4</td>\n",
       "      <td>4</td>\n",
       "      <td>3</td>\n",
       "      <td>3</td>\n",
       "      <td>8</td>\n",
       "      <td>3</td>\n",
       "    </tr>\n",
       "    <tr>\n",
       "      <th rowspan=\"2\" valign=\"top\">1</th>\n",
       "      <th>3</th>\n",
       "      <td>1</td>\n",
       "      <td>41809</td>\n",
       "      <td>6</td>\n",
       "      <td>1384041600</td>\n",
       "      <td>[3, 4, 21, 23, 24, 1]</td>\n",
       "      <td>6</td>\n",
       "      <td>2</td>\n",
       "      <td>1</td>\n",
       "      <td>1</td>\n",
       "      <td>4</td>\n",
       "      <td>1</td>\n",
       "    </tr>\n",
       "    <tr>\n",
       "      <th>4</th>\n",
       "      <td>1</td>\n",
       "      <td>45935</td>\n",
       "      <td>7</td>\n",
       "      <td>1385769600</td>\n",
       "      <td>[3, 21, 16, 4, 25, 26, 27]</td>\n",
       "      <td>7</td>\n",
       "      <td>6</td>\n",
       "      <td>2</td>\n",
       "      <td>2</td>\n",
       "      <td>8</td>\n",
       "      <td>1</td>\n",
       "    </tr>\n",
       "  </tbody>\n",
       "</table>\n",
       "</div>"
      ],
      "text/plain": [
       "           user_id  item_id  search_session_id          ts  \\\n",
       "user_id                                                      \n",
       "0       0        0    17983                  2  1400457600   \n",
       "        1        0    29220                  3  1400457600   \n",
       "        2        0    62158                  4  1400457600   \n",
       "1       3        1    41809                  6  1384041600   \n",
       "        4        1    45935                  7  1385769600   \n",
       "\n",
       "                                   keyword  query_id  rec_his  \\\n",
       "user_id                                                         \n",
       "0       0  [3, 7, 8, 9, 10, 11, 4, 12, 13]         2        5   \n",
       "        1      [3, 1, 8, 4, 14, 9, 15, 16]         3        5   \n",
       "        2              [3, 17, 18, 19, 20]         4        4   \n",
       "1       3            [3, 4, 21, 23, 24, 1]         6        2   \n",
       "        4       [3, 21, 16, 4, 25, 26, 27]         7        6   \n",
       "\n",
       "           src_session_his  src_his  all_his  train  \n",
       "user_id                                              \n",
       "0       0                1        1        6      1  \n",
       "        1                2        2        7      2  \n",
       "        2                3        3        8      3  \n",
       "1       3                1        1        4      1  \n",
       "        4                2        2        8      1  "
      ]
     },
     "execution_count": 48,
     "metadata": {},
     "output_type": "execute_result"
    }
   ],
   "source": [
    "src_w_his_inter['train'] = 1\n",
    "src_w_his_inter_train = src_w_his_inter.groupby('user_id').apply(splitTrainTest)\n",
    "src_w_his_inter_train.head()"
   ]
  },
  {
   "cell_type": "code",
   "execution_count": 49,
   "metadata": {},
   "outputs": [
    {
     "data": {
      "text/plain": [
       "(698802, 10)"
      ]
     },
     "execution_count": 49,
     "metadata": {},
     "output_type": "execute_result"
    },
    {
     "data": {
      "text/html": [
       "<div>\n",
       "<style scoped>\n",
       "    .dataframe tbody tr th:only-of-type {\n",
       "        vertical-align: middle;\n",
       "    }\n",
       "\n",
       "    .dataframe tbody tr th {\n",
       "        vertical-align: top;\n",
       "    }\n",
       "\n",
       "    .dataframe thead th {\n",
       "        text-align: right;\n",
       "    }\n",
       "</style>\n",
       "<table border=\"1\" class=\"dataframe\">\n",
       "  <thead>\n",
       "    <tr style=\"text-align: right;\">\n",
       "      <th></th>\n",
       "      <th>user_id</th>\n",
       "      <th>item_id</th>\n",
       "      <th>search_session_id</th>\n",
       "      <th>ts</th>\n",
       "      <th>keyword</th>\n",
       "      <th>query_id</th>\n",
       "      <th>rec_his</th>\n",
       "      <th>src_session_his</th>\n",
       "      <th>src_his</th>\n",
       "      <th>all_his</th>\n",
       "    </tr>\n",
       "  </thead>\n",
       "  <tbody>\n",
       "    <tr>\n",
       "      <th>0</th>\n",
       "      <td>0</td>\n",
       "      <td>17983</td>\n",
       "      <td>2</td>\n",
       "      <td>1400457600</td>\n",
       "      <td>[3, 7, 8, 9, 10, 11, 4, 12, 13]</td>\n",
       "      <td>2</td>\n",
       "      <td>5</td>\n",
       "      <td>1</td>\n",
       "      <td>1</td>\n",
       "      <td>6</td>\n",
       "    </tr>\n",
       "  </tbody>\n",
       "</table>\n",
       "</div>"
      ],
      "text/plain": [
       "   user_id  item_id  search_session_id          ts  \\\n",
       "0        0    17983                  2  1400457600   \n",
       "\n",
       "                           keyword  query_id  rec_his  src_session_his  \\\n",
       "0  [3, 7, 8, 9, 10, 11, 4, 12, 13]         2        5                1   \n",
       "\n",
       "   src_his  all_his  \n",
       "0        1        6  "
      ]
     },
     "execution_count": 49,
     "metadata": {},
     "output_type": "execute_result"
    },
    {
     "data": {
      "text/plain": [
       "(191566, 10)"
      ]
     },
     "execution_count": 49,
     "metadata": {},
     "output_type": "execute_result"
    },
    {
     "data": {
      "text/html": [
       "<div>\n",
       "<style scoped>\n",
       "    .dataframe tbody tr th:only-of-type {\n",
       "        vertical-align: middle;\n",
       "    }\n",
       "\n",
       "    .dataframe tbody tr th {\n",
       "        vertical-align: top;\n",
       "    }\n",
       "\n",
       "    .dataframe thead th {\n",
       "        text-align: right;\n",
       "    }\n",
       "</style>\n",
       "<table border=\"1\" class=\"dataframe\">\n",
       "  <thead>\n",
       "    <tr style=\"text-align: right;\">\n",
       "      <th></th>\n",
       "      <th>user_id</th>\n",
       "      <th>item_id</th>\n",
       "      <th>search_session_id</th>\n",
       "      <th>ts</th>\n",
       "      <th>keyword</th>\n",
       "      <th>query_id</th>\n",
       "      <th>rec_his</th>\n",
       "      <th>src_session_his</th>\n",
       "      <th>src_his</th>\n",
       "      <th>all_his</th>\n",
       "    </tr>\n",
       "  </thead>\n",
       "  <tbody>\n",
       "    <tr>\n",
       "      <th>0</th>\n",
       "      <td>0</td>\n",
       "      <td>29220</td>\n",
       "      <td>3</td>\n",
       "      <td>1400457600</td>\n",
       "      <td>[3, 1, 8, 4, 14, 9, 15, 16]</td>\n",
       "      <td>3</td>\n",
       "      <td>5</td>\n",
       "      <td>2</td>\n",
       "      <td>2</td>\n",
       "      <td>7</td>\n",
       "    </tr>\n",
       "  </tbody>\n",
       "</table>\n",
       "</div>"
      ],
      "text/plain": [
       "   user_id  item_id  search_session_id          ts  \\\n",
       "0        0    29220                  3  1400457600   \n",
       "\n",
       "                       keyword  query_id  rec_his  src_session_his  src_his  \\\n",
       "0  [3, 1, 8, 4, 14, 9, 15, 16]         3        5                2        2   \n",
       "\n",
       "   all_his  \n",
       "0        7  "
      ]
     },
     "execution_count": 49,
     "metadata": {},
     "output_type": "execute_result"
    },
    {
     "data": {
      "text/plain": [
       "(191566, 10)"
      ]
     },
     "execution_count": 49,
     "metadata": {},
     "output_type": "execute_result"
    },
    {
     "data": {
      "text/html": [
       "<div>\n",
       "<style scoped>\n",
       "    .dataframe tbody tr th:only-of-type {\n",
       "        vertical-align: middle;\n",
       "    }\n",
       "\n",
       "    .dataframe tbody tr th {\n",
       "        vertical-align: top;\n",
       "    }\n",
       "\n",
       "    .dataframe thead th {\n",
       "        text-align: right;\n",
       "    }\n",
       "</style>\n",
       "<table border=\"1\" class=\"dataframe\">\n",
       "  <thead>\n",
       "    <tr style=\"text-align: right;\">\n",
       "      <th></th>\n",
       "      <th>user_id</th>\n",
       "      <th>item_id</th>\n",
       "      <th>search_session_id</th>\n",
       "      <th>ts</th>\n",
       "      <th>keyword</th>\n",
       "      <th>query_id</th>\n",
       "      <th>rec_his</th>\n",
       "      <th>src_session_his</th>\n",
       "      <th>src_his</th>\n",
       "      <th>all_his</th>\n",
       "    </tr>\n",
       "  </thead>\n",
       "  <tbody>\n",
       "    <tr>\n",
       "      <th>0</th>\n",
       "      <td>0</td>\n",
       "      <td>62158</td>\n",
       "      <td>4</td>\n",
       "      <td>1400457600</td>\n",
       "      <td>[3, 17, 18, 19, 20]</td>\n",
       "      <td>4</td>\n",
       "      <td>4</td>\n",
       "      <td>3</td>\n",
       "      <td>3</td>\n",
       "      <td>8</td>\n",
       "    </tr>\n",
       "  </tbody>\n",
       "</table>\n",
       "</div>"
      ],
      "text/plain": [
       "   user_id  item_id  search_session_id          ts              keyword  \\\n",
       "0        0    62158                  4  1400457600  [3, 17, 18, 19, 20]   \n",
       "\n",
       "   query_id  rec_his  src_session_his  src_his  all_his  \n",
       "0         4        4                3        3        8  "
      ]
     },
     "execution_count": 49,
     "metadata": {},
     "output_type": "execute_result"
    }
   ],
   "source": [
    "src_train = src_w_his_inter_train[src_w_his_inter_train.train==1].reset_index(drop=True)\n",
    "src_train.drop(['train'],axis=1,inplace=True)\n",
    "src_train.shape\n",
    "src_train.head(1)\n",
    "\n",
    "src_val = src_w_his_inter_train[src_w_his_inter_train.train==2].reset_index(drop=True)\n",
    "src_val.drop(['train'],axis=1,inplace=True)\n",
    "src_val.shape\n",
    "src_val.head(1)\n",
    "\n",
    "src_test = src_w_his_inter_train[src_w_his_inter_train.train==3].reset_index(drop=True)\n",
    "src_test.drop(['train'],axis=1,inplace=True)\n",
    "src_test.shape\n",
    "src_test.head(1)"
   ]
  },
  {
   "cell_type": "code",
   "execution_count": 2,
   "metadata": {},
   "outputs": [
    {
     "data": {
      "text/plain": [
       "1081934"
      ]
     },
     "execution_count": 2,
     "metadata": {},
     "output_type": "execute_result"
    }
   ],
   "source": [
    "698802 + 191566 + 191566"
   ]
  },
  {
   "cell_type": "code",
   "execution_count": 50,
   "metadata": {},
   "outputs": [],
   "source": [
    "# num_train_neg_samples = 4\n",
    "# num_test_neg_samples = 99\n",
    "\n",
    "# src_item_set = src_w_his_inter['item_id'].to_list()\n",
    "# # sample with item popularity\n",
    "# # item_set = item_features['item_id'].unique()\n",
    "\n",
    "# def SampleNegatives_src(row, cur_num_samples):\n",
    "#     count = 0 \n",
    "#     user_id = int(row['user_id'])\n",
    "#     cur_pos = int(row['item_id'])\n",
    "#     # cur_rec_his = user_vocab[user_id]['rec_his'][:int(row['rec_his'])]\n",
    "#     # cur_src_his = user_vocab[user_id]['src_his'][:int(row['src_his'])]\n",
    "#     cur_all_his = user_vocab[user_id]['all_his'][:int(row['all_his'])]\n",
    "\n",
    "#     # cur_num_samples = num_train_neg_samples if row['train'] == 1 else num_test_neg_samples\n",
    "\n",
    "#     neg_samples = []\n",
    "#     while count < cur_num_samples:\n",
    "#         cur_neg = random.choice(src_item_set)\n",
    "#         if (cur_neg in cur_all_his) or (cur_neg in neg_samples) or (cur_neg == cur_pos):\n",
    "#             continue\n",
    "#         count += 1\n",
    "#         neg_samples.append(cur_neg)\n",
    "#     return neg_samples"
   ]
  },
  {
   "cell_type": "code",
   "execution_count": 51,
   "metadata": {},
   "outputs": [],
   "source": [
    "num_train_neg_samples = 4\n",
    "num_test_neg_samples = 99\n",
    "\n",
    "src_item_set = src_w_his_inter['item_id'].to_list()\n",
    "# sample with item popularity\n",
    "# item_set = item_features['item_id'].unique()\n",
    "\n",
    "def SampleNegatives_src(row, cur_num_samples):\n",
    "    count = 0 \n",
    "    user_id = int(row['user_id'])\n",
    "    cur_pos = int(row['item_id'])\n",
    "\n",
    "    cur_hits = searcher.search(query_vocab[row['query_id']]['query'], k=cur_num_samples+10)\n",
    "    neg_samples = [int(x.docid) for x in cur_hits if int(x.docid)!=cur_pos][:cur_num_samples]\n",
    "    count += len(neg_samples)\n",
    "\n",
    "    # cur_rec_his = user_vocab[user_id]['rec_his'][:int(row['rec_his'])]\n",
    "    # cur_src_his = user_vocab[user_id]['src_his'][:int(row['src_his'])]\n",
    "    cur_all_his = user_vocab[user_id]['all_his'][:int(row['all_his'])]\n",
    "\n",
    "    # cur_num_samples = num_train_neg_samples if row['train'] == 1 else num_test_neg_samples\n",
    "    # neg_samples = []\n",
    "    \n",
    "    while count < cur_num_samples:\n",
    "        cur_neg = random.choice(src_item_set)\n",
    "        if (cur_neg in cur_all_his) or (cur_neg in neg_samples) or (cur_neg == cur_pos):\n",
    "            continue\n",
    "        count += 1\n",
    "        neg_samples.append(cur_neg)\n",
    "    return neg_samples\n",
    "\n",
    "    \n",
    "    # return cur_hits_items\n",
    "    "
   ]
  },
  {
   "cell_type": "code",
   "execution_count": 52,
   "metadata": {},
   "outputs": [
    {
     "name": "stderr",
     "output_type": "stream",
     "text": [
      "698802it [23:13, 501.36it/s]\n"
     ]
    },
    {
     "data": {
      "text/html": [
       "<div>\n",
       "<style scoped>\n",
       "    .dataframe tbody tr th:only-of-type {\n",
       "        vertical-align: middle;\n",
       "    }\n",
       "\n",
       "    .dataframe tbody tr th {\n",
       "        vertical-align: top;\n",
       "    }\n",
       "\n",
       "    .dataframe thead th {\n",
       "        text-align: right;\n",
       "    }\n",
       "</style>\n",
       "<table border=\"1\" class=\"dataframe\">\n",
       "  <thead>\n",
       "    <tr style=\"text-align: right;\">\n",
       "      <th></th>\n",
       "      <th>user_id</th>\n",
       "      <th>item_id</th>\n",
       "      <th>search_session_id</th>\n",
       "      <th>ts</th>\n",
       "      <th>keyword</th>\n",
       "      <th>query_id</th>\n",
       "      <th>rec_his</th>\n",
       "      <th>src_session_his</th>\n",
       "      <th>src_his</th>\n",
       "      <th>all_his</th>\n",
       "      <th>neg_items</th>\n",
       "    </tr>\n",
       "  </thead>\n",
       "  <tbody>\n",
       "    <tr>\n",
       "      <th>0</th>\n",
       "      <td>0</td>\n",
       "      <td>17983</td>\n",
       "      <td>2</td>\n",
       "      <td>1400457600</td>\n",
       "      <td>[3, 7, 8, 9, 10, 11, 4, 12, 13]</td>\n",
       "      <td>2</td>\n",
       "      <td>5</td>\n",
       "      <td>1</td>\n",
       "      <td>1</td>\n",
       "      <td>6</td>\n",
       "      <td>[11690, 15890, 25110, 1547]</td>\n",
       "    </tr>\n",
       "    <tr>\n",
       "      <th>1</th>\n",
       "      <td>1</td>\n",
       "      <td>41809</td>\n",
       "      <td>6</td>\n",
       "      <td>1384041600</td>\n",
       "      <td>[3, 4, 21, 23, 24, 1]</td>\n",
       "      <td>6</td>\n",
       "      <td>2</td>\n",
       "      <td>1</td>\n",
       "      <td>1</td>\n",
       "      <td>4</td>\n",
       "      <td>[31823, 59578, 6597, 14107]</td>\n",
       "    </tr>\n",
       "    <tr>\n",
       "      <th>2</th>\n",
       "      <td>1</td>\n",
       "      <td>45935</td>\n",
       "      <td>7</td>\n",
       "      <td>1385769600</td>\n",
       "      <td>[3, 21, 16, 4, 25, 26, 27]</td>\n",
       "      <td>7</td>\n",
       "      <td>6</td>\n",
       "      <td>2</td>\n",
       "      <td>2</td>\n",
       "      <td>8</td>\n",
       "      <td>[33884, 34327, 31772, 59462]</td>\n",
       "    </tr>\n",
       "    <tr>\n",
       "      <th>3</th>\n",
       "      <td>2</td>\n",
       "      <td>50597</td>\n",
       "      <td>11</td>\n",
       "      <td>1366156800</td>\n",
       "      <td>[3, 38, 27, 4, 39, 40]</td>\n",
       "      <td>11</td>\n",
       "      <td>3</td>\n",
       "      <td>1</td>\n",
       "      <td>1</td>\n",
       "      <td>4</td>\n",
       "      <td>[24385, 24354, 37478, 38237]</td>\n",
       "    </tr>\n",
       "    <tr>\n",
       "      <th>4</th>\n",
       "      <td>3</td>\n",
       "      <td>21975</td>\n",
       "      <td>15</td>\n",
       "      <td>1375142400</td>\n",
       "      <td>[3, 4, 21, 16, 46]</td>\n",
       "      <td>14</td>\n",
       "      <td>1</td>\n",
       "      <td>1</td>\n",
       "      <td>1</td>\n",
       "      <td>3</td>\n",
       "      <td>[59462, 1547, 23288, 12270]</td>\n",
       "    </tr>\n",
       "  </tbody>\n",
       "</table>\n",
       "</div>"
      ],
      "text/plain": [
       "   user_id  item_id  search_session_id          ts  \\\n",
       "0        0    17983                  2  1400457600   \n",
       "1        1    41809                  6  1384041600   \n",
       "2        1    45935                  7  1385769600   \n",
       "3        2    50597                 11  1366156800   \n",
       "4        3    21975                 15  1375142400   \n",
       "\n",
       "                           keyword  query_id  rec_his  src_session_his  \\\n",
       "0  [3, 7, 8, 9, 10, 11, 4, 12, 13]         2        5                1   \n",
       "1            [3, 4, 21, 23, 24, 1]         6        2                1   \n",
       "2       [3, 21, 16, 4, 25, 26, 27]         7        6                2   \n",
       "3           [3, 38, 27, 4, 39, 40]        11        3                1   \n",
       "4               [3, 4, 21, 16, 46]        14        1                1   \n",
       "\n",
       "   src_his  all_his                     neg_items  \n",
       "0        1        6   [11690, 15890, 25110, 1547]  \n",
       "1        1        4   [31823, 59578, 6597, 14107]  \n",
       "2        2        8  [33884, 34327, 31772, 59462]  \n",
       "3        1        4  [24385, 24354, 37478, 38237]  \n",
       "4        1        3   [59462, 1547, 23288, 12270]  "
      ]
     },
     "execution_count": 52,
     "metadata": {},
     "output_type": "execute_result"
    }
   ],
   "source": [
    "neg_sample_list = []\n",
    "for _, line in tqdm(src_train.iterrows()):\n",
    "    neg_sample_list.append(SampleNegatives_src(line, cur_num_samples=4))\n",
    "src_train['neg_items'] = neg_sample_list\n",
    "src_train.head()"
   ]
  },
  {
   "cell_type": "code",
   "execution_count": 53,
   "metadata": {},
   "outputs": [],
   "source": [
    "# src_train['neg_items'] = src_train.parallel_apply(SampleNegatives_src,cur_num_samples=4,axis=1)\n",
    "# src_train.head()"
   ]
  },
  {
   "cell_type": "code",
   "execution_count": 54,
   "metadata": {},
   "outputs": [],
   "source": [
    "src_train.to_pickle(f\"{base_path}/dataset/src_train.pkl\")"
   ]
  },
  {
   "cell_type": "code",
   "execution_count": 55,
   "metadata": {},
   "outputs": [
    {
     "name": "stderr",
     "output_type": "stream",
     "text": [
      "191566it [25:52, 123.37it/s]\n"
     ]
    },
    {
     "data": {
      "text/html": [
       "<div>\n",
       "<style scoped>\n",
       "    .dataframe tbody tr th:only-of-type {\n",
       "        vertical-align: middle;\n",
       "    }\n",
       "\n",
       "    .dataframe tbody tr th {\n",
       "        vertical-align: top;\n",
       "    }\n",
       "\n",
       "    .dataframe thead th {\n",
       "        text-align: right;\n",
       "    }\n",
       "</style>\n",
       "<table border=\"1\" class=\"dataframe\">\n",
       "  <thead>\n",
       "    <tr style=\"text-align: right;\">\n",
       "      <th></th>\n",
       "      <th>user_id</th>\n",
       "      <th>item_id</th>\n",
       "      <th>search_session_id</th>\n",
       "      <th>ts</th>\n",
       "      <th>keyword</th>\n",
       "      <th>query_id</th>\n",
       "      <th>rec_his</th>\n",
       "      <th>src_session_his</th>\n",
       "      <th>src_his</th>\n",
       "      <th>all_his</th>\n",
       "      <th>neg_items</th>\n",
       "    </tr>\n",
       "  </thead>\n",
       "  <tbody>\n",
       "    <tr>\n",
       "      <th>0</th>\n",
       "      <td>0</td>\n",
       "      <td>29220</td>\n",
       "      <td>3</td>\n",
       "      <td>1400457600</td>\n",
       "      <td>[3, 1, 8, 4, 14, 9, 15, 16]</td>\n",
       "      <td>3</td>\n",
       "      <td>5</td>\n",
       "      <td>2</td>\n",
       "      <td>2</td>\n",
       "      <td>7</td>\n",
       "      <td>[12745, 17526, 3375, 24464, 31583, 49481, 4220...</td>\n",
       "    </tr>\n",
       "    <tr>\n",
       "      <th>1</th>\n",
       "      <td>1</td>\n",
       "      <td>54080</td>\n",
       "      <td>8</td>\n",
       "      <td>1385769600</td>\n",
       "      <td>[3, 21, 4, 28, 29, 30, 31, 32, 33]</td>\n",
       "      <td>8</td>\n",
       "      <td>5</td>\n",
       "      <td>3</td>\n",
       "      <td>3</td>\n",
       "      <td>9</td>\n",
       "      <td>[17484, 46956, 48206, 59817, 60052, 22939, 517...</td>\n",
       "    </tr>\n",
       "    <tr>\n",
       "      <th>2</th>\n",
       "      <td>2</td>\n",
       "      <td>42337</td>\n",
       "      <td>12</td>\n",
       "      <td>1370563200</td>\n",
       "      <td>[3, 21, 41, 6, 37, 4, 42, 20]</td>\n",
       "      <td>12</td>\n",
       "      <td>5</td>\n",
       "      <td>2</td>\n",
       "      <td>2</td>\n",
       "      <td>7</td>\n",
       "      <td>[22861, 32067, 59381, 41598, 51965, 45572, 373...</td>\n",
       "    </tr>\n",
       "    <tr>\n",
       "      <th>3</th>\n",
       "      <td>3</td>\n",
       "      <td>59964</td>\n",
       "      <td>16</td>\n",
       "      <td>1402876800</td>\n",
       "      <td>[3, 21, 4, 28, 29, 47, 48, 33]</td>\n",
       "      <td>15</td>\n",
       "      <td>5</td>\n",
       "      <td>2</td>\n",
       "      <td>2</td>\n",
       "      <td>7</td>\n",
       "      <td>[27760, 12136, 17631, 3717, 15509, 24564, 5247...</td>\n",
       "    </tr>\n",
       "    <tr>\n",
       "      <th>4</th>\n",
       "      <td>4</td>\n",
       "      <td>30244</td>\n",
       "      <td>21</td>\n",
       "      <td>1389744000</td>\n",
       "      <td>[3, 1, 58, 4, 59]</td>\n",
       "      <td>20</td>\n",
       "      <td>4</td>\n",
       "      <td>3</td>\n",
       "      <td>3</td>\n",
       "      <td>8</td>\n",
       "      <td>[30881, 44332, 59462, 50403, 51850, 33115, 287...</td>\n",
       "    </tr>\n",
       "  </tbody>\n",
       "</table>\n",
       "</div>"
      ],
      "text/plain": [
       "   user_id  item_id  search_session_id          ts  \\\n",
       "0        0    29220                  3  1400457600   \n",
       "1        1    54080                  8  1385769600   \n",
       "2        2    42337                 12  1370563200   \n",
       "3        3    59964                 16  1402876800   \n",
       "4        4    30244                 21  1389744000   \n",
       "\n",
       "                              keyword  query_id  rec_his  src_session_his  \\\n",
       "0         [3, 1, 8, 4, 14, 9, 15, 16]         3        5                2   \n",
       "1  [3, 21, 4, 28, 29, 30, 31, 32, 33]         8        5                3   \n",
       "2       [3, 21, 41, 6, 37, 4, 42, 20]        12        5                2   \n",
       "3      [3, 21, 4, 28, 29, 47, 48, 33]        15        5                2   \n",
       "4                   [3, 1, 58, 4, 59]        20        4                3   \n",
       "\n",
       "   src_his  all_his                                          neg_items  \n",
       "0        2        7  [12745, 17526, 3375, 24464, 31583, 49481, 4220...  \n",
       "1        3        9  [17484, 46956, 48206, 59817, 60052, 22939, 517...  \n",
       "2        2        7  [22861, 32067, 59381, 41598, 51965, 45572, 373...  \n",
       "3        2        7  [27760, 12136, 17631, 3717, 15509, 24564, 5247...  \n",
       "4        3        8  [30881, 44332, 59462, 50403, 51850, 33115, 287...  "
      ]
     },
     "execution_count": 55,
     "metadata": {},
     "output_type": "execute_result"
    }
   ],
   "source": [
    "neg_sample_list = []\n",
    "for _, line in tqdm(src_val.iterrows()):\n",
    "    neg_sample_list.append(SampleNegatives_src(line, cur_num_samples=99))\n",
    "src_val['neg_items'] = neg_sample_list\n",
    "src_val.head()"
   ]
  },
  {
   "cell_type": "code",
   "execution_count": 56,
   "metadata": {},
   "outputs": [],
   "source": [
    "# src_val['neg_items'] = src_val.parallel_apply(SampleNegatives_src,cur_num_samples=99,axis=1)"
   ]
  },
  {
   "cell_type": "code",
   "execution_count": 57,
   "metadata": {},
   "outputs": [],
   "source": [
    "src_val.to_pickle(f\"{base_path}/dataset/src_val.pkl\")"
   ]
  },
  {
   "cell_type": "code",
   "execution_count": 58,
   "metadata": {},
   "outputs": [
    {
     "name": "stderr",
     "output_type": "stream",
     "text": [
      "191566it [25:26, 125.51it/s]\n"
     ]
    },
    {
     "data": {
      "text/html": [
       "<div>\n",
       "<style scoped>\n",
       "    .dataframe tbody tr th:only-of-type {\n",
       "        vertical-align: middle;\n",
       "    }\n",
       "\n",
       "    .dataframe tbody tr th {\n",
       "        vertical-align: top;\n",
       "    }\n",
       "\n",
       "    .dataframe thead th {\n",
       "        text-align: right;\n",
       "    }\n",
       "</style>\n",
       "<table border=\"1\" class=\"dataframe\">\n",
       "  <thead>\n",
       "    <tr style=\"text-align: right;\">\n",
       "      <th></th>\n",
       "      <th>user_id</th>\n",
       "      <th>item_id</th>\n",
       "      <th>search_session_id</th>\n",
       "      <th>ts</th>\n",
       "      <th>keyword</th>\n",
       "      <th>query_id</th>\n",
       "      <th>rec_his</th>\n",
       "      <th>src_session_his</th>\n",
       "      <th>src_his</th>\n",
       "      <th>all_his</th>\n",
       "      <th>neg_items</th>\n",
       "    </tr>\n",
       "  </thead>\n",
       "  <tbody>\n",
       "    <tr>\n",
       "      <th>0</th>\n",
       "      <td>0</td>\n",
       "      <td>62158</td>\n",
       "      <td>4</td>\n",
       "      <td>1400457600</td>\n",
       "      <td>[3, 17, 18, 19, 20]</td>\n",
       "      <td>4</td>\n",
       "      <td>4</td>\n",
       "      <td>3</td>\n",
       "      <td>3</td>\n",
       "      <td>8</td>\n",
       "      <td>[61907, 52357, 24890, 24891, 41243, 59035, 366...</td>\n",
       "    </tr>\n",
       "    <tr>\n",
       "      <th>1</th>\n",
       "      <td>1</td>\n",
       "      <td>56442</td>\n",
       "      <td>9</td>\n",
       "      <td>1385769600</td>\n",
       "      <td>[3, 4, 23, 21, 20]</td>\n",
       "      <td>9</td>\n",
       "      <td>6</td>\n",
       "      <td>4</td>\n",
       "      <td>4</td>\n",
       "      <td>10</td>\n",
       "      <td>[59462, 33693, 15295, 8619, 8690, 16586, 28729...</td>\n",
       "    </tr>\n",
       "    <tr>\n",
       "      <th>2</th>\n",
       "      <td>2</td>\n",
       "      <td>47278</td>\n",
       "      <td>13</td>\n",
       "      <td>1370563200</td>\n",
       "      <td>[3, 21, 16, 4, 34, 35, 36, 37]</td>\n",
       "      <td>10</td>\n",
       "      <td>4</td>\n",
       "      <td>3</td>\n",
       "      <td>3</td>\n",
       "      <td>8</td>\n",
       "      <td>[49379, 62546, 57397, 51594, 56339, 21351, 514...</td>\n",
       "    </tr>\n",
       "    <tr>\n",
       "      <th>3</th>\n",
       "      <td>3</td>\n",
       "      <td>62157</td>\n",
       "      <td>17</td>\n",
       "      <td>1402876800</td>\n",
       "      <td>[3, 21, 16, 4, 49]</td>\n",
       "      <td>16</td>\n",
       "      <td>4</td>\n",
       "      <td>3</td>\n",
       "      <td>3</td>\n",
       "      <td>8</td>\n",
       "      <td>[59462, 44938, 8619, 8690, 34388, 32536, 40119...</td>\n",
       "    </tr>\n",
       "    <tr>\n",
       "      <th>4</th>\n",
       "      <td>4</td>\n",
       "      <td>61907</td>\n",
       "      <td>22</td>\n",
       "      <td>1402358400</td>\n",
       "      <td>[3, 17, 18, 19, 20]</td>\n",
       "      <td>4</td>\n",
       "      <td>7</td>\n",
       "      <td>4</td>\n",
       "      <td>4</td>\n",
       "      <td>11</td>\n",
       "      <td>[52357, 24890, 24891, 41243, 59035, 36680, 578...</td>\n",
       "    </tr>\n",
       "  </tbody>\n",
       "</table>\n",
       "</div>"
      ],
      "text/plain": [
       "   user_id  item_id  search_session_id          ts  \\\n",
       "0        0    62158                  4  1400457600   \n",
       "1        1    56442                  9  1385769600   \n",
       "2        2    47278                 13  1370563200   \n",
       "3        3    62157                 17  1402876800   \n",
       "4        4    61907                 22  1402358400   \n",
       "\n",
       "                          keyword  query_id  rec_his  src_session_his  \\\n",
       "0             [3, 17, 18, 19, 20]         4        4                3   \n",
       "1              [3, 4, 23, 21, 20]         9        6                4   \n",
       "2  [3, 21, 16, 4, 34, 35, 36, 37]        10        4                3   \n",
       "3              [3, 21, 16, 4, 49]        16        4                3   \n",
       "4             [3, 17, 18, 19, 20]         4        7                4   \n",
       "\n",
       "   src_his  all_his                                          neg_items  \n",
       "0        3        8  [61907, 52357, 24890, 24891, 41243, 59035, 366...  \n",
       "1        4       10  [59462, 33693, 15295, 8619, 8690, 16586, 28729...  \n",
       "2        3        8  [49379, 62546, 57397, 51594, 56339, 21351, 514...  \n",
       "3        3        8  [59462, 44938, 8619, 8690, 34388, 32536, 40119...  \n",
       "4        4       11  [52357, 24890, 24891, 41243, 59035, 36680, 578...  "
      ]
     },
     "execution_count": 58,
     "metadata": {},
     "output_type": "execute_result"
    }
   ],
   "source": [
    "neg_sample_list = []\n",
    "for _, line in tqdm(src_test.iterrows()):\n",
    "    neg_sample_list.append(SampleNegatives_src(line, cur_num_samples=99))\n",
    "src_test['neg_items'] = neg_sample_list\n",
    "src_test.head()"
   ]
  },
  {
   "cell_type": "code",
   "execution_count": 59,
   "metadata": {},
   "outputs": [],
   "source": [
    "# src_test['neg_items'] = src_test.parallel_apply(SampleNegatives_src,cur_num_samples=99,axis=1)"
   ]
  },
  {
   "cell_type": "code",
   "execution_count": 60,
   "metadata": {},
   "outputs": [],
   "source": [
    "src_test.to_pickle(f\"{base_path}/dataset/src_test.pkl\")"
   ]
  },
  {
   "cell_type": "markdown",
   "metadata": {},
   "source": [
    "## Get rec/src item set"
   ]
  },
  {
   "cell_type": "code",
   "execution_count": 4,
   "metadata": {},
   "outputs": [
    {
     "data": {
      "text/plain": [
       "(698802, 11)"
      ]
     },
     "execution_count": 4,
     "metadata": {},
     "output_type": "execute_result"
    },
    {
     "data": {
      "text/plain": [
       "(191566, 11)"
      ]
     },
     "execution_count": 4,
     "metadata": {},
     "output_type": "execute_result"
    },
    {
     "data": {
      "text/plain": [
       "(191566, 11)"
      ]
     },
     "execution_count": 4,
     "metadata": {},
     "output_type": "execute_result"
    }
   ],
   "source": [
    "src_train = pd.read_pickle('../dataset/src_train.pkl')\n",
    "src_train.shape\n",
    "\n",
    "src_val = pd.read_pickle('../dataset/src_val.pkl')\n",
    "src_val.shape\n",
    "\n",
    "src_test = pd.read_pickle('../dataset/src_test.pkl')\n",
    "src_test.shape"
   ]
  },
  {
   "cell_type": "code",
   "execution_count": 5,
   "metadata": {},
   "outputs": [
    {
     "data": {
      "text/html": [
       "<div>\n",
       "<style scoped>\n",
       "    .dataframe tbody tr th:only-of-type {\n",
       "        vertical-align: middle;\n",
       "    }\n",
       "\n",
       "    .dataframe tbody tr th {\n",
       "        vertical-align: top;\n",
       "    }\n",
       "\n",
       "    .dataframe thead th {\n",
       "        text-align: right;\n",
       "    }\n",
       "</style>\n",
       "<table border=\"1\" class=\"dataframe\">\n",
       "  <thead>\n",
       "    <tr style=\"text-align: right;\">\n",
       "      <th></th>\n",
       "      <th>user_id</th>\n",
       "      <th>item_id</th>\n",
       "      <th>search_session_id</th>\n",
       "      <th>ts</th>\n",
       "      <th>keyword</th>\n",
       "      <th>query_id</th>\n",
       "      <th>rec_his</th>\n",
       "      <th>src_session_his</th>\n",
       "      <th>src_his</th>\n",
       "      <th>all_his</th>\n",
       "      <th>neg_items</th>\n",
       "    </tr>\n",
       "  </thead>\n",
       "  <tbody>\n",
       "    <tr>\n",
       "      <th>0</th>\n",
       "      <td>0</td>\n",
       "      <td>17983</td>\n",
       "      <td>2</td>\n",
       "      <td>1400457600</td>\n",
       "      <td>[3, 7, 8, 9, 10, 11, 4, 12, 13]</td>\n",
       "      <td>2</td>\n",
       "      <td>5</td>\n",
       "      <td>1</td>\n",
       "      <td>1</td>\n",
       "      <td>6</td>\n",
       "      <td>[11690, 15890, 25110, 1547]</td>\n",
       "    </tr>\n",
       "    <tr>\n",
       "      <th>1</th>\n",
       "      <td>1</td>\n",
       "      <td>41809</td>\n",
       "      <td>6</td>\n",
       "      <td>1384041600</td>\n",
       "      <td>[3, 4, 21, 23, 24, 1]</td>\n",
       "      <td>6</td>\n",
       "      <td>2</td>\n",
       "      <td>1</td>\n",
       "      <td>1</td>\n",
       "      <td>4</td>\n",
       "      <td>[31823, 59578, 6597, 14107]</td>\n",
       "    </tr>\n",
       "    <tr>\n",
       "      <th>2</th>\n",
       "      <td>1</td>\n",
       "      <td>45935</td>\n",
       "      <td>7</td>\n",
       "      <td>1385769600</td>\n",
       "      <td>[3, 21, 16, 4, 25, 26, 27]</td>\n",
       "      <td>7</td>\n",
       "      <td>6</td>\n",
       "      <td>2</td>\n",
       "      <td>2</td>\n",
       "      <td>8</td>\n",
       "      <td>[33884, 34327, 31772, 59462]</td>\n",
       "    </tr>\n",
       "    <tr>\n",
       "      <th>3</th>\n",
       "      <td>2</td>\n",
       "      <td>50597</td>\n",
       "      <td>11</td>\n",
       "      <td>1366156800</td>\n",
       "      <td>[3, 38, 27, 4, 39, 40]</td>\n",
       "      <td>11</td>\n",
       "      <td>3</td>\n",
       "      <td>1</td>\n",
       "      <td>1</td>\n",
       "      <td>4</td>\n",
       "      <td>[24385, 24354, 37478, 38237]</td>\n",
       "    </tr>\n",
       "    <tr>\n",
       "      <th>4</th>\n",
       "      <td>3</td>\n",
       "      <td>21975</td>\n",
       "      <td>15</td>\n",
       "      <td>1375142400</td>\n",
       "      <td>[3, 4, 21, 16, 46]</td>\n",
       "      <td>14</td>\n",
       "      <td>1</td>\n",
       "      <td>1</td>\n",
       "      <td>1</td>\n",
       "      <td>3</td>\n",
       "      <td>[59462, 1547, 23288, 12270]</td>\n",
       "    </tr>\n",
       "  </tbody>\n",
       "</table>\n",
       "</div>"
      ],
      "text/plain": [
       "   user_id  item_id  search_session_id          ts  \\\n",
       "0        0    17983                  2  1400457600   \n",
       "1        1    41809                  6  1384041600   \n",
       "2        1    45935                  7  1385769600   \n",
       "3        2    50597                 11  1366156800   \n",
       "4        3    21975                 15  1375142400   \n",
       "\n",
       "                           keyword  query_id  rec_his  src_session_his  \\\n",
       "0  [3, 7, 8, 9, 10, 11, 4, 12, 13]         2        5                1   \n",
       "1            [3, 4, 21, 23, 24, 1]         6        2                1   \n",
       "2       [3, 21, 16, 4, 25, 26, 27]         7        6                2   \n",
       "3           [3, 38, 27, 4, 39, 40]        11        3                1   \n",
       "4               [3, 4, 21, 16, 46]        14        1                1   \n",
       "\n",
       "   src_his  all_his                     neg_items  \n",
       "0        1        6   [11690, 15890, 25110, 1547]  \n",
       "1        1        4   [31823, 59578, 6597, 14107]  \n",
       "2        2        8  [33884, 34327, 31772, 59462]  \n",
       "3        1        4  [24385, 24354, 37478, 38237]  \n",
       "4        1        3   [59462, 1547, 23288, 12270]  "
      ]
     },
     "execution_count": 5,
     "metadata": {},
     "output_type": "execute_result"
    }
   ],
   "source": [
    "src_train.head()"
   ]
  },
  {
   "cell_type": "code",
   "execution_count": 6,
   "metadata": {},
   "outputs": [
    {
     "data": {
      "text/plain": [
       "62649"
      ]
     },
     "execution_count": 6,
     "metadata": {},
     "output_type": "execute_result"
    }
   ],
   "source": [
    "src_item_set = set(src_train['item_id'].tolist()) | set(src_val['item_id'].tolist()) | set(src_test['item_id'].tolist())\n",
    "src_item_set = list(src_item_set)\n",
    "len(src_item_set)"
   ]
  },
  {
   "cell_type": "code",
   "execution_count": 7,
   "metadata": {},
   "outputs": [],
   "source": [
    "with open('../vocab/src_item_set.pkl', 'wb') as fp:\n",
    "    pickle.dump(src_item_set,fp)"
   ]
  },
  {
   "cell_type": "code",
   "execution_count": 8,
   "metadata": {},
   "outputs": [
    {
     "data": {
      "text/plain": [
       "(930387, 9)"
      ]
     },
     "execution_count": 8,
     "metadata": {},
     "output_type": "execute_result"
    },
    {
     "data": {
      "text/plain": [
       "(168258, 9)"
      ]
     },
     "execution_count": 8,
     "metadata": {},
     "output_type": "execute_result"
    },
    {
     "data": {
      "text/plain": [
       "(168258, 9)"
      ]
     },
     "execution_count": 8,
     "metadata": {},
     "output_type": "execute_result"
    }
   ],
   "source": [
    "rec_train = pd.read_pickle('../dataset/rec_train.pkl')\n",
    "rec_train.shape\n",
    "\n",
    "rec_val = pd.read_pickle('../dataset/rec_val.pkl')\n",
    "rec_val.shape\n",
    "\n",
    "rec_test = pd.read_pickle('../dataset/rec_test.pkl')\n",
    "rec_test.shape"
   ]
  },
  {
   "cell_type": "code",
   "execution_count": 9,
   "metadata": {},
   "outputs": [
    {
     "data": {
      "text/plain": [
       "62777"
      ]
     },
     "execution_count": 9,
     "metadata": {},
     "output_type": "execute_result"
    }
   ],
   "source": [
    "rec_item_set = set(rec_train['item_id'].tolist()) | set(rec_val['item_id'].tolist()) | set(rec_test['item_id'].tolist())\n",
    "rec_item_set = list(rec_item_set)\n",
    "len(rec_item_set)"
   ]
  },
  {
   "cell_type": "code",
   "execution_count": 10,
   "metadata": {},
   "outputs": [],
   "source": [
    "with open('../vocab/rec_item_set.pkl', 'wb') as fp:\n",
    "    pickle.dump(rec_item_set,fp)"
   ]
  },
  {
   "cell_type": "code",
   "execution_count": 11,
   "metadata": {},
   "outputs": [
    {
     "data": {
      "text/plain": [
       "62818"
      ]
     },
     "execution_count": 11,
     "metadata": {},
     "output_type": "execute_result"
    },
    {
     "data": {
      "text/plain": [
       "62608"
      ]
     },
     "execution_count": 11,
     "metadata": {},
     "output_type": "execute_result"
    }
   ],
   "source": [
    "len(set(src_item_set) | set(rec_item_set))\n",
    "\n",
    "len(set(src_item_set) & set(rec_item_set))"
   ]
  },
  {
   "cell_type": "code",
   "execution_count": null,
   "metadata": {},
   "outputs": [],
   "source": []
  }
 ],
 "metadata": {
  "kernelspec": {
   "display_name": "LLM_SAR",
   "language": "python",
   "name": "llm_sar"
  },
  "language_info": {
   "codemirror_mode": {
    "name": "ipython",
    "version": 3
   },
   "file_extension": ".py",
   "mimetype": "text/x-python",
   "name": "python",
   "nbconvert_exporter": "python",
   "pygments_lexer": "ipython3",
   "version": "3.10.15"
  }
 },
 "nbformat": 4,
 "nbformat_minor": 4
}
