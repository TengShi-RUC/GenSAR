{
 "cells": [
  {
   "cell_type": "code",
   "execution_count": 1,
   "metadata": {},
   "outputs": [],
   "source": [
    "import os\n",
    "import random\n",
    "import gzip\n",
    "import json\n",
    "import numpy as np\n",
    "import pandas as pd\n",
    "from tqdm import tqdm\n",
    "import torch\n",
    "import html\n",
    "import re\n",
    "from sklearn.utils import shuffle\n",
    "import pickle\n",
    "\n",
    "from IPython.core.interactiveshell import InteractiveShell\n",
    "InteractiveShell.ast_node_interactivity = 'all'"
   ]
  },
  {
   "cell_type": "code",
   "execution_count": 2,
   "metadata": {},
   "outputs": [],
   "source": [
    "def setup_seed(seed):\n",
    "    torch.manual_seed(seed)\n",
    "    torch.cuda.manual_seed(seed)\n",
    "    torch.cuda.manual_seed_all(seed)\n",
    "    np.random.seed(seed)\n",
    "    random.seed(seed)\n",
    "    torch.backends.cudnn.benchmark = False\n",
    "    torch.backends.cudnn.deterministic = True\n",
    "    os.environ['PYTHONHASHSEED'] = str(seed)  # 为了禁止hash随机化，使得实验可复现\n",
    "\n",
    "setup_seed(2024)"
   ]
  },
  {
   "cell_type": "markdown",
   "metadata": {},
   "source": [
    "## Item Features"
   ]
  },
  {
   "cell_type": "code",
   "execution_count": 3,
   "metadata": {},
   "outputs": [],
   "source": [
    "def clean_text(raw_text):\n",
    "    if isinstance(raw_text, list):\n",
    "        new_raw_text = []\n",
    "        for raw in raw_text:\n",
    "            raw = html.unescape(raw)\n",
    "            raw = re.sub(r'</?\\w+[^>]*>', '', raw)\n",
    "            raw = re.sub(r'[\"\\n\\r]*', '', raw)\n",
    "            new_raw_text.append(raw.strip())\n",
    "        cleaned_text = ' '.join(new_raw_text)\n",
    "    else:\n",
    "        if isinstance(raw_text, dict):\n",
    "            cleaned_text = str(raw_text)[1:-1].strip()\n",
    "        else:\n",
    "            cleaned_text = raw_text.strip()\n",
    "        cleaned_text = html.unescape(cleaned_text)\n",
    "        cleaned_text = re.sub(r'</?\\w+[^>]*>', '', cleaned_text)\n",
    "        cleaned_text = re.sub(r'[\"\\n\\r]*', '', cleaned_text)\n",
    "    index = -1\n",
    "    while -index < len(cleaned_text) and cleaned_text[index] == '.':\n",
    "        index -= 1\n",
    "    index += 1\n",
    "    if index == 0:\n",
    "        cleaned_text = cleaned_text + '.'\n",
    "    else:\n",
    "        cleaned_text = cleaned_text[:index] + '.'\n",
    "    if len(cleaned_text) >= 2000:\n",
    "        cleaned_text = ''\n",
    "    return cleaned_text"
   ]
  },
  {
   "cell_type": "code",
   "execution_count": 4,
   "metadata": {},
   "outputs": [
    {
     "name": "stderr",
     "output_type": "stream",
     "text": [
      "Load metas: 498196it [02:48, 2955.98it/s]\n"
     ]
    },
    {
     "data": {
      "text/html": [
       "<div>\n",
       "<style scoped>\n",
       "    .dataframe tbody tr th:only-of-type {\n",
       "        vertical-align: middle;\n",
       "    }\n",
       "\n",
       "    .dataframe tbody tr th {\n",
       "        vertical-align: top;\n",
       "    }\n",
       "\n",
       "    .dataframe thead th {\n",
       "        text-align: right;\n",
       "    }\n",
       "</style>\n",
       "<table border=\"1\" class=\"dataframe\">\n",
       "  <thead>\n",
       "    <tr style=\"text-align: right;\">\n",
       "      <th></th>\n",
       "      <th>asin</th>\n",
       "      <th>title</th>\n",
       "      <th>description</th>\n",
       "      <th>brand</th>\n",
       "      <th>categories</th>\n",
       "    </tr>\n",
       "  </thead>\n",
       "  <tbody>\n",
       "    <tr>\n",
       "      <th>0</th>\n",
       "      <td>0132793040</td>\n",
       "      <td>Kelby Training DVD: Mastering Blend Modes in A...</td>\n",
       "      <td>The Kelby Training DVD Mastering Blend Modes i...</td>\n",
       "      <td></td>\n",
       "      <td>Electronics,Computers &amp; Accessories,Cables &amp; A...</td>\n",
       "    </tr>\n",
       "    <tr>\n",
       "      <th>1</th>\n",
       "      <td>0321732944</td>\n",
       "      <td>Kelby Training DVD: Adobe Photoshop CS5 Crash ...</td>\n",
       "      <td></td>\n",
       "      <td></td>\n",
       "      <td>Electronics,Computers &amp; Accessories,Cables &amp; A...</td>\n",
       "    </tr>\n",
       "    <tr>\n",
       "      <th>2</th>\n",
       "      <td>0439886341</td>\n",
       "      <td>Digital Organizer and Messenger.</td>\n",
       "      <td>Digital Organizer and Messenger.</td>\n",
       "      <td></td>\n",
       "      <td>Electronics,Computers &amp; Accessories,PDAs, Hand...</td>\n",
       "    </tr>\n",
       "    <tr>\n",
       "      <th>3</th>\n",
       "      <td>0511189877</td>\n",
       "      <td>CLIKR-5 Time Warner Cable Remote Control UR5U-...</td>\n",
       "      <td>The CLIKR-5 UR5U-8780L remote control is desig...</td>\n",
       "      <td></td>\n",
       "      <td>Electronics,Accessories &amp; Supplies,Audio &amp; Vid...</td>\n",
       "    </tr>\n",
       "    <tr>\n",
       "      <th>4</th>\n",
       "      <td>0528881469</td>\n",
       "      <td>Rand McNally 528881469 7-inch Intelliroute TND...</td>\n",
       "      <td></td>\n",
       "      <td></td>\n",
       "      <td>Electronics,GPS &amp; Navigation,Vehicle GPS,Truck...</td>\n",
       "    </tr>\n",
       "  </tbody>\n",
       "</table>\n",
       "</div>"
      ],
      "text/plain": [
       "         asin                                              title  \\\n",
       "0  0132793040  Kelby Training DVD: Mastering Blend Modes in A...   \n",
       "1  0321732944  Kelby Training DVD: Adobe Photoshop CS5 Crash ...   \n",
       "2  0439886341                   Digital Organizer and Messenger.   \n",
       "3  0511189877  CLIKR-5 Time Warner Cable Remote Control UR5U-...   \n",
       "4  0528881469  Rand McNally 528881469 7-inch Intelliroute TND...   \n",
       "\n",
       "                                         description brand  \\\n",
       "0  The Kelby Training DVD Mastering Blend Modes i...         \n",
       "1                                                            \n",
       "2                   Digital Organizer and Messenger.         \n",
       "3  The CLIKR-5 UR5U-8780L remote control is desig...         \n",
       "4                                                            \n",
       "\n",
       "                                          categories  \n",
       "0  Electronics,Computers & Accessories,Cables & A...  \n",
       "1  Electronics,Computers & Accessories,Cables & A...  \n",
       "2  Electronics,Computers & Accessories,PDAs, Hand...  \n",
       "3  Electronics,Accessories & Supplies,Audio & Vid...  \n",
       "4  Electronics,GPS & Navigation,Vehicle GPS,Truck...  "
      ]
     },
     "execution_count": 4,
     "metadata": {},
     "output_type": "execute_result"
    },
    {
     "data": {
      "text/plain": [
       "(498196, 5)"
      ]
     },
     "execution_count": 4,
     "metadata": {},
     "output_type": "execute_result"
    }
   ],
   "source": [
    "item_feats = []\n",
    "with gzip.open('../orig_data/meta_Electronics_2014.json.gz', \"r\") as fp:\n",
    "    for idx, line in tqdm(enumerate(fp), desc=\"Load metas\"):\n",
    "        \n",
    "        # data = json.loads(line)\n",
    "        data = eval(line) # 2014\n",
    "        item = data[\"asin\"]\n",
    "\n",
    "        if 'title' in data.keys():\n",
    "            title = clean_text(data[\"title\"])\n",
    "        else:\n",
    "            title = ''\n",
    "\n",
    "        if 'description' in data.keys():\n",
    "            descriptions = data[\"description\"]\n",
    "            descriptions = clean_text(descriptions)\n",
    "        else:\n",
    "            descriptions = ''\n",
    "\n",
    "        if 'brand' in data.keys():\n",
    "            brand = data[\"brand\"].replace(\"by\\n\", \"\").strip()\n",
    "        else:\n",
    "            brand = ''\n",
    "\n",
    "        if 'category' in data.keys():\n",
    "            category_key = 'category'\n",
    "        elif 'categories' in data.keys():\n",
    "            category_key = 'categories'\n",
    "        else:\n",
    "            category_key = None\n",
    "\n",
    "        if category_key:\n",
    "            categories = data[category_key]\n",
    "            if category_key == 'categories':\n",
    "                categories = sum(categories,[])\n",
    "            \n",
    "            new_categories = []\n",
    "            for category in categories:\n",
    "                if \"</span>\" in category:\n",
    "                    break\n",
    "                new_categories.append(category.strip())\n",
    "            categories = \",\".join(new_categories).strip()\n",
    "        else:\n",
    "            categories = ''\n",
    "\n",
    "        item_feats.append({\n",
    "            \"asin\": item,\n",
    "            \"title\": title,\n",
    "            \"description\": descriptions,\n",
    "            \"brand\": brand,\n",
    "            \"categories\": categories\n",
    "        })\n",
    "item_df = pd.DataFrame(item_feats)\n",
    "item_df.head()\n",
    "item_df.shape"
   ]
  },
  {
   "cell_type": "code",
   "execution_count": 5,
   "metadata": {},
   "outputs": [
    {
     "data": {
      "text/html": [
       "<div>\n",
       "<style scoped>\n",
       "    .dataframe tbody tr th:only-of-type {\n",
       "        vertical-align: middle;\n",
       "    }\n",
       "\n",
       "    .dataframe tbody tr th {\n",
       "        vertical-align: top;\n",
       "    }\n",
       "\n",
       "    .dataframe thead th {\n",
       "        text-align: right;\n",
       "    }\n",
       "</style>\n",
       "<table border=\"1\" class=\"dataframe\">\n",
       "  <thead>\n",
       "    <tr style=\"text-align: right;\">\n",
       "      <th></th>\n",
       "      <th>asin</th>\n",
       "      <th>title</th>\n",
       "      <th>description</th>\n",
       "      <th>brand</th>\n",
       "      <th>categories</th>\n",
       "    </tr>\n",
       "  </thead>\n",
       "  <tbody>\n",
       "    <tr>\n",
       "      <th>0</th>\n",
       "      <td>0132793040</td>\n",
       "      <td>Kelby Training DVD: Mastering Blend Modes in A...</td>\n",
       "      <td>The Kelby Training DVD Mastering Blend Modes i...</td>\n",
       "      <td></td>\n",
       "      <td>Electronics,Computers &amp; Accessories,Cables &amp; A...</td>\n",
       "    </tr>\n",
       "    <tr>\n",
       "      <th>1</th>\n",
       "      <td>0321732944</td>\n",
       "      <td>Kelby Training DVD: Adobe Photoshop CS5 Crash ...</td>\n",
       "      <td></td>\n",
       "      <td></td>\n",
       "      <td>Electronics,Computers &amp; Accessories,Cables &amp; A...</td>\n",
       "    </tr>\n",
       "    <tr>\n",
       "      <th>2</th>\n",
       "      <td>0439886341</td>\n",
       "      <td>Digital Organizer and Messenger.</td>\n",
       "      <td>Digital Organizer and Messenger.</td>\n",
       "      <td></td>\n",
       "      <td>Electronics,Computers &amp; Accessories,PDAs, Hand...</td>\n",
       "    </tr>\n",
       "    <tr>\n",
       "      <th>3</th>\n",
       "      <td>0511189877</td>\n",
       "      <td>CLIKR-5 Time Warner Cable Remote Control UR5U-...</td>\n",
       "      <td>The CLIKR-5 UR5U-8780L remote control is desig...</td>\n",
       "      <td></td>\n",
       "      <td>Electronics,Accessories &amp; Supplies,Audio &amp; Vid...</td>\n",
       "    </tr>\n",
       "    <tr>\n",
       "      <th>4</th>\n",
       "      <td>0528881469</td>\n",
       "      <td>Rand McNally 528881469 7-inch Intelliroute TND...</td>\n",
       "      <td></td>\n",
       "      <td></td>\n",
       "      <td>Electronics,GPS &amp; Navigation,Vehicle GPS,Truck...</td>\n",
       "    </tr>\n",
       "  </tbody>\n",
       "</table>\n",
       "</div>"
      ],
      "text/plain": [
       "         asin                                              title  \\\n",
       "0  0132793040  Kelby Training DVD: Mastering Blend Modes in A...   \n",
       "1  0321732944  Kelby Training DVD: Adobe Photoshop CS5 Crash ...   \n",
       "2  0439886341                   Digital Organizer and Messenger.   \n",
       "3  0511189877  CLIKR-5 Time Warner Cable Remote Control UR5U-...   \n",
       "4  0528881469  Rand McNally 528881469 7-inch Intelliroute TND...   \n",
       "\n",
       "                                         description brand  \\\n",
       "0  The Kelby Training DVD Mastering Blend Modes i...         \n",
       "1                                                            \n",
       "2                   Digital Organizer and Messenger.         \n",
       "3  The CLIKR-5 UR5U-8780L remote control is desig...         \n",
       "4                                                            \n",
       "\n",
       "                                          categories  \n",
       "0  Electronics,Computers & Accessories,Cables & A...  \n",
       "1  Electronics,Computers & Accessories,Cables & A...  \n",
       "2  Electronics,Computers & Accessories,PDAs, Hand...  \n",
       "3  Electronics,Accessories & Supplies,Audio & Vid...  \n",
       "4  Electronics,GPS & Navigation,Vehicle GPS,Truck...  "
      ]
     },
     "execution_count": 5,
     "metadata": {},
     "output_type": "execute_result"
    },
    {
     "data": {
      "text/plain": [
       "(498196, 5)"
      ]
     },
     "execution_count": 5,
     "metadata": {},
     "output_type": "execute_result"
    }
   ],
   "source": [
    "item_df = item_df.drop_duplicates(subset=['asin'])\n",
    "item_df = item_df.reset_index(drop=True)\n",
    "item_df.head()\n",
    "item_df.shape"
   ]
  },
  {
   "cell_type": "code",
   "execution_count": 6,
   "metadata": {},
   "outputs": [],
   "source": [
    "def get_item_text(row):\n",
    "    return ' '.join([row['title'], row['description']])\n",
    "    \n",
    "item_df['text'] = item_df.apply(get_item_text, axis=1)"
   ]
  },
  {
   "cell_type": "code",
   "execution_count": 7,
   "metadata": {},
   "outputs": [],
   "source": [
    "def count_null_text(row):\n",
    "    row_text = row['text'].strip()\n",
    "    return len(row_text)==0\n",
    "\n",
    "item_df_null_text = item_df.apply(count_null_text,axis=1)"
   ]
  },
  {
   "cell_type": "code",
   "execution_count": 8,
   "metadata": {},
   "outputs": [
    {
     "data": {
      "text/plain": [
       "(497343, 6)"
      ]
     },
     "execution_count": 8,
     "metadata": {},
     "output_type": "execute_result"
    }
   ],
   "source": [
    "item_df[~item_df_null_text].shape"
   ]
  },
  {
   "cell_type": "code",
   "execution_count": 9,
   "metadata": {},
   "outputs": [],
   "source": [
    "# item_df = item_df[~item_df_null_text].reset_index(drop=True)\n",
    "# item_df.shape"
   ]
  },
  {
   "cell_type": "markdown",
   "metadata": {},
   "source": [
    "## Rec Inter"
   ]
  },
  {
   "cell_type": "code",
   "execution_count": 10,
   "metadata": {},
   "outputs": [
    {
     "name": "stderr",
     "output_type": "stream",
     "text": [
      "Load rec inter: 1689188it [00:37, 44970.07it/s]\n"
     ]
    },
    {
     "data": {
      "text/html": [
       "<div>\n",
       "<style scoped>\n",
       "    .dataframe tbody tr th:only-of-type {\n",
       "        vertical-align: middle;\n",
       "    }\n",
       "\n",
       "    .dataframe tbody tr th {\n",
       "        vertical-align: top;\n",
       "    }\n",
       "\n",
       "    .dataframe thead th {\n",
       "        text-align: right;\n",
       "    }\n",
       "</style>\n",
       "<table border=\"1\" class=\"dataframe\">\n",
       "  <thead>\n",
       "    <tr style=\"text-align: right;\">\n",
       "      <th></th>\n",
       "      <th>user_id</th>\n",
       "      <th>item_id</th>\n",
       "      <th>score</th>\n",
       "      <th>ts</th>\n",
       "    </tr>\n",
       "  </thead>\n",
       "  <tbody>\n",
       "    <tr>\n",
       "      <th>0</th>\n",
       "      <td>A000715434M800HLCENK9</td>\n",
       "      <td>B000UYYZ0M</td>\n",
       "      <td>1.0</td>\n",
       "      <td>1400457600</td>\n",
       "    </tr>\n",
       "    <tr>\n",
       "      <th>1</th>\n",
       "      <td>A000715434M800HLCENK9</td>\n",
       "      <td>B001EHAI6Y</td>\n",
       "      <td>5.0</td>\n",
       "      <td>1400457600</td>\n",
       "    </tr>\n",
       "    <tr>\n",
       "      <th>2</th>\n",
       "      <td>A000715434M800HLCENK9</td>\n",
       "      <td>B003AFONFU</td>\n",
       "      <td>3.0</td>\n",
       "      <td>1400457600</td>\n",
       "    </tr>\n",
       "    <tr>\n",
       "      <th>3</th>\n",
       "      <td>A000715434M800HLCENK9</td>\n",
       "      <td>B003ES5ZUU</td>\n",
       "      <td>2.0</td>\n",
       "      <td>1400457600</td>\n",
       "    </tr>\n",
       "    <tr>\n",
       "      <th>4</th>\n",
       "      <td>A000715434M800HLCENK9</td>\n",
       "      <td>B00HMZG3YS</td>\n",
       "      <td>5.0</td>\n",
       "      <td>1400457600</td>\n",
       "    </tr>\n",
       "  </tbody>\n",
       "</table>\n",
       "</div>"
      ],
      "text/plain": [
       "                 user_id     item_id  score          ts\n",
       "0  A000715434M800HLCENK9  B000UYYZ0M    1.0  1400457600\n",
       "1  A000715434M800HLCENK9  B001EHAI6Y    5.0  1400457600\n",
       "2  A000715434M800HLCENK9  B003AFONFU    3.0  1400457600\n",
       "3  A000715434M800HLCENK9  B003ES5ZUU    2.0  1400457600\n",
       "4  A000715434M800HLCENK9  B00HMZG3YS    5.0  1400457600"
      ]
     },
     "execution_count": 10,
     "metadata": {},
     "output_type": "execute_result"
    },
    {
     "data": {
      "text/plain": [
       "(1689188, 4)"
      ]
     },
     "execution_count": 10,
     "metadata": {},
     "output_type": "execute_result"
    }
   ],
   "source": [
    "userID, itemID, score, ts = [],[],[],[]\n",
    "with gzip.open('../orig_data/reviews_Electronics_5.json.gz') as f:\n",
    "    for l in tqdm(f, desc=\"Load rec inter\"):\n",
    "        line = json.loads(l.strip())\n",
    "        userID.append(line['reviewerID'])\n",
    "        itemID.append(line['asin'])\n",
    "        score.append(line['overall'])\n",
    "        ts.append(line['unixReviewTime'])\n",
    "    \n",
    "rec_inter = pd.DataFrame(\n",
    "    data = list(zip(userID, itemID, score, ts)), columns=['user_id','item_id','score','ts']\n",
    ").sort_values(by=['user_id','ts']).reset_index(drop=True)\n",
    "rec_inter.head()\n",
    "rec_inter.shape"
   ]
  },
  {
   "cell_type": "code",
   "execution_count": 11,
   "metadata": {},
   "outputs": [
    {
     "data": {
      "text/html": [
       "<div>\n",
       "<style scoped>\n",
       "    .dataframe tbody tr th:only-of-type {\n",
       "        vertical-align: middle;\n",
       "    }\n",
       "\n",
       "    .dataframe tbody tr th {\n",
       "        vertical-align: top;\n",
       "    }\n",
       "\n",
       "    .dataframe thead th {\n",
       "        text-align: right;\n",
       "    }\n",
       "</style>\n",
       "<table border=\"1\" class=\"dataframe\">\n",
       "  <thead>\n",
       "    <tr style=\"text-align: right;\">\n",
       "      <th></th>\n",
       "      <th>user_id</th>\n",
       "      <th>item_id</th>\n",
       "      <th>score</th>\n",
       "      <th>ts</th>\n",
       "    </tr>\n",
       "  </thead>\n",
       "  <tbody>\n",
       "    <tr>\n",
       "      <th>0</th>\n",
       "      <td>A000715434M800HLCENK9</td>\n",
       "      <td>B000UYYZ0M</td>\n",
       "      <td>1.0</td>\n",
       "      <td>1400457600</td>\n",
       "    </tr>\n",
       "    <tr>\n",
       "      <th>1</th>\n",
       "      <td>A000715434M800HLCENK9</td>\n",
       "      <td>B001EHAI6Y</td>\n",
       "      <td>5.0</td>\n",
       "      <td>1400457600</td>\n",
       "    </tr>\n",
       "    <tr>\n",
       "      <th>2</th>\n",
       "      <td>A000715434M800HLCENK9</td>\n",
       "      <td>B003AFONFU</td>\n",
       "      <td>3.0</td>\n",
       "      <td>1400457600</td>\n",
       "    </tr>\n",
       "    <tr>\n",
       "      <th>3</th>\n",
       "      <td>A000715434M800HLCENK9</td>\n",
       "      <td>B003ES5ZUU</td>\n",
       "      <td>2.0</td>\n",
       "      <td>1400457600</td>\n",
       "    </tr>\n",
       "    <tr>\n",
       "      <th>4</th>\n",
       "      <td>A000715434M800HLCENK9</td>\n",
       "      <td>B00HMZG3YS</td>\n",
       "      <td>5.0</td>\n",
       "      <td>1400457600</td>\n",
       "    </tr>\n",
       "  </tbody>\n",
       "</table>\n",
       "</div>"
      ],
      "text/plain": [
       "                 user_id     item_id  score          ts\n",
       "0  A000715434M800HLCENK9  B000UYYZ0M    1.0  1400457600\n",
       "1  A000715434M800HLCENK9  B001EHAI6Y    5.0  1400457600\n",
       "2  A000715434M800HLCENK9  B003AFONFU    3.0  1400457600\n",
       "3  A000715434M800HLCENK9  B003ES5ZUU    2.0  1400457600\n",
       "4  A000715434M800HLCENK9  B00HMZG3YS    5.0  1400457600"
      ]
     },
     "execution_count": 11,
     "metadata": {},
     "output_type": "execute_result"
    },
    {
     "data": {
      "text/plain": [
       "(1689188, 4)"
      ]
     },
     "execution_count": 11,
     "metadata": {},
     "output_type": "execute_result"
    }
   ],
   "source": [
    "filter_rec_inter = rec_inter[rec_inter['item_id'].isin(item_df['asin'].tolist())].reset_index(drop=True)\n",
    "filter_rec_inter.head()\n",
    "filter_rec_inter.shape"
   ]
  },
  {
   "cell_type": "markdown",
   "metadata": {},
   "source": [
    "## Src Inter"
   ]
  },
  {
   "cell_type": "code",
   "execution_count": 12,
   "metadata": {},
   "outputs": [
    {
     "name": "stderr",
     "output_type": "stream",
     "text": [
      "1344310it [00:05, 232776.54it/s]\n"
     ]
    },
    {
     "data": {
      "text/html": [
       "<div>\n",
       "<style scoped>\n",
       "    .dataframe tbody tr th:only-of-type {\n",
       "        vertical-align: middle;\n",
       "    }\n",
       "\n",
       "    .dataframe tbody tr th {\n",
       "        vertical-align: top;\n",
       "    }\n",
       "\n",
       "    .dataframe thead th {\n",
       "        text-align: right;\n",
       "    }\n",
       "</style>\n",
       "<table border=\"1\" class=\"dataframe\">\n",
       "  <thead>\n",
       "    <tr style=\"text-align: right;\">\n",
       "      <th></th>\n",
       "      <th>user_id</th>\n",
       "      <th>query_id</th>\n",
       "      <th>item_id</th>\n",
       "      <th>label</th>\n",
       "    </tr>\n",
       "  </thead>\n",
       "  <tbody>\n",
       "    <tr>\n",
       "      <th>0</th>\n",
       "      <td>A26ZDKC53OP6JD</td>\n",
       "      <td>22</td>\n",
       "      <td>B000M51NRM</td>\n",
       "      <td>1</td>\n",
       "    </tr>\n",
       "    <tr>\n",
       "      <th>1</th>\n",
       "      <td>A26ZDKC53OP6JD</td>\n",
       "      <td>422</td>\n",
       "      <td>B007KFVQXI</td>\n",
       "      <td>1</td>\n",
       "    </tr>\n",
       "    <tr>\n",
       "      <th>2</th>\n",
       "      <td>A26ZDKC53OP6JD</td>\n",
       "      <td>338</td>\n",
       "      <td>B0033UPL3A</td>\n",
       "      <td>1</td>\n",
       "    </tr>\n",
       "    <tr>\n",
       "      <th>3</th>\n",
       "      <td>A26ZDKC53OP6JD</td>\n",
       "      <td>30</td>\n",
       "      <td>B001D0E4EE</td>\n",
       "      <td>1</td>\n",
       "    </tr>\n",
       "    <tr>\n",
       "      <th>4</th>\n",
       "      <td>A3PU0U2IOF9IKV</td>\n",
       "      <td>42</td>\n",
       "      <td>B000HPV3RW</td>\n",
       "      <td>1</td>\n",
       "    </tr>\n",
       "  </tbody>\n",
       "</table>\n",
       "</div>"
      ],
      "text/plain": [
       "          user_id  query_id     item_id label\n",
       "0  A26ZDKC53OP6JD        22  B000M51NRM     1\n",
       "1  A26ZDKC53OP6JD       422  B007KFVQXI     1\n",
       "2  A26ZDKC53OP6JD       338  B0033UPL3A     1\n",
       "3  A26ZDKC53OP6JD        30  B001D0E4EE     1\n",
       "4  A3PU0U2IOF9IKV        42  B000HPV3RW     1"
      ]
     },
     "execution_count": 12,
     "metadata": {},
     "output_type": "execute_result"
    },
    {
     "data": {
      "text/plain": [
       "(1344310, 4)"
      ]
     },
     "execution_count": 12,
     "metadata": {},
     "output_type": "execute_result"
    }
   ],
   "source": [
    "u_id_list, q_id_list, i_id_list, label_list = [],[],[],[]\n",
    "with gzip.open('../orig_data/train.qrels.gz') as f:\n",
    "    for l in tqdm(f):\n",
    "        u_q_id, _, i_id, label = l.strip().decode().split(' ')\n",
    "        u_id, q_id = u_q_id.split(\"_\")\n",
    "        u_id_list.append(u_id)\n",
    "        q_id_list.append(int(q_id))\n",
    "        i_id_list.append(i_id)\n",
    "        label_list.append(label)\n",
    "\n",
    "train_src = pd.DataFrame(\n",
    "    data = list(zip(u_id_list, q_id_list, i_id_list, label_list)), columns=['user_id','query_id','item_id','label']\n",
    ")\n",
    "train_src.head()\n",
    "train_src.shape"
   ]
  },
  {
   "cell_type": "code",
   "execution_count": 13,
   "metadata": {},
   "outputs": [
    {
     "name": "stderr",
     "output_type": "stream",
     "text": [
      "5541it [00:00, 274151.42it/s]\n"
     ]
    },
    {
     "data": {
      "text/html": [
       "<div>\n",
       "<style scoped>\n",
       "    .dataframe tbody tr th:only-of-type {\n",
       "        vertical-align: middle;\n",
       "    }\n",
       "\n",
       "    .dataframe tbody tr th {\n",
       "        vertical-align: top;\n",
       "    }\n",
       "\n",
       "    .dataframe thead th {\n",
       "        text-align: right;\n",
       "    }\n",
       "</style>\n",
       "<table border=\"1\" class=\"dataframe\">\n",
       "  <thead>\n",
       "    <tr style=\"text-align: right;\">\n",
       "      <th></th>\n",
       "      <th>user_id</th>\n",
       "      <th>query_id</th>\n",
       "      <th>item_id</th>\n",
       "      <th>label</th>\n",
       "    </tr>\n",
       "  </thead>\n",
       "  <tbody>\n",
       "    <tr>\n",
       "      <th>0</th>\n",
       "      <td>A35D452UPESD7P</td>\n",
       "      <td>259</td>\n",
       "      <td>B000S5Q9CA</td>\n",
       "      <td>1</td>\n",
       "    </tr>\n",
       "    <tr>\n",
       "      <th>1</th>\n",
       "      <td>A2IPVT2ZRN0VX1</td>\n",
       "      <td>640</td>\n",
       "      <td>B004R9OVEG</td>\n",
       "      <td>1</td>\n",
       "    </tr>\n",
       "    <tr>\n",
       "      <th>2</th>\n",
       "      <td>A3VEGTSHTWDZNI</td>\n",
       "      <td>630</td>\n",
       "      <td>B0079UAT0A</td>\n",
       "      <td>1</td>\n",
       "    </tr>\n",
       "    <tr>\n",
       "      <th>3</th>\n",
       "      <td>A1X71ZRAH72HEH</td>\n",
       "      <td>155</td>\n",
       "      <td>B005DOK8NW</td>\n",
       "      <td>1</td>\n",
       "    </tr>\n",
       "    <tr>\n",
       "      <th>4</th>\n",
       "      <td>A2OZ6PW2W5FQTP</td>\n",
       "      <td>520</td>\n",
       "      <td>B0094CX5M0</td>\n",
       "      <td>1</td>\n",
       "    </tr>\n",
       "  </tbody>\n",
       "</table>\n",
       "</div>"
      ],
      "text/plain": [
       "          user_id  query_id     item_id label\n",
       "0  A35D452UPESD7P       259  B000S5Q9CA     1\n",
       "1  A2IPVT2ZRN0VX1       640  B004R9OVEG     1\n",
       "2  A3VEGTSHTWDZNI       630  B0079UAT0A     1\n",
       "3  A1X71ZRAH72HEH       155  B005DOK8NW     1\n",
       "4  A2OZ6PW2W5FQTP       520  B0094CX5M0     1"
      ]
     },
     "execution_count": 13,
     "metadata": {},
     "output_type": "execute_result"
    },
    {
     "data": {
      "text/plain": [
       "(5541, 4)"
      ]
     },
     "execution_count": 13,
     "metadata": {},
     "output_type": "execute_result"
    }
   ],
   "source": [
    "u_id_list, q_id_list, i_id_list, label_list = [],[],[],[]\n",
    "with gzip.open('../orig_data/test.qrels.gz') as f:\n",
    "    for l in tqdm(f):\n",
    "        u_q_id, _, i_id, label = l.strip().decode().split(' ')\n",
    "        u_id, q_id = u_q_id.split(\"_\")\n",
    "        u_id_list.append(u_id)\n",
    "        q_id_list.append(int(q_id))\n",
    "        i_id_list.append(i_id)\n",
    "        label_list.append(label)\n",
    "\n",
    "test_src = pd.DataFrame(\n",
    "    data = list(zip(u_id_list, q_id_list, i_id_list, label_list)), columns=['user_id','query_id','item_id','label']\n",
    ")\n",
    "test_src.head()\n",
    "test_src.shape"
   ]
  },
  {
   "cell_type": "code",
   "execution_count": 14,
   "metadata": {},
   "outputs": [
    {
     "data": {
      "text/plain": [
       "(1349851, 4)"
      ]
     },
     "execution_count": 14,
     "metadata": {},
     "output_type": "execute_result"
    },
    {
     "data": {
      "text/html": [
       "<div>\n",
       "<style scoped>\n",
       "    .dataframe tbody tr th:only-of-type {\n",
       "        vertical-align: middle;\n",
       "    }\n",
       "\n",
       "    .dataframe tbody tr th {\n",
       "        vertical-align: top;\n",
       "    }\n",
       "\n",
       "    .dataframe thead th {\n",
       "        text-align: right;\n",
       "    }\n",
       "</style>\n",
       "<table border=\"1\" class=\"dataframe\">\n",
       "  <thead>\n",
       "    <tr style=\"text-align: right;\">\n",
       "      <th></th>\n",
       "      <th>user_id</th>\n",
       "      <th>query_id</th>\n",
       "      <th>item_id</th>\n",
       "      <th>label</th>\n",
       "    </tr>\n",
       "  </thead>\n",
       "  <tbody>\n",
       "    <tr>\n",
       "      <th>1349846</th>\n",
       "      <td>A15CCQLICLK4KF</td>\n",
       "      <td>585</td>\n",
       "      <td>B006GWO5WK</td>\n",
       "      <td>1</td>\n",
       "    </tr>\n",
       "    <tr>\n",
       "      <th>1349847</th>\n",
       "      <td>A35UO4FBTUV47Y</td>\n",
       "      <td>908</td>\n",
       "      <td>B004XZHY34</td>\n",
       "      <td>1</td>\n",
       "    </tr>\n",
       "    <tr>\n",
       "      <th>1349848</th>\n",
       "      <td>AHXSLU9C78I2G</td>\n",
       "      <td>585</td>\n",
       "      <td>B006GWO5WK</td>\n",
       "      <td>1</td>\n",
       "    </tr>\n",
       "    <tr>\n",
       "      <th>1349849</th>\n",
       "      <td>A3C20ENKWB1NZ3</td>\n",
       "      <td>155</td>\n",
       "      <td>B005DOK8NW</td>\n",
       "      <td>1</td>\n",
       "    </tr>\n",
       "    <tr>\n",
       "      <th>1349850</th>\n",
       "      <td>A3C20ENKWB1NZ3</td>\n",
       "      <td>906</td>\n",
       "      <td>B0026RHUQC</td>\n",
       "      <td>1</td>\n",
       "    </tr>\n",
       "  </tbody>\n",
       "</table>\n",
       "</div>"
      ],
      "text/plain": [
       "                user_id  query_id     item_id label\n",
       "1349846  A15CCQLICLK4KF       585  B006GWO5WK     1\n",
       "1349847  A35UO4FBTUV47Y       908  B004XZHY34     1\n",
       "1349848   AHXSLU9C78I2G       585  B006GWO5WK     1\n",
       "1349849  A3C20ENKWB1NZ3       155  B005DOK8NW     1\n",
       "1349850  A3C20ENKWB1NZ3       906  B0026RHUQC     1"
      ]
     },
     "execution_count": 14,
     "metadata": {},
     "output_type": "execute_result"
    },
    {
     "data": {
      "text/html": [
       "<div>\n",
       "<style scoped>\n",
       "    .dataframe tbody tr th:only-of-type {\n",
       "        vertical-align: middle;\n",
       "    }\n",
       "\n",
       "    .dataframe tbody tr th {\n",
       "        vertical-align: top;\n",
       "    }\n",
       "\n",
       "    .dataframe thead th {\n",
       "        text-align: right;\n",
       "    }\n",
       "</style>\n",
       "<table border=\"1\" class=\"dataframe\">\n",
       "  <thead>\n",
       "    <tr style=\"text-align: right;\">\n",
       "      <th></th>\n",
       "      <th>user_id</th>\n",
       "      <th>query_id</th>\n",
       "      <th>item_id</th>\n",
       "      <th>label</th>\n",
       "    </tr>\n",
       "  </thead>\n",
       "  <tbody>\n",
       "    <tr>\n",
       "      <th>1344339</th>\n",
       "      <td>APZ050ESISCN6</td>\n",
       "      <td>986</td>\n",
       "      <td>B000B9RI14</td>\n",
       "      <td>1</td>\n",
       "    </tr>\n",
       "    <tr>\n",
       "      <th>991784</th>\n",
       "      <td>A1TR1R2QKWRSRA</td>\n",
       "      <td>26</td>\n",
       "      <td>B005A0B3FQ</td>\n",
       "      <td>1</td>\n",
       "    </tr>\n",
       "    <tr>\n",
       "      <th>131977</th>\n",
       "      <td>A1EV3O3KX1N39L</td>\n",
       "      <td>21</td>\n",
       "      <td>B00CGVF8E4</td>\n",
       "      <td>1</td>\n",
       "    </tr>\n",
       "    <tr>\n",
       "      <th>214006</th>\n",
       "      <td>A2OIF6ZL17EQSM</td>\n",
       "      <td>59</td>\n",
       "      <td>B001QY1KSK</td>\n",
       "      <td>1</td>\n",
       "    </tr>\n",
       "    <tr>\n",
       "      <th>1296126</th>\n",
       "      <td>A1RIZP61N768LW</td>\n",
       "      <td>158</td>\n",
       "      <td>B003L1ZYZ6</td>\n",
       "      <td>1</td>\n",
       "    </tr>\n",
       "  </tbody>\n",
       "</table>\n",
       "</div>"
      ],
      "text/plain": [
       "                user_id  query_id     item_id label\n",
       "1344339   APZ050ESISCN6       986  B000B9RI14     1\n",
       "991784   A1TR1R2QKWRSRA        26  B005A0B3FQ     1\n",
       "131977   A1EV3O3KX1N39L        21  B00CGVF8E4     1\n",
       "214006   A2OIF6ZL17EQSM        59  B001QY1KSK     1\n",
       "1296126  A1RIZP61N768LW       158  B003L1ZYZ6     1"
      ]
     },
     "execution_count": 14,
     "metadata": {},
     "output_type": "execute_result"
    },
    {
     "data": {
      "text/plain": [
       "(1280465, 4)"
      ]
     },
     "execution_count": 14,
     "metadata": {},
     "output_type": "execute_result"
    }
   ],
   "source": [
    "all_src_inter = pd.concat([train_src,test_src],axis=0).reset_index(drop=True)\n",
    "all_src_inter.shape\n",
    "all_src_inter.tail()\n",
    "\n",
    "df = shuffle(all_src_inter)\n",
    "\n",
    "new_src_Data = df.drop_duplicates(subset=['user_id', 'item_id'], keep='first')\n",
    "new_src_Data.head()\n",
    "new_src_Data.shape"
   ]
  },
  {
   "cell_type": "code",
   "execution_count": 15,
   "metadata": {},
   "outputs": [
    {
     "data": {
      "text/plain": [
       "(1280465, 6)"
      ]
     },
     "execution_count": 15,
     "metadata": {},
     "output_type": "execute_result"
    },
    {
     "data": {
      "text/html": [
       "<div>\n",
       "<style scoped>\n",
       "    .dataframe tbody tr th:only-of-type {\n",
       "        vertical-align: middle;\n",
       "    }\n",
       "\n",
       "    .dataframe tbody tr th {\n",
       "        vertical-align: top;\n",
       "    }\n",
       "\n",
       "    .dataframe thead th {\n",
       "        text-align: right;\n",
       "    }\n",
       "</style>\n",
       "<table border=\"1\" class=\"dataframe\">\n",
       "  <thead>\n",
       "    <tr style=\"text-align: right;\">\n",
       "      <th></th>\n",
       "      <th>user_id</th>\n",
       "      <th>item_id</th>\n",
       "      <th>score</th>\n",
       "      <th>ts</th>\n",
       "      <th>query_id</th>\n",
       "      <th>label</th>\n",
       "    </tr>\n",
       "  </thead>\n",
       "  <tbody>\n",
       "    <tr>\n",
       "      <th>0</th>\n",
       "      <td>A000715434M800HLCENK9</td>\n",
       "      <td>B000UYYZ0M</td>\n",
       "      <td>1.0</td>\n",
       "      <td>1400457600</td>\n",
       "      <td>433</td>\n",
       "      <td>1</td>\n",
       "    </tr>\n",
       "    <tr>\n",
       "      <th>1</th>\n",
       "      <td>A000715434M800HLCENK9</td>\n",
       "      <td>B001EHAI6Y</td>\n",
       "      <td>5.0</td>\n",
       "      <td>1400457600</td>\n",
       "      <td>834</td>\n",
       "      <td>1</td>\n",
       "    </tr>\n",
       "    <tr>\n",
       "      <th>2</th>\n",
       "      <td>A000715434M800HLCENK9</td>\n",
       "      <td>B003ES5ZUU</td>\n",
       "      <td>2.0</td>\n",
       "      <td>1400457600</td>\n",
       "      <td>22</td>\n",
       "      <td>1</td>\n",
       "    </tr>\n",
       "    <tr>\n",
       "      <th>3</th>\n",
       "      <td>A000715434M800HLCENK9</td>\n",
       "      <td>B00HMZG3YS</td>\n",
       "      <td>5.0</td>\n",
       "      <td>1400457600</td>\n",
       "      <td>104</td>\n",
       "      <td>1</td>\n",
       "    </tr>\n",
       "    <tr>\n",
       "      <th>4</th>\n",
       "      <td>A00101847G3FJTWYGNQA</td>\n",
       "      <td>B00C7NSIO8</td>\n",
       "      <td>5.0</td>\n",
       "      <td>1379548800</td>\n",
       "      <td>57</td>\n",
       "      <td>1</td>\n",
       "    </tr>\n",
       "  </tbody>\n",
       "</table>\n",
       "</div>"
      ],
      "text/plain": [
       "                 user_id     item_id  score          ts  query_id label\n",
       "0  A000715434M800HLCENK9  B000UYYZ0M    1.0  1400457600       433     1\n",
       "1  A000715434M800HLCENK9  B001EHAI6Y    5.0  1400457600       834     1\n",
       "2  A000715434M800HLCENK9  B003ES5ZUU    2.0  1400457600        22     1\n",
       "3  A000715434M800HLCENK9  B00HMZG3YS    5.0  1400457600       104     1\n",
       "4   A00101847G3FJTWYGNQA  B00C7NSIO8    5.0  1379548800        57     1"
      ]
     },
     "execution_count": 15,
     "metadata": {},
     "output_type": "execute_result"
    }
   ],
   "source": [
    "merge_src_inter = rec_inter.merge(new_src_Data,how='inner',on=['user_id','item_id'])\n",
    "merge_src_inter.shape\n",
    "merge_src_inter.head()"
   ]
  },
  {
   "cell_type": "code",
   "execution_count": 16,
   "metadata": {},
   "outputs": [
    {
     "data": {
      "text/plain": [
       "(1275989, 6)"
      ]
     },
     "execution_count": 16,
     "metadata": {},
     "output_type": "execute_result"
    },
    {
     "data": {
      "text/html": [
       "<div>\n",
       "<style scoped>\n",
       "    .dataframe tbody tr th:only-of-type {\n",
       "        vertical-align: middle;\n",
       "    }\n",
       "\n",
       "    .dataframe tbody tr th {\n",
       "        vertical-align: top;\n",
       "    }\n",
       "\n",
       "    .dataframe thead th {\n",
       "        text-align: right;\n",
       "    }\n",
       "</style>\n",
       "<table border=\"1\" class=\"dataframe\">\n",
       "  <thead>\n",
       "    <tr style=\"text-align: right;\">\n",
       "      <th></th>\n",
       "      <th>user_id</th>\n",
       "      <th>item_id</th>\n",
       "      <th>score</th>\n",
       "      <th>ts</th>\n",
       "      <th>query_id</th>\n",
       "      <th>label</th>\n",
       "    </tr>\n",
       "  </thead>\n",
       "  <tbody>\n",
       "    <tr>\n",
       "      <th>0</th>\n",
       "      <td>A000715434M800HLCENK9</td>\n",
       "      <td>B000UYYZ0M</td>\n",
       "      <td>1.0</td>\n",
       "      <td>1400457600</td>\n",
       "      <td>433</td>\n",
       "      <td>1</td>\n",
       "    </tr>\n",
       "    <tr>\n",
       "      <th>1</th>\n",
       "      <td>A000715434M800HLCENK9</td>\n",
       "      <td>B001EHAI6Y</td>\n",
       "      <td>5.0</td>\n",
       "      <td>1400457600</td>\n",
       "      <td>834</td>\n",
       "      <td>1</td>\n",
       "    </tr>\n",
       "    <tr>\n",
       "      <th>2</th>\n",
       "      <td>A000715434M800HLCENK9</td>\n",
       "      <td>B003ES5ZUU</td>\n",
       "      <td>2.0</td>\n",
       "      <td>1400457600</td>\n",
       "      <td>22</td>\n",
       "      <td>1</td>\n",
       "    </tr>\n",
       "    <tr>\n",
       "      <th>3</th>\n",
       "      <td>A000715434M800HLCENK9</td>\n",
       "      <td>B00HMZG3YS</td>\n",
       "      <td>5.0</td>\n",
       "      <td>1400457600</td>\n",
       "      <td>104</td>\n",
       "      <td>1</td>\n",
       "    </tr>\n",
       "    <tr>\n",
       "      <th>4</th>\n",
       "      <td>A00101847G3FJTWYGNQA</td>\n",
       "      <td>B00C7NSIO8</td>\n",
       "      <td>5.0</td>\n",
       "      <td>1379548800</td>\n",
       "      <td>57</td>\n",
       "      <td>1</td>\n",
       "    </tr>\n",
       "  </tbody>\n",
       "</table>\n",
       "</div>"
      ],
      "text/plain": [
       "                 user_id     item_id  score          ts  query_id label\n",
       "0  A000715434M800HLCENK9  B000UYYZ0M    1.0  1400457600       433     1\n",
       "1  A000715434M800HLCENK9  B001EHAI6Y    5.0  1400457600       834     1\n",
       "2  A000715434M800HLCENK9  B003ES5ZUU    2.0  1400457600        22     1\n",
       "3  A000715434M800HLCENK9  B00HMZG3YS    5.0  1400457600       104     1\n",
       "4   A00101847G3FJTWYGNQA  B00C7NSIO8    5.0  1379548800        57     1"
      ]
     },
     "execution_count": 16,
     "metadata": {},
     "output_type": "execute_result"
    }
   ],
   "source": [
    "filter_merge_src_inter = merge_src_inter[merge_src_inter['item_id'].isin(item_df['asin'].tolist())].reset_index(drop=True)\n",
    "filter_merge_src_inter.shape\n",
    "filter_merge_src_inter.head()"
   ]
  },
  {
   "cell_type": "markdown",
   "metadata": {},
   "source": [
    "## Get Item Set"
   ]
  },
  {
   "cell_type": "code",
   "execution_count": 16,
   "metadata": {},
   "outputs": [
    {
     "data": {
      "text/plain": [
       "63001"
      ]
     },
     "execution_count": 16,
     "metadata": {},
     "output_type": "execute_result"
    },
    {
     "data": {
      "text/plain": [
       "62993"
      ]
     },
     "execution_count": 16,
     "metadata": {},
     "output_type": "execute_result"
    },
    {
     "data": {
      "text/plain": [
       "62993"
      ]
     },
     "execution_count": 16,
     "metadata": {},
     "output_type": "execute_result"
    },
    {
     "data": {
      "text/plain": [
       "63001"
      ]
     },
     "execution_count": 16,
     "metadata": {},
     "output_type": "execute_result"
    },
    {
     "data": {
      "text/plain": [
       "63001"
      ]
     },
     "execution_count": 16,
     "metadata": {},
     "output_type": "execute_result"
    }
   ],
   "source": [
    "rec_item_set = set(rec_inter['item_id'].unique())\n",
    "src_item_set = set(merge_src_inter['item_id'].unique())\n",
    "len(rec_item_set)\n",
    "len(src_item_set)\n",
    "len(rec_item_set & src_item_set)\n",
    "len(rec_item_set | src_item_set)\n",
    "\n",
    "all_item_set = list(rec_item_set | src_item_set)\n",
    "len(all_item_set)"
   ]
  },
  {
   "cell_type": "code",
   "execution_count": 17,
   "metadata": {},
   "outputs": [
    {
     "data": {
      "text/html": [
       "<div>\n",
       "<style scoped>\n",
       "    .dataframe tbody tr th:only-of-type {\n",
       "        vertical-align: middle;\n",
       "    }\n",
       "\n",
       "    .dataframe tbody tr th {\n",
       "        vertical-align: top;\n",
       "    }\n",
       "\n",
       "    .dataframe thead th {\n",
       "        text-align: right;\n",
       "    }\n",
       "</style>\n",
       "<table border=\"1\" class=\"dataframe\">\n",
       "  <thead>\n",
       "    <tr style=\"text-align: right;\">\n",
       "      <th></th>\n",
       "      <th>asin</th>\n",
       "      <th>title</th>\n",
       "      <th>description</th>\n",
       "      <th>brand</th>\n",
       "      <th>categories</th>\n",
       "      <th>text</th>\n",
       "    </tr>\n",
       "  </thead>\n",
       "  <tbody>\n",
       "    <tr>\n",
       "      <th>0</th>\n",
       "      <td>0528881469</td>\n",
       "      <td>Rand McNally 528881469 7-inch Intelliroute TND...</td>\n",
       "      <td></td>\n",
       "      <td></td>\n",
       "      <td>Electronics,GPS &amp; Navigation,Vehicle GPS,Truck...</td>\n",
       "      <td>Rand McNally 528881469 7-inch Intelliroute TND...</td>\n",
       "    </tr>\n",
       "    <tr>\n",
       "      <th>1</th>\n",
       "      <td>0594451647</td>\n",
       "      <td>Barnes &amp; Noble HDTV Adapter Kit for NOOK HD an...</td>\n",
       "      <td>HDTV Adapter Kit for NOOK HD and NOOK HD+This ...</td>\n",
       "      <td></td>\n",
       "      <td>Electronics,Computers &amp; Accessories,Touch Scre...</td>\n",
       "      <td>Barnes &amp; Noble HDTV Adapter Kit for NOOK HD an...</td>\n",
       "    </tr>\n",
       "    <tr>\n",
       "      <th>2</th>\n",
       "      <td>0594481813</td>\n",
       "      <td>Barnes &amp; Noble OV/HB-ADP Universal Power Kit.</td>\n",
       "      <td>Power up your device with this Barnes &amp; Noble ...</td>\n",
       "      <td>Barnes &amp;amp; Noble</td>\n",
       "      <td>Electronics,eBook Readers &amp; Accessories,Power ...</td>\n",
       "      <td>Barnes &amp; Noble OV/HB-ADP Universal Power Kit. ...</td>\n",
       "    </tr>\n",
       "    <tr>\n",
       "      <th>3</th>\n",
       "      <td>0972683275</td>\n",
       "      <td>VideoSecu 24 Long Arm TV Wall Mount Low Profil...</td>\n",
       "      <td>The VideoSecu TV mount is a mounting solution ...</td>\n",
       "      <td>VideoSecu</td>\n",
       "      <td>Electronics,Accessories &amp; Supplies,Audio &amp; Vid...</td>\n",
       "      <td>VideoSecu 24 Long Arm TV Wall Mount Low Profil...</td>\n",
       "    </tr>\n",
       "    <tr>\n",
       "      <th>4</th>\n",
       "      <td>1400532620</td>\n",
       "      <td>Barnes &amp; Noble Nook eReader - no 3G.</td>\n",
       "      <td>Barnes &amp; Noble Nook eReader - no 3GMeet nook. ...</td>\n",
       "      <td>Barnes &amp;amp; Noble</td>\n",
       "      <td>Electronics,eBook Readers &amp; Accessories</td>\n",
       "      <td>Barnes &amp; Noble Nook eReader - no 3G. Barnes &amp; ...</td>\n",
       "    </tr>\n",
       "  </tbody>\n",
       "</table>\n",
       "</div>"
      ],
      "text/plain": [
       "         asin                                              title  \\\n",
       "0  0528881469  Rand McNally 528881469 7-inch Intelliroute TND...   \n",
       "1  0594451647  Barnes & Noble HDTV Adapter Kit for NOOK HD an...   \n",
       "2  0594481813      Barnes & Noble OV/HB-ADP Universal Power Kit.   \n",
       "3  0972683275  VideoSecu 24 Long Arm TV Wall Mount Low Profil...   \n",
       "4  1400532620               Barnes & Noble Nook eReader - no 3G.   \n",
       "\n",
       "                                         description               brand  \\\n",
       "0                                                                          \n",
       "1  HDTV Adapter Kit for NOOK HD and NOOK HD+This ...                       \n",
       "2  Power up your device with this Barnes & Noble ...  Barnes &amp; Noble   \n",
       "3  The VideoSecu TV mount is a mounting solution ...           VideoSecu   \n",
       "4  Barnes & Noble Nook eReader - no 3GMeet nook. ...  Barnes &amp; Noble   \n",
       "\n",
       "                                          categories  \\\n",
       "0  Electronics,GPS & Navigation,Vehicle GPS,Truck...   \n",
       "1  Electronics,Computers & Accessories,Touch Scre...   \n",
       "2  Electronics,eBook Readers & Accessories,Power ...   \n",
       "3  Electronics,Accessories & Supplies,Audio & Vid...   \n",
       "4            Electronics,eBook Readers & Accessories   \n",
       "\n",
       "                                                text  \n",
       "0  Rand McNally 528881469 7-inch Intelliroute TND...  \n",
       "1  Barnes & Noble HDTV Adapter Kit for NOOK HD an...  \n",
       "2  Barnes & Noble OV/HB-ADP Universal Power Kit. ...  \n",
       "3  VideoSecu 24 Long Arm TV Wall Mount Low Profil...  \n",
       "4  Barnes & Noble Nook eReader - no 3G. Barnes & ...  "
      ]
     },
     "execution_count": 17,
     "metadata": {},
     "output_type": "execute_result"
    },
    {
     "data": {
      "text/plain": [
       "(63001, 6)"
      ]
     },
     "execution_count": 17,
     "metadata": {},
     "output_type": "execute_result"
    }
   ],
   "source": [
    "item_df = item_df[item_df['asin'].isin(all_item_set)].reset_index(drop=True)\n",
    "item_df.head()\n",
    "item_df.shape"
   ]
  },
  {
   "cell_type": "code",
   "execution_count": 18,
   "metadata": {},
   "outputs": [],
   "source": [
    "item_df_null_text = item_df.apply(count_null_text,axis=1)"
   ]
  },
  {
   "cell_type": "code",
   "execution_count": 19,
   "metadata": {},
   "outputs": [
    {
     "data": {
      "text/plain": [
       "(62882, 6)"
      ]
     },
     "execution_count": 19,
     "metadata": {},
     "output_type": "execute_result"
    }
   ],
   "source": [
    "item_df[~item_df_null_text].shape"
   ]
  },
  {
   "cell_type": "code",
   "execution_count": 20,
   "metadata": {},
   "outputs": [
    {
     "data": {
      "text/plain": [
       "0.001888858907001476"
      ]
     },
     "execution_count": 20,
     "metadata": {},
     "output_type": "execute_result"
    }
   ],
   "source": [
    "(63001 - 62882) / 63001"
   ]
  },
  {
   "cell_type": "code",
   "execution_count": 19,
   "metadata": {},
   "outputs": [],
   "source": [
    "item_df = item_df.astype({\"asin\":'category'})\n",
    "id2item = item_df['asin'].cat.categories.to_list()\n",
    "# id2item[0]\n",
    "item2id = {id2item[k]:k+1 for k in range(len(id2item))} # +1 for padding\n",
    "# item2id[0]\n",
    "item_df['item_id'] = item_df['asin'].map(item2id)"
   ]
  },
  {
   "cell_type": "code",
   "execution_count": 20,
   "metadata": {},
   "outputs": [
    {
     "data": {
      "text/html": [
       "<div>\n",
       "<style scoped>\n",
       "    .dataframe tbody tr th:only-of-type {\n",
       "        vertical-align: middle;\n",
       "    }\n",
       "\n",
       "    .dataframe tbody tr th {\n",
       "        vertical-align: top;\n",
       "    }\n",
       "\n",
       "    .dataframe thead th {\n",
       "        text-align: right;\n",
       "    }\n",
       "</style>\n",
       "<table border=\"1\" class=\"dataframe\">\n",
       "  <thead>\n",
       "    <tr style=\"text-align: right;\">\n",
       "      <th></th>\n",
       "      <th>item_id</th>\n",
       "      <th>asin</th>\n",
       "      <th>title</th>\n",
       "      <th>description</th>\n",
       "      <th>brand</th>\n",
       "      <th>categories</th>\n",
       "    </tr>\n",
       "  </thead>\n",
       "  <tbody>\n",
       "    <tr>\n",
       "      <th>0</th>\n",
       "      <td>0</td>\n",
       "      <td>&lt;pad&gt;</td>\n",
       "      <td></td>\n",
       "      <td></td>\n",
       "      <td></td>\n",
       "      <td></td>\n",
       "    </tr>\n",
       "  </tbody>\n",
       "</table>\n",
       "</div>"
      ],
      "text/plain": [
       "   item_id   asin title description brand categories\n",
       "0        0  <pad>                                   "
      ]
     },
     "execution_count": 20,
     "metadata": {},
     "output_type": "execute_result"
    },
    {
     "data": {
      "text/plain": [
       "62883"
      ]
     },
     "execution_count": 20,
     "metadata": {},
     "output_type": "execute_result"
    },
    {
     "data": {
      "text/html": [
       "<div>\n",
       "<style scoped>\n",
       "    .dataframe tbody tr th:only-of-type {\n",
       "        vertical-align: middle;\n",
       "    }\n",
       "\n",
       "    .dataframe tbody tr th {\n",
       "        vertical-align: top;\n",
       "    }\n",
       "\n",
       "    .dataframe thead th {\n",
       "        text-align: right;\n",
       "    }\n",
       "</style>\n",
       "<table border=\"1\" class=\"dataframe\">\n",
       "  <thead>\n",
       "    <tr style=\"text-align: right;\">\n",
       "      <th></th>\n",
       "      <th>item_id</th>\n",
       "      <th>asin</th>\n",
       "      <th>title</th>\n",
       "      <th>description</th>\n",
       "      <th>brand</th>\n",
       "      <th>categories</th>\n",
       "      <th>text</th>\n",
       "    </tr>\n",
       "  </thead>\n",
       "  <tbody>\n",
       "    <tr>\n",
       "      <th>0</th>\n",
       "      <td>0</td>\n",
       "      <td>&lt;pad&gt;</td>\n",
       "      <td></td>\n",
       "      <td></td>\n",
       "      <td></td>\n",
       "      <td></td>\n",
       "      <td>NaN</td>\n",
       "    </tr>\n",
       "    <tr>\n",
       "      <th>1</th>\n",
       "      <td>1</td>\n",
       "      <td>0528881469</td>\n",
       "      <td>Rand McNally 528881469 7-inch Intelliroute TND...</td>\n",
       "      <td></td>\n",
       "      <td></td>\n",
       "      <td>Electronics,GPS &amp; Navigation,Vehicle GPS,Truck...</td>\n",
       "      <td>Rand McNally 528881469 7-inch Intelliroute TND...</td>\n",
       "    </tr>\n",
       "    <tr>\n",
       "      <th>2</th>\n",
       "      <td>2</td>\n",
       "      <td>0594451647</td>\n",
       "      <td>Barnes &amp; Noble HDTV Adapter Kit for NOOK HD an...</td>\n",
       "      <td>HDTV Adapter Kit for NOOK HD and NOOK HD+This ...</td>\n",
       "      <td></td>\n",
       "      <td>Electronics,Computers &amp; Accessories,Touch Scre...</td>\n",
       "      <td>Barnes &amp; Noble HDTV Adapter Kit for NOOK HD an...</td>\n",
       "    </tr>\n",
       "    <tr>\n",
       "      <th>3</th>\n",
       "      <td>3</td>\n",
       "      <td>0594481813</td>\n",
       "      <td>Barnes &amp; Noble OV/HB-ADP Universal Power Kit.</td>\n",
       "      <td>Power up your device with this Barnes &amp; Noble ...</td>\n",
       "      <td>Barnes &amp;amp; Noble</td>\n",
       "      <td>Electronics,eBook Readers &amp; Accessories,Power ...</td>\n",
       "      <td>Barnes &amp; Noble OV/HB-ADP Universal Power Kit. ...</td>\n",
       "    </tr>\n",
       "    <tr>\n",
       "      <th>4</th>\n",
       "      <td>4</td>\n",
       "      <td>0972683275</td>\n",
       "      <td>VideoSecu 24 Long Arm TV Wall Mount Low Profil...</td>\n",
       "      <td>The VideoSecu TV mount is a mounting solution ...</td>\n",
       "      <td>VideoSecu</td>\n",
       "      <td>Electronics,Accessories &amp; Supplies,Audio &amp; Vid...</td>\n",
       "      <td>VideoSecu 24 Long Arm TV Wall Mount Low Profil...</td>\n",
       "    </tr>\n",
       "  </tbody>\n",
       "</table>\n",
       "</div>"
      ],
      "text/plain": [
       "   item_id        asin                                              title  \\\n",
       "0        0       <pad>                                                      \n",
       "1        1  0528881469  Rand McNally 528881469 7-inch Intelliroute TND...   \n",
       "2        2  0594451647  Barnes & Noble HDTV Adapter Kit for NOOK HD an...   \n",
       "3        3  0594481813      Barnes & Noble OV/HB-ADP Universal Power Kit.   \n",
       "4        4  0972683275  VideoSecu 24 Long Arm TV Wall Mount Low Profil...   \n",
       "\n",
       "                                         description               brand  \\\n",
       "0                                                                          \n",
       "1                                                                          \n",
       "2  HDTV Adapter Kit for NOOK HD and NOOK HD+This ...                       \n",
       "3  Power up your device with this Barnes & Noble ...  Barnes &amp; Noble   \n",
       "4  The VideoSecu TV mount is a mounting solution ...           VideoSecu   \n",
       "\n",
       "                                          categories  \\\n",
       "0                                                      \n",
       "1  Electronics,GPS & Navigation,Vehicle GPS,Truck...   \n",
       "2  Electronics,Computers & Accessories,Touch Scre...   \n",
       "3  Electronics,eBook Readers & Accessories,Power ...   \n",
       "4  Electronics,Accessories & Supplies,Audio & Vid...   \n",
       "\n",
       "                                                text  \n",
       "0                                                NaN  \n",
       "1  Rand McNally 528881469 7-inch Intelliroute TND...  \n",
       "2  Barnes & Noble HDTV Adapter Kit for NOOK HD an...  \n",
       "3  Barnes & Noble OV/HB-ADP Universal Power Kit. ...  \n",
       "4  VideoSecu 24 Long Arm TV Wall Mount Low Profil...  "
      ]
     },
     "execution_count": 20,
     "metadata": {},
     "output_type": "execute_result"
    },
    {
     "data": {
      "text/plain": [
       "(62883, 7)"
      ]
     },
     "execution_count": 20,
     "metadata": {},
     "output_type": "execute_result"
    }
   ],
   "source": [
    "pad_item_df = pd.DataFrame({\"item_id\":[0], \"asin\":[\"<pad>\"], \"title\":[\"\"], \"description\":[\"\"], \"brand\":[\"\"], \"categories\":[\"\"]})\n",
    "pad_item_df\n",
    "\n",
    "all_item_df = pd.concat([pad_item_df, item_df],axis=0)\n",
    "all_item_df['item_id'] = all_item_df['item_id'].astype('int')\n",
    "all_item_df = all_item_df.sort_values(by=['item_id'])\n",
    "all_item_df = all_item_df.reset_index(drop=True)\n",
    "\n",
    "all_item_df['item_id'].nunique()\n",
    "all_item_df.head()\n",
    "all_item_df.shape\n",
    "\n",
    "all_item_df.to_pickle('../raw_data/item_info.pkl')"
   ]
  },
  {
   "cell_type": "markdown",
   "metadata": {},
   "source": [
    "## Get User Set"
   ]
  },
  {
   "cell_type": "code",
   "execution_count": 21,
   "metadata": {},
   "outputs": [
    {
     "data": {
      "text/plain": [
       "192403"
      ]
     },
     "execution_count": 21,
     "metadata": {},
     "output_type": "execute_result"
    },
    {
     "data": {
      "text/plain": [
       "192403"
      ]
     },
     "execution_count": 21,
     "metadata": {},
     "output_type": "execute_result"
    },
    {
     "data": {
      "text/plain": [
       "192403"
      ]
     },
     "execution_count": 21,
     "metadata": {},
     "output_type": "execute_result"
    },
    {
     "data": {
      "text/plain": [
       "192403"
      ]
     },
     "execution_count": 21,
     "metadata": {},
     "output_type": "execute_result"
    },
    {
     "data": {
      "text/plain": [
       "192403"
      ]
     },
     "execution_count": 21,
     "metadata": {},
     "output_type": "execute_result"
    }
   ],
   "source": [
    "rec_user_set = set(filter_rec_inter['user_id'].unique())\n",
    "src_user_set = set(filter_merge_src_inter['user_id'].unique())\n",
    "len(rec_user_set)\n",
    "len(src_user_set) \n",
    "len(rec_user_set & src_user_set)\n",
    "len(rec_user_set | src_user_set)\n",
    "\n",
    "all_user_set = list(rec_user_set & src_user_set)\n",
    "len(all_user_set)"
   ]
  },
  {
   "cell_type": "code",
   "execution_count": 22,
   "metadata": {},
   "outputs": [
    {
     "data": {
      "text/html": [
       "<div>\n",
       "<style scoped>\n",
       "    .dataframe tbody tr th:only-of-type {\n",
       "        vertical-align: middle;\n",
       "    }\n",
       "\n",
       "    .dataframe tbody tr th {\n",
       "        vertical-align: top;\n",
       "    }\n",
       "\n",
       "    .dataframe thead th {\n",
       "        text-align: right;\n",
       "    }\n",
       "</style>\n",
       "<table border=\"1\" class=\"dataframe\">\n",
       "  <thead>\n",
       "    <tr style=\"text-align: right;\">\n",
       "      <th></th>\n",
       "      <th>user</th>\n",
       "      <th>user_id</th>\n",
       "    </tr>\n",
       "  </thead>\n",
       "  <tbody>\n",
       "    <tr>\n",
       "      <th>0</th>\n",
       "      <td>A26ITT1SYI2M80</td>\n",
       "      <td>60375</td>\n",
       "    </tr>\n",
       "    <tr>\n",
       "      <th>1</th>\n",
       "      <td>A1Y3TXS72GQQ4W</td>\n",
       "      <td>48445</td>\n",
       "    </tr>\n",
       "    <tr>\n",
       "      <th>2</th>\n",
       "      <td>ATDC6GCUBYPVJ</td>\n",
       "      <td>183215</td>\n",
       "    </tr>\n",
       "    <tr>\n",
       "      <th>3</th>\n",
       "      <td>A1RWIXUIPWK5RS</td>\n",
       "      <td>39731</td>\n",
       "    </tr>\n",
       "    <tr>\n",
       "      <th>4</th>\n",
       "      <td>A2IXJ6Q88KCH2I</td>\n",
       "      <td>77600</td>\n",
       "    </tr>\n",
       "  </tbody>\n",
       "</table>\n",
       "</div>"
      ],
      "text/plain": [
       "             user user_id\n",
       "0  A26ITT1SYI2M80   60375\n",
       "1  A1Y3TXS72GQQ4W   48445\n",
       "2   ATDC6GCUBYPVJ  183215\n",
       "3  A1RWIXUIPWK5RS   39731\n",
       "4  A2IXJ6Q88KCH2I   77600"
      ]
     },
     "execution_count": 22,
     "metadata": {},
     "output_type": "execute_result"
    },
    {
     "data": {
      "text/plain": [
       "(192403, 2)"
      ]
     },
     "execution_count": 22,
     "metadata": {},
     "output_type": "execute_result"
    }
   ],
   "source": [
    "user_info = pd.DataFrame(data=all_user_set, columns=['user'])\n",
    "# user_info.head()\n",
    "\n",
    "user_info = user_info.astype({\"user\":'category'})\n",
    "id2user = user_info['user'].cat.categories.to_list()\n",
    "# id2user[0]\n",
    "user2id = {id2user[k]:k for k in range(len(id2user))}\n",
    "\n",
    "user_info['user_id'] = user_info['user'].map(user2id)\n",
    "user_info.head()\n",
    "user_info.shape"
   ]
  },
  {
   "cell_type": "code",
   "execution_count": 23,
   "metadata": {},
   "outputs": [
    {
     "data": {
      "text/plain": [
       "(1684135, 4)"
      ]
     },
     "execution_count": 23,
     "metadata": {},
     "output_type": "execute_result"
    },
    {
     "data": {
      "text/plain": [
       "(1275989, 6)"
      ]
     },
     "execution_count": 23,
     "metadata": {},
     "output_type": "execute_result"
    }
   ],
   "source": [
    "filter_rec_inter = filter_rec_inter[filter_rec_inter['user_id'].isin(all_user_set)].reset_index(drop=True)\n",
    "filter_rec_inter.shape\n",
    "\n",
    "filter_merge_src_inter = filter_merge_src_inter[filter_merge_src_inter['user_id'].isin(all_user_set)].reset_index(drop=True)\n",
    "filter_merge_src_inter.shape"
   ]
  },
  {
   "cell_type": "markdown",
   "metadata": {},
   "source": [
    "## Map user/item to ID"
   ]
  },
  {
   "cell_type": "code",
   "execution_count": 24,
   "metadata": {},
   "outputs": [
    {
     "data": {
      "text/html": [
       "<div>\n",
       "<style scoped>\n",
       "    .dataframe tbody tr th:only-of-type {\n",
       "        vertical-align: middle;\n",
       "    }\n",
       "\n",
       "    .dataframe tbody tr th {\n",
       "        vertical-align: top;\n",
       "    }\n",
       "\n",
       "    .dataframe thead th {\n",
       "        text-align: right;\n",
       "    }\n",
       "</style>\n",
       "<table border=\"1\" class=\"dataframe\">\n",
       "  <thead>\n",
       "    <tr style=\"text-align: right;\">\n",
       "      <th></th>\n",
       "      <th>user_id</th>\n",
       "      <th>item_id</th>\n",
       "      <th>score</th>\n",
       "      <th>ts</th>\n",
       "    </tr>\n",
       "  </thead>\n",
       "  <tbody>\n",
       "    <tr>\n",
       "      <th>0</th>\n",
       "      <td>0</td>\n",
       "      <td>13169</td>\n",
       "      <td>1.0</td>\n",
       "      <td>1400457600</td>\n",
       "    </tr>\n",
       "    <tr>\n",
       "      <th>1</th>\n",
       "      <td>0</td>\n",
       "      <td>17983</td>\n",
       "      <td>5.0</td>\n",
       "      <td>1400457600</td>\n",
       "    </tr>\n",
       "    <tr>\n",
       "      <th>2</th>\n",
       "      <td>0</td>\n",
       "      <td>28305</td>\n",
       "      <td>3.0</td>\n",
       "      <td>1400457600</td>\n",
       "    </tr>\n",
       "    <tr>\n",
       "      <th>3</th>\n",
       "      <td>0</td>\n",
       "      <td>29220</td>\n",
       "      <td>2.0</td>\n",
       "      <td>1400457600</td>\n",
       "    </tr>\n",
       "    <tr>\n",
       "      <th>4</th>\n",
       "      <td>0</td>\n",
       "      <td>62158</td>\n",
       "      <td>5.0</td>\n",
       "      <td>1400457600</td>\n",
       "    </tr>\n",
       "  </tbody>\n",
       "</table>\n",
       "</div>"
      ],
      "text/plain": [
       "   user_id  item_id  score          ts\n",
       "0        0    13169    1.0  1400457600\n",
       "1        0    17983    5.0  1400457600\n",
       "2        0    28305    3.0  1400457600\n",
       "3        0    29220    2.0  1400457600\n",
       "4        0    62158    5.0  1400457600"
      ]
     },
     "execution_count": 24,
     "metadata": {},
     "output_type": "execute_result"
    },
    {
     "data": {
      "text/plain": [
       "(1684135, 4)"
      ]
     },
     "execution_count": 24,
     "metadata": {},
     "output_type": "execute_result"
    }
   ],
   "source": [
    "filter_rec_inter['user_id'] = filter_rec_inter['user_id'].map(user2id)\n",
    "filter_rec_inter['item_id'] = filter_rec_inter['item_id'].map(item2id)\n",
    "filter_rec_inter.head()\n",
    "filter_rec_inter.shape"
   ]
  },
  {
   "cell_type": "code",
   "execution_count": 25,
   "metadata": {},
   "outputs": [
    {
     "data": {
      "text/html": [
       "<div>\n",
       "<style scoped>\n",
       "    .dataframe tbody tr th:only-of-type {\n",
       "        vertical-align: middle;\n",
       "    }\n",
       "\n",
       "    .dataframe tbody tr th {\n",
       "        vertical-align: top;\n",
       "    }\n",
       "\n",
       "    .dataframe thead th {\n",
       "        text-align: right;\n",
       "    }\n",
       "</style>\n",
       "<table border=\"1\" class=\"dataframe\">\n",
       "  <thead>\n",
       "    <tr style=\"text-align: right;\">\n",
       "      <th></th>\n",
       "      <th>user_id</th>\n",
       "      <th>item_id</th>\n",
       "      <th>score</th>\n",
       "      <th>ts</th>\n",
       "      <th>query_id</th>\n",
       "      <th>label</th>\n",
       "    </tr>\n",
       "  </thead>\n",
       "  <tbody>\n",
       "    <tr>\n",
       "      <th>0</th>\n",
       "      <td>0</td>\n",
       "      <td>13169</td>\n",
       "      <td>1.0</td>\n",
       "      <td>1400457600</td>\n",
       "      <td>433</td>\n",
       "      <td>1</td>\n",
       "    </tr>\n",
       "    <tr>\n",
       "      <th>1</th>\n",
       "      <td>0</td>\n",
       "      <td>17983</td>\n",
       "      <td>5.0</td>\n",
       "      <td>1400457600</td>\n",
       "      <td>834</td>\n",
       "      <td>1</td>\n",
       "    </tr>\n",
       "    <tr>\n",
       "      <th>2</th>\n",
       "      <td>0</td>\n",
       "      <td>29220</td>\n",
       "      <td>2.0</td>\n",
       "      <td>1400457600</td>\n",
       "      <td>22</td>\n",
       "      <td>1</td>\n",
       "    </tr>\n",
       "    <tr>\n",
       "      <th>3</th>\n",
       "      <td>0</td>\n",
       "      <td>62158</td>\n",
       "      <td>5.0</td>\n",
       "      <td>1400457600</td>\n",
       "      <td>104</td>\n",
       "      <td>1</td>\n",
       "    </tr>\n",
       "    <tr>\n",
       "      <th>4</th>\n",
       "      <td>1</td>\n",
       "      <td>58032</td>\n",
       "      <td>5.0</td>\n",
       "      <td>1379548800</td>\n",
       "      <td>57</td>\n",
       "      <td>1</td>\n",
       "    </tr>\n",
       "  </tbody>\n",
       "</table>\n",
       "</div>"
      ],
      "text/plain": [
       "   user_id  item_id  score          ts  query_id label\n",
       "0        0    13169    1.0  1400457600       433     1\n",
       "1        0    17983    5.0  1400457600       834     1\n",
       "2        0    29220    2.0  1400457600        22     1\n",
       "3        0    62158    5.0  1400457600       104     1\n",
       "4        1    58032    5.0  1379548800        57     1"
      ]
     },
     "execution_count": 25,
     "metadata": {},
     "output_type": "execute_result"
    },
    {
     "data": {
      "text/plain": [
       "(1275989, 6)"
      ]
     },
     "execution_count": 25,
     "metadata": {},
     "output_type": "execute_result"
    }
   ],
   "source": [
    "filter_merge_src_inter['user_id'] = filter_merge_src_inter['user_id'].map(user2id)\n",
    "filter_merge_src_inter['item_id'] = filter_merge_src_inter['item_id'].map(item2id)\n",
    "filter_merge_src_inter.head()\n",
    "filter_merge_src_inter.shape"
   ]
  },
  {
   "cell_type": "markdown",
   "metadata": {},
   "source": [
    "## Get Src Session"
   ]
  },
  {
   "cell_type": "code",
   "execution_count": 26,
   "metadata": {},
   "outputs": [
    {
     "name": "stderr",
     "output_type": "stream",
     "text": [
      "989it [00:00, 393713.62it/s]\n"
     ]
    }
   ],
   "source": [
    "query_text = []\n",
    "with gzip.open('../orig_data/query_text.txt.gz') as f:\n",
    "    for l in tqdm(f):\n",
    "        query_text.append(l.strip().decode())"
   ]
  },
  {
   "cell_type": "code",
   "execution_count": 27,
   "metadata": {},
   "outputs": [
    {
     "name": "stderr",
     "output_type": "stream",
     "text": [
      "1275989it [02:15, 9419.36it/s] \n"
     ]
    },
    {
     "data": {
      "text/html": [
       "<div>\n",
       "<style scoped>\n",
       "    .dataframe tbody tr th:only-of-type {\n",
       "        vertical-align: middle;\n",
       "    }\n",
       "\n",
       "    .dataframe tbody tr th {\n",
       "        vertical-align: top;\n",
       "    }\n",
       "\n",
       "    .dataframe thead th {\n",
       "        text-align: right;\n",
       "    }\n",
       "</style>\n",
       "<table border=\"1\" class=\"dataframe\">\n",
       "  <thead>\n",
       "    <tr style=\"text-align: right;\">\n",
       "      <th></th>\n",
       "      <th>search_session_id</th>\n",
       "      <th>pos_items</th>\n",
       "      <th>keyword</th>\n",
       "      <th>query_id</th>\n",
       "      <th>click_list</th>\n",
       "      <th>time_list</th>\n",
       "    </tr>\n",
       "  </thead>\n",
       "  <tbody>\n",
       "    <tr>\n",
       "      <th>0</th>\n",
       "      <td>1</td>\n",
       "      <td>[13169]</td>\n",
       "      <td>[1, 2, 3, 4, 5, 6]</td>\n",
       "      <td>1</td>\n",
       "      <td>[1]</td>\n",
       "      <td>[1400457600]</td>\n",
       "    </tr>\n",
       "    <tr>\n",
       "      <th>1</th>\n",
       "      <td>2</td>\n",
       "      <td>[17983]</td>\n",
       "      <td>[3, 7, 8, 9, 10, 11, 4, 12, 13]</td>\n",
       "      <td>2</td>\n",
       "      <td>[1]</td>\n",
       "      <td>[1400457600]</td>\n",
       "    </tr>\n",
       "    <tr>\n",
       "      <th>2</th>\n",
       "      <td>3</td>\n",
       "      <td>[29220]</td>\n",
       "      <td>[3, 1, 8, 4, 14, 9, 15, 16]</td>\n",
       "      <td>3</td>\n",
       "      <td>[1]</td>\n",
       "      <td>[1400457600]</td>\n",
       "    </tr>\n",
       "    <tr>\n",
       "      <th>3</th>\n",
       "      <td>4</td>\n",
       "      <td>[62158]</td>\n",
       "      <td>[3, 17, 18, 19, 20]</td>\n",
       "      <td>4</td>\n",
       "      <td>[1]</td>\n",
       "      <td>[1400457600]</td>\n",
       "    </tr>\n",
       "    <tr>\n",
       "      <th>4</th>\n",
       "      <td>5</td>\n",
       "      <td>[58032]</td>\n",
       "      <td>[3, 21, 4, 22]</td>\n",
       "      <td>5</td>\n",
       "      <td>[1]</td>\n",
       "      <td>[1379548800]</td>\n",
       "    </tr>\n",
       "  </tbody>\n",
       "</table>\n",
       "</div>"
      ],
      "text/plain": [
       "   search_session_id pos_items                          keyword  query_id  \\\n",
       "0                  1   [13169]               [1, 2, 3, 4, 5, 6]         1   \n",
       "1                  2   [17983]  [3, 7, 8, 9, 10, 11, 4, 12, 13]         2   \n",
       "2                  3   [29220]      [3, 1, 8, 4, 14, 9, 15, 16]         3   \n",
       "3                  4   [62158]              [3, 17, 18, 19, 20]         4   \n",
       "4                  5   [58032]                   [3, 21, 4, 22]         5   \n",
       "\n",
       "  click_list     time_list  \n",
       "0        [1]  [1400457600]  \n",
       "1        [1]  [1400457600]  \n",
       "2        [1]  [1400457600]  \n",
       "3        [1]  [1400457600]  \n",
       "4        [1]  [1379548800]  "
      ]
     },
     "execution_count": 27,
     "metadata": {},
     "output_type": "execute_result"
    },
    {
     "data": {
      "text/plain": [
       "(1275989, 6)"
      ]
     },
     "execution_count": 27,
     "metadata": {},
     "output_type": "execute_result"
    },
    {
     "data": {
      "text/html": [
       "<div>\n",
       "<style scoped>\n",
       "    .dataframe tbody tr th:only-of-type {\n",
       "        vertical-align: middle;\n",
       "    }\n",
       "\n",
       "    .dataframe tbody tr th {\n",
       "        vertical-align: top;\n",
       "    }\n",
       "\n",
       "    .dataframe thead th {\n",
       "        text-align: right;\n",
       "    }\n",
       "</style>\n",
       "<table border=\"1\" class=\"dataframe\">\n",
       "  <thead>\n",
       "    <tr style=\"text-align: right;\">\n",
       "      <th></th>\n",
       "      <th>user_id</th>\n",
       "      <th>item_id</th>\n",
       "      <th>search_session_id</th>\n",
       "      <th>ts</th>\n",
       "      <th>keyword</th>\n",
       "      <th>query_id</th>\n",
       "    </tr>\n",
       "  </thead>\n",
       "  <tbody>\n",
       "    <tr>\n",
       "      <th>0</th>\n",
       "      <td>0</td>\n",
       "      <td>13169</td>\n",
       "      <td>1</td>\n",
       "      <td>1400457600</td>\n",
       "      <td>[1, 2, 3, 4, 5, 6]</td>\n",
       "      <td>1</td>\n",
       "    </tr>\n",
       "    <tr>\n",
       "      <th>1</th>\n",
       "      <td>0</td>\n",
       "      <td>17983</td>\n",
       "      <td>2</td>\n",
       "      <td>1400457600</td>\n",
       "      <td>[3, 7, 8, 9, 10, 11, 4, 12, 13]</td>\n",
       "      <td>2</td>\n",
       "    </tr>\n",
       "    <tr>\n",
       "      <th>2</th>\n",
       "      <td>0</td>\n",
       "      <td>29220</td>\n",
       "      <td>3</td>\n",
       "      <td>1400457600</td>\n",
       "      <td>[3, 1, 8, 4, 14, 9, 15, 16]</td>\n",
       "      <td>3</td>\n",
       "    </tr>\n",
       "    <tr>\n",
       "      <th>3</th>\n",
       "      <td>0</td>\n",
       "      <td>62158</td>\n",
       "      <td>4</td>\n",
       "      <td>1400457600</td>\n",
       "      <td>[3, 17, 18, 19, 20]</td>\n",
       "      <td>4</td>\n",
       "    </tr>\n",
       "    <tr>\n",
       "      <th>4</th>\n",
       "      <td>1</td>\n",
       "      <td>58032</td>\n",
       "      <td>5</td>\n",
       "      <td>1379548800</td>\n",
       "      <td>[3, 21, 4, 22]</td>\n",
       "      <td>5</td>\n",
       "    </tr>\n",
       "  </tbody>\n",
       "</table>\n",
       "</div>"
      ],
      "text/plain": [
       "   user_id  item_id  search_session_id          ts  \\\n",
       "0        0    13169                  1  1400457600   \n",
       "1        0    17983                  2  1400457600   \n",
       "2        0    29220                  3  1400457600   \n",
       "3        0    62158                  4  1400457600   \n",
       "4        1    58032                  5  1379548800   \n",
       "\n",
       "                           keyword  query_id  \n",
       "0               [1, 2, 3, 4, 5, 6]         1  \n",
       "1  [3, 7, 8, 9, 10, 11, 4, 12, 13]         2  \n",
       "2      [3, 1, 8, 4, 14, 9, 15, 16]         3  \n",
       "3              [3, 17, 18, 19, 20]         4  \n",
       "4                   [3, 21, 4, 22]         5  "
      ]
     },
     "execution_count": 27,
     "metadata": {},
     "output_type": "execute_result"
    },
    {
     "data": {
      "text/plain": [
       "(1275989, 6)"
      ]
     },
     "execution_count": 27,
     "metadata": {},
     "output_type": "execute_result"
    }
   ],
   "source": [
    "word2id = {'<pad>': 0}\n",
    "id2word = ['<pad>']\n",
    "\n",
    "query2id = {'<pad>': 0}\n",
    "id2query = [{\"query\":\"<pad>\", \"words\":[\"<pad>\"], \"words_id\":[0]}]\n",
    "\n",
    "session_idx = 0\n",
    "\n",
    "search_session_info_list = []\n",
    "src_inter_list = []\n",
    "for _, line in tqdm(filter_merge_src_inter.iterrows()):\n",
    "    session_idx += 1\n",
    "\n",
    "    user_id = line['user_id']\n",
    "    session_id = session_idx\n",
    "    click_item_ls = [line['item_id']]\n",
    "    this_ts = line['ts']\n",
    "    \n",
    "    query = query_text[line['query_id']]\n",
    "    query_words = query.split(' ')\n",
    "\n",
    "    for word in query_words:\n",
    "        if word not in word2id.keys():\n",
    "            word2id[word] = len(word2id)\n",
    "            id2word.append(word)\n",
    "    \n",
    "    query_words_id = [word2id[x] for x in query_words]\n",
    "\n",
    "    if query not in query2id.keys():\n",
    "        query2id[query] = len(query2id)\n",
    "        id2query.append({\"query\":query, \n",
    "                         \"words\":query_words, \n",
    "                         \"words_id\":query_words_id})\n",
    "        \n",
    "\n",
    "    search_session_info_list.append({\n",
    "        \"search_session_id\": session_id,\n",
    "        \"pos_items\": click_item_ls,\n",
    "        \"keyword\": query_words_id,\n",
    "        'query_id':query2id[query],\n",
    "        'click_list':[1],\n",
    "        'time_list':[this_ts]\n",
    "    })\n",
    "\n",
    "    src_inter_list.append({\n",
    "        \"user_id\": user_id,\n",
    "        \"item_id\": click_item_ls[0],\n",
    "        \"search_session_id\": session_id,\n",
    "        \"ts\": this_ts,\n",
    "        \"keyword\": query_words_id,\n",
    "        'query_id':query2id[query]\n",
    "    })\n",
    "\n",
    "    \n",
    "search_session_info = pd.DataFrame(search_session_info_list)\n",
    "search_session_info.head()\n",
    "search_session_info.shape\n",
    "\n",
    "src_inter = pd.DataFrame(src_inter_list)\n",
    "src_inter.head()\n",
    "src_inter.shape"
   ]
  },
  {
   "cell_type": "code",
   "execution_count": 28,
   "metadata": {},
   "outputs": [
    {
     "data": {
      "text/plain": [
       "{'query': '<pad>', 'words': ['<pad>'], 'words_id': [0]}"
      ]
     },
     "execution_count": 28,
     "metadata": {},
     "output_type": "execute_result"
    },
    {
     "data": {
      "text/plain": [
       "{'query': 'supplies office electronics accessory projection screen',\n",
       " 'words': ['supplies',\n",
       "  'office',\n",
       "  'electronics',\n",
       "  'accessory',\n",
       "  'projection',\n",
       "  'screen'],\n",
       " 'words_id': [1, 2, 3, 4, 5, 6]}"
      ]
     },
     "execution_count": 28,
     "metadata": {},
     "output_type": "execute_result"
    },
    {
     "data": {
      "text/plain": [
       "'<pad>'"
      ]
     },
     "execution_count": 28,
     "metadata": {},
     "output_type": "execute_result"
    },
    {
     "data": {
      "text/plain": [
       "'supplies'"
      ]
     },
     "execution_count": 28,
     "metadata": {},
     "output_type": "execute_result"
    }
   ],
   "source": [
    "id2query[0]\n",
    "id2query[1]\n",
    "\n",
    "id2word[0]\n",
    "id2word[1]"
   ]
  },
  {
   "cell_type": "markdown",
   "metadata": {},
   "source": [
    "## Save Data"
   ]
  },
  {
   "cell_type": "code",
   "execution_count": 29,
   "metadata": {},
   "outputs": [],
   "source": [
    "filter_rec_inter.to_pickle(\"../raw_data/rec_inter.pkl\")"
   ]
  },
  {
   "cell_type": "code",
   "execution_count": 30,
   "metadata": {},
   "outputs": [],
   "source": [
    "src_inter.to_pickle('../raw_data/src_inter.pkl')\n",
    "search_session_info.to_pickle('../raw_data/session_info.pkl')"
   ]
  },
  {
   "cell_type": "code",
   "execution_count": 31,
   "metadata": {},
   "outputs": [],
   "source": [
    "user_info.to_pickle('../raw_data/user_profile.pkl')\n",
    "all_item_df.to_pickle('../raw_data/item_info.pkl')"
   ]
  },
  {
   "cell_type": "code",
   "execution_count": 32,
   "metadata": {},
   "outputs": [],
   "source": [
    "pickle.dump(id2query, open(\"../vocab/query_vocab.pkl\",'wb'))\n",
    "pickle.dump(id2word, open(\"../vocab/word_vocab.pkl\",'wb'))"
   ]
  },
  {
   "cell_type": "code",
   "execution_count": null,
   "metadata": {},
   "outputs": [],
   "source": []
  }
 ],
 "metadata": {
  "kernelspec": {
   "display_name": "LLM_SAR",
   "language": "python",
   "name": "llm_sar"
  },
  "language_info": {
   "codemirror_mode": {
    "name": "ipython",
    "version": 3
   },
   "file_extension": ".py",
   "mimetype": "text/x-python",
   "name": "python",
   "nbconvert_exporter": "python",
   "pygments_lexer": "ipython3",
   "version": "3.10.15"
  }
 },
 "nbformat": 4,
 "nbformat_minor": 4
}
